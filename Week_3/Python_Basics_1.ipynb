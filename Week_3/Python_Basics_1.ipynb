{
 "cells": [
  {
   "cell_type": "markdown",
   "id": "721e8e09",
   "metadata": {
    "id": "721e8e09",
    "slideshow": {
     "slide_type": "slide"
    }
   },
   "source": [
    "# Lighthouse Labs\n",
    "## W03D4 Python Basics 1\n",
    "Instructor: Najeeb Khan\n",
    "\n",
    "Original Notebook by: Alibek Kruglikov"
   ]
  },
  {
   "cell_type": "markdown",
   "id": "f3b9ef84",
   "metadata": {
    "id": "f3b9ef84",
    "slideshow": {
     "slide_type": "slide"
    }
   },
   "source": [
    "## Agenda\n",
    "\n",
    "- Syntax\n",
    "- Data Types\n",
    "- For Loops\n",
    "- While Loops\n",
    "- Control Flow (If and Else Statements)\n"
   ]
  },
  {
   "cell_type": "markdown",
   "id": "c8d5f940",
   "metadata": {
    "id": "c8d5f940",
    "slideshow": {
     "slide_type": "slide"
    }
   },
   "source": [
    "### Whitespace\n",
    "- Python programs are organized with one statement per line.\n",
    "- Each statement occupies one line, and is separated by a line break\n",
    "- Some code blocks (loops, functions, etc) are created with indents\n"
   ]
  },
  {
   "cell_type": "markdown",
   "id": "d0076afb",
   "metadata": {
    "id": "d0076afb",
    "slideshow": {
     "slide_type": "slide"
    }
   },
   "source": [
    "#### Separating statements\n",
    "\n",
    "```MySQL\n",
    "SELECT *\n",
    "FROM order_details;\n",
    "\n",
    "SELECT *\n",
    "FROM clients;\n",
    "```\n",
    "\n",
    "\n",
    "Python uses **line breaks**:\n",
    "```python\n",
    "# addition\n",
    "add = 5 + 6\n",
    "# subtraction\n",
    "sub = 1 - 2\n",
    "```\n"
   ]
  },
  {
   "cell_type": "markdown",
   "id": "f7476cc8",
   "metadata": {
    "id": "f7476cc8",
    "slideshow": {
     "slide_type": "slide"
    }
   },
   "source": [
    "#### Code blocks/functions\n",
    "javascript uses braces (curly brackets):\n",
    "```javascript\n",
    "function mult(num1, num2) {\n",
    "  return num1 * num2;\n",
    "}\n",
    "```\n",
    "\n",
    "python uses **indents**:\n",
    "```python\n",
    "def mult(num1, num2):\n",
    "    return num1 * num2\n",
    "```"
   ]
  },
  {
   "cell_type": "markdown",
   "id": "55f2aa64",
   "metadata": {
    "id": "55f2aa64",
    "slideshow": {
     "slide_type": "slide"
    }
   },
   "source": [
    "### Variables\n",
    "\n",
    "- Variables are names that we give to objects.\n",
    "\n",
    "**Why use Variables?**\n",
    "- Helps organize our code\n",
    "- Store Data\n",
    "- Reuse data again and again"
   ]
  },
  {
   "cell_type": "code",
   "execution_count": 1,
   "id": "b6f98cf0",
   "metadata": {
    "id": "b6f98cf0",
    "slideshow": {
     "slide_type": "fragment"
    }
   },
   "outputs": [],
   "source": [
    "var_info = 'variables hold data. assign them with the = sign'"
   ]
  },
  {
   "cell_type": "markdown",
   "id": "c30a22ad",
   "metadata": {
    "id": "c30a22ad",
    "slideshow": {
     "slide_type": "slide"
    }
   },
   "source": [
    "### Built in Data Types - Values and Objects\n",
    "\n",
    "We will been working with values, which are pieces of data that a computer program works with, such as a number or text.\n",
    "We will assign a lot of these values to objects (variables) with the assignment operator `=`.\n",
    "These values will always belong to a data type\n",
    "\n",
    "\n",
    "Here are some data types built-in to the Python language:\n",
    "\n",
    "* Integers - `int`\n",
    "* Floating-point numbers - `float`\n",
    "* Strings - `str`\n",
    "* Booleans - `bool` - two values: True and False.\n",
    "* Lists - `list`\n",
    "* Tuples - `tuple`\n",
    "* Sets - `set`\n",
    "* Dictionaries - `dict`\n",
    "\n",
    "\n",
    "\n"
   ]
  },
  {
   "cell_type": "markdown",
   "id": "3hxoCpGA3UfZ",
   "metadata": {
    "id": "3hxoCpGA3UfZ",
    "slideshow": {
     "slide_type": "slide"
    }
   },
   "source": [
    "![image](https://miro.medium.com/v2/resize:fit:1134/1*WMiNIQ9THariDSJw47uU1w.png)"
   ]
  },
  {
   "cell_type": "markdown",
   "id": "7863f294",
   "metadata": {
    "id": "7863f294",
    "slideshow": {
     "slide_type": "slide"
    }
   },
   "source": [
    "### Integers & Floats"
   ]
  },
  {
   "cell_type": "code",
   "execution_count": 2,
   "id": "56fe21d7",
   "metadata": {
    "id": "56fe21d7",
    "slideshow": {
     "slide_type": "fragment"
    }
   },
   "outputs": [],
   "source": [
    "a = 4"
   ]
  },
  {
   "cell_type": "code",
   "execution_count": 3,
   "id": "dc736a8f",
   "metadata": {
    "id": "dc736a8f",
    "slideshow": {
     "slide_type": "fragment"
    }
   },
   "outputs": [],
   "source": [
    "b = 4.0"
   ]
  },
  {
   "cell_type": "code",
   "execution_count": 4,
   "id": "b3c89d8a",
   "metadata": {
    "colab": {
     "base_uri": "https://localhost:8080/"
    },
    "id": "b3c89d8a",
    "outputId": "bfd44d34-c6d0-4352-8a3c-d0e3646d38db",
    "slideshow": {
     "slide_type": "fragment"
    }
   },
   "outputs": [
    {
     "data": {
      "text/plain": [
       "float"
      ]
     },
     "execution_count": 4,
     "metadata": {},
     "output_type": "execute_result"
    }
   ],
   "source": [
    "# usethe type() function to check the type of an object\n",
    "type(5.765)"
   ]
  },
  {
   "cell_type": "markdown",
   "id": "0b0c5b2c",
   "metadata": {
    "id": "0b0c5b2c",
    "slideshow": {
     "slide_type": "slide"
    }
   },
   "source": [
    "### Arithmetic with variables"
   ]
  },
  {
   "cell_type": "code",
   "execution_count": 5,
   "id": "0f7087ff",
   "metadata": {
    "id": "0f7087ff",
    "slideshow": {
     "slide_type": "fragment"
    }
   },
   "outputs": [],
   "source": [
    "a = -2\n",
    "b = 12.9\n",
    "\n",
    "# Arithmetic\n",
    "c = a + 1    # Arithmetic with literals and variables\n",
    "c = a + b    # Arithmetic with just variables\n",
    "c = c + a    # c becomes its old value + a\n",
    "c = a - b    # Subtraction\n",
    "c = a * b    # Multiplication\n",
    "c = b / a    # Division\n",
    "c = (a + b) * 2 - a    # Compound calculations - PEMDAS\n",
    "c = b // a   # floor division\n",
    "c = a ** b   # exponents"
   ]
  },
  {
   "cell_type": "code",
   "execution_count": 6,
   "id": "a66dec2c",
   "metadata": {
    "colab": {
     "base_uri": "https://localhost:8080/"
    },
    "id": "a66dec2c",
    "outputId": "fb4ce225-bdb7-46c8-fa62-061d980162e5",
    "slideshow": {
     "slide_type": "slide"
    }
   },
   "outputs": [
    {
     "data": {
      "text/plain": [
       "8.19"
      ]
     },
     "execution_count": 6,
     "metadata": {},
     "output_type": "execute_result"
    }
   ],
   "source": [
    "# Functions on numbers\n",
    "c = round(8.187, 2)    # Round up to the second decimal point\n",
    "c"
   ]
  },
  {
   "cell_type": "code",
   "execution_count": 7,
   "id": "52f10852",
   "metadata": {
    "colab": {
     "base_uri": "https://localhost:8080/"
    },
    "id": "52f10852",
    "outputId": "ddc760a8-3ea4-4ad3-e267-4f325bd0207e",
    "slideshow": {
     "slide_type": "fragment"
    }
   },
   "outputs": [
    {
     "data": {
      "text/plain": [
       "6"
      ]
     },
     "execution_count": 7,
     "metadata": {},
     "output_type": "execute_result"
    }
   ],
   "source": [
    "# Floor division\n",
    "\n",
    "# 13/2 = 6.5\n",
    "\n",
    "13//2"
   ]
  },
  {
   "cell_type": "code",
   "execution_count": 8,
   "id": "uVbfO5Fv5hIJ",
   "metadata": {
    "colab": {
     "base_uri": "https://localhost:8080/"
    },
    "id": "uVbfO5Fv5hIJ",
    "outputId": "a43271e4-06fc-4f87-c378-7eb882f1b930",
    "slideshow": {
     "slide_type": "fragment"
    }
   },
   "outputs": [
    {
     "data": {
      "text/plain": [
       "1"
      ]
     },
     "execution_count": 8,
     "metadata": {},
     "output_type": "execute_result"
    }
   ],
   "source": [
    "# modulo: returns the remaining from division\n",
    "13%2"
   ]
  },
  {
   "cell_type": "markdown",
   "id": "996dd237",
   "metadata": {
    "id": "996dd237",
    "slideshow": {
     "slide_type": "slide"
    }
   },
   "source": [
    "#### Type Casting ints and floats"
   ]
  },
  {
   "cell_type": "code",
   "execution_count": 9,
   "id": "63d07b45",
   "metadata": {
    "colab": {
     "base_uri": "https://localhost:8080/"
    },
    "id": "63d07b45",
    "outputId": "c188f2be-3891-494f-bdf4-b6bccd54a463",
    "slideshow": {
     "slide_type": "fragment"
    }
   },
   "outputs": [
    {
     "data": {
      "text/plain": [
       "float"
      ]
     },
     "execution_count": 9,
     "metadata": {},
     "output_type": "execute_result"
    }
   ],
   "source": [
    "# cast int to float\n",
    "type(float(4))"
   ]
  },
  {
   "cell_type": "code",
   "execution_count": 10,
   "id": "c2041e61",
   "metadata": {
    "colab": {
     "base_uri": "https://localhost:8080/"
    },
    "id": "c2041e61",
    "outputId": "c5f1aa4c-db16-4401-a09c-e51c7956db64",
    "slideshow": {
     "slide_type": "fragment"
    }
   },
   "outputs": [
    {
     "data": {
      "text/plain": [
       "8"
      ]
     },
     "execution_count": 10,
     "metadata": {},
     "output_type": "execute_result"
    }
   ],
   "source": [
    "# cast float to int\n",
    "int(8.9)"
   ]
  },
  {
   "cell_type": "code",
   "execution_count": 11,
   "id": "qEuE-N9U6KVk",
   "metadata": {
    "colab": {
     "base_uri": "https://localhost:8080/"
    },
    "id": "qEuE-N9U6KVk",
    "outputId": "2371c0dd-5494-48f5-9344-4c7d64e09d46",
    "slideshow": {
     "slide_type": "fragment"
    }
   },
   "outputs": [
    {
     "data": {
      "text/plain": [
       "9.0"
      ]
     },
     "execution_count": 11,
     "metadata": {},
     "output_type": "execute_result"
    }
   ],
   "source": [
    "float(9)"
   ]
  },
  {
   "cell_type": "code",
   "execution_count": 12,
   "id": "dDeoViCG6uYz",
   "metadata": {
    "colab": {
     "base_uri": "https://localhost:8080/"
    },
    "id": "dDeoViCG6uYz",
    "outputId": "64d0f692-f814-4e5e-b26d-3a34ea6062b0",
    "slideshow": {
     "slide_type": "fragment"
    }
   },
   "outputs": [
    {
     "data": {
      "text/plain": [
       "9.001"
      ]
     },
     "execution_count": 12,
     "metadata": {},
     "output_type": "execute_result"
    }
   ],
   "source": [
    "round(9.001234,3)"
   ]
  },
  {
   "cell_type": "markdown",
   "id": "8085d0da",
   "metadata": {
    "id": "8085d0da",
    "slideshow": {
     "slide_type": "slide"
    }
   },
   "source": [
    "### Strings"
   ]
  },
  {
   "cell_type": "code",
   "execution_count": 13,
   "id": "282e99ef",
   "metadata": {
    "id": "282e99ef",
    "slideshow": {
     "slide_type": "fragment"
    }
   },
   "outputs": [],
   "source": [
    "text = 'he said \"hello\"'"
   ]
  },
  {
   "cell_type": "code",
   "execution_count": 14,
   "id": "6ca99dbf",
   "metadata": {
    "colab": {
     "base_uri": "https://localhost:8080/"
    },
    "id": "6ca99dbf",
    "outputId": "866a544b-270c-44c8-9676-182354d42a44",
    "slideshow": {
     "slide_type": "fragment"
    }
   },
   "outputs": [
    {
     "name": "stdout",
     "output_type": "stream",
     "text": [
      "he said \"hello\"\n"
     ]
    }
   ],
   "source": [
    "print(text)"
   ]
  },
  {
   "cell_type": "code",
   "execution_count": 15,
   "id": "2532327b",
   "metadata": {
    "id": "2532327b",
    "slideshow": {
     "slide_type": "fragment"
    }
   },
   "outputs": [],
   "source": [
    "# multi line text\n",
    "\n",
    "text = \"\"\"\n",
    "he\n",
    "said\n",
    "'hello'\n",
    "\"\"\""
   ]
  },
  {
   "cell_type": "code",
   "execution_count": 16,
   "id": "f78f4c37",
   "metadata": {
    "id": "f78f4c37",
    "outputId": "4d831b92-f65f-4c36-8f50-18f6a6da2305",
    "slideshow": {
     "slide_type": "fragment"
    }
   },
   "outputs": [
    {
     "name": "stdout",
     "output_type": "stream",
     "text": [
      "\n",
      "he\n",
      "said\n",
      "'hello'\n",
      "\n"
     ]
    }
   ],
   "source": [
    "print(text)"
   ]
  },
  {
   "cell_type": "code",
   "execution_count": 17,
   "id": "3f5d27bb",
   "metadata": {
    "colab": {
     "base_uri": "https://localhost:8080/"
    },
    "id": "3f5d27bb",
    "outputId": "551674d9-f811-429d-e711-d2fac5da2ba7",
    "slideshow": {
     "slide_type": "slide"
    }
   },
   "outputs": [],
   "source": [
    "# Strings are a sequence of symbols in quotes\n",
    "# Without the quotes, Python tries to interpret text as variable names\n",
    "a = \"IMAGINATION is more important than knowledge\"\n",
    "\n",
    "\n",
    "# Strings can contain any symbols, not just letters\n",
    "b = 'The Meaning of Life is 42.'\n",
    "\n",
    "c = '''this\n",
    "is a\n",
    "multiline'''\n",
    "# single, double, triple single, and triple double quotes"
   ]
  },
  {
   "cell_type": "code",
   "execution_count": 18,
   "id": "fcf1aa78",
   "metadata": {
    "slideshow": {
     "slide_type": "fragment"
    }
   },
   "outputs": [],
   "source": [
    "# Concatenation (combining)\n",
    "d = a + \", but not as important as learning to code\"\n",
    "\n",
    "# Functions on strings\n",
    "# Note: these functions don't change the original variables.\n",
    "# They return copies with the function applied\n",
    "e = b.upper()\n",
    "f = b.lower()\n",
    "g = c.capitalize()"
   ]
  },
  {
   "cell_type": "code",
   "execution_count": 19,
   "id": "3b1f25f1",
   "metadata": {
    "colab": {
     "base_uri": "https://localhost:8080/"
    },
    "id": "3b1f25f1",
    "outputId": "5802f7b6-bbd8-44ae-987a-d288c99a4e2a"
   },
   "outputs": [
    {
     "name": "stdout",
     "output_type": "stream",
     "text": [
      "Hello, my name is alibek. i am a data scientist\n"
     ]
    }
   ],
   "source": [
    "print('Hello, my name is Alibek. I am a Data Scientist'.capitalize())"
   ]
  },
  {
   "cell_type": "markdown",
   "id": "318f5756",
   "metadata": {
    "id": "318f5756",
    "slideshow": {
     "slide_type": "slide"
    }
   },
   "source": [
    "#### Type casting with strings"
   ]
  },
  {
   "cell_type": "code",
   "execution_count": 20,
   "id": "d88d0075",
   "metadata": {
    "colab": {
     "base_uri": "https://localhost:8080/"
    },
    "id": "d88d0075",
    "outputId": "c2344395-a45a-416a-c22f-a512cafe7c70",
    "slideshow": {
     "slide_type": "fragment"
    }
   },
   "outputs": [
    {
     "data": {
      "text/plain": [
       "str"
      ]
     },
     "execution_count": 20,
     "metadata": {},
     "output_type": "execute_result"
    }
   ],
   "source": [
    "# anything can be cast TO a string, but not the other way around\n",
    "# cast a numeric type to a string\n",
    "type(str(9.45))\n",
    "#str(9.45)"
   ]
  },
  {
   "cell_type": "code",
   "execution_count": 21,
   "id": "5d704ed7",
   "metadata": {
    "colab": {
     "base_uri": "https://localhost:8080/",
     "height": 200
    },
    "id": "5d704ed7",
    "outputId": "59e63379-6bfe-4d1a-d746-5a002c4dbaaa",
    "slideshow": {
     "slide_type": "fragment"
    }
   },
   "outputs": [
    {
     "ename": "ValueError",
     "evalue": "invalid literal for int() with base 10: 'he is 90 year old'",
     "output_type": "error",
     "traceback": [
      "\u001b[0;31m---------------------------------------------------------------------------\u001b[0m",
      "\u001b[0;31mValueError\u001b[0m                                Traceback (most recent call last)",
      "Cell \u001b[0;32mIn[21], line 2\u001b[0m\n\u001b[1;32m      1\u001b[0m \u001b[38;5;66;03m# cast a string to a numeric type\u001b[39;00m\n\u001b[0;32m----> 2\u001b[0m \u001b[38;5;28;43mint\u001b[39;49m\u001b[43m(\u001b[49m\u001b[38;5;124;43m'\u001b[39;49m\u001b[38;5;124;43mhe is 90 year old\u001b[39;49m\u001b[38;5;124;43m'\u001b[39;49m\u001b[43m)\u001b[49m\n",
      "\u001b[0;31mValueError\u001b[0m: invalid literal for int() with base 10: 'he is 90 year old'"
     ]
    }
   ],
   "source": [
    "# cast a string to a numeric type\n",
    "int('he is 90 year old')"
   ]
  },
  {
   "cell_type": "code",
   "execution_count": 22,
   "id": "42aaa494",
   "metadata": {
    "colab": {
     "base_uri": "https://localhost:8080/"
    },
    "id": "42aaa494",
    "outputId": "ba26ebfc-8eb0-4819-c635-4af5801c54fc",
    "slideshow": {
     "slide_type": "fragment"
    }
   },
   "outputs": [
    {
     "data": {
      "text/plain": [
       "17"
      ]
     },
     "execution_count": 22,
     "metadata": {},
     "output_type": "execute_result"
    }
   ],
   "source": [
    "# character count including whitespaces\n",
    "len('he is 90 year old')"
   ]
  },
  {
   "cell_type": "markdown",
   "id": "d43abbee",
   "metadata": {
    "id": "d43abbee",
    "slideshow": {
     "slide_type": "slide"
    }
   },
   "source": [
    "## Advanced Data Types\n"
   ]
  },
  {
   "cell_type": "markdown",
   "id": "5bb9ec4f",
   "metadata": {
    "id": "5bb9ec4f",
    "slideshow": {
     "slide_type": "slide"
    }
   },
   "source": [
    "### Lists\n",
    "\n",
    "- **Mutable** and **ordered** sequence of objects\n",
    "- Can be indexed, sliced, and changed\n",
    "- Lists can be used for any type of object, from numbers and strings to more lists."
   ]
  },
  {
   "cell_type": "code",
   "execution_count": 23,
   "id": "8cf4cf8b",
   "metadata": {
    "id": "8cf4cf8b",
    "slideshow": {
     "slide_type": "fragment"
    }
   },
   "outputs": [],
   "source": [
    "# Without lists, individual and unrelated variables\n",
    "# (imagine if you had hundreds of names)\n",
    "person1 = 'Mal'\n",
    "person2 = 'Zoe'\n",
    "person3 = 'Wash'\n",
    "person4 = 'Jayne'\n",
    "person5 = 'Kaylee'\n",
    "\n",
    "# Using lists, a data structure that contains many values\n",
    "people = ['Mal', 'Zoe', 'Wash', 'Jayne', 'Kaylee']\n",
    "\n",
    "# List creation\n",
    "empty_list = [] # brackets (square brackets)\n",
    "small_list = [2.3, 1.0] # List elements separated by commas\n"
   ]
  },
  {
   "cell_type": "code",
   "execution_count": 24,
   "id": "feee18ba",
   "metadata": {
    "id": "feee18ba",
    "slideshow": {
     "slide_type": "slide"
    }
   },
   "outputs": [],
   "source": [
    "large_animals = ['African Elephant', 'Asian Elephant', 'White Rhinoceros',\n",
    "                 'Hippopotamus', 'Gaur', 'Giraffe', 'Walrus', 'Black Rhinoceros',\n",
    "                 'Saltwater Crocodile', 'Water Buffalo']"
   ]
  },
  {
   "cell_type": "code",
   "execution_count": 25,
   "id": "f5ce53fe",
   "metadata": {
    "colab": {
     "base_uri": "https://localhost:8080/",
     "height": 36
    },
    "id": "f5ce53fe",
    "outputId": "6d5c801e-196d-47fb-99ba-fe1e8b02187f",
    "slideshow": {
     "slide_type": "fragment"
    }
   },
   "outputs": [
    {
     "data": {
      "text/plain": [
       "'Gaur'"
      ]
     },
     "execution_count": 25,
     "metadata": {},
     "output_type": "execute_result"
    }
   ],
   "source": [
    "# Access elements in a list using index\n",
    "large_animals[4]"
   ]
  },
  {
   "cell_type": "code",
   "execution_count": 26,
   "id": "f-U_-f4xnyXg",
   "metadata": {
    "colab": {
     "base_uri": "https://localhost:8080/"
    },
    "id": "f-U_-f4xnyXg",
    "outputId": "de370822-894a-4ce8-b815-2e28cb22c729",
    "slideshow": {
     "slide_type": "fragment"
    }
   },
   "outputs": [
    {
     "data": {
      "text/plain": [
       "4"
      ]
     },
     "execution_count": 26,
     "metadata": {},
     "output_type": "execute_result"
    }
   ],
   "source": [
    "# Finding index of an item in a list\n",
    "large_animals.index('Gaur')"
   ]
  },
  {
   "cell_type": "code",
   "execution_count": 27,
   "id": "60d3ccdf",
   "metadata": {
    "id": "60d3ccdf",
    "slideshow": {
     "slide_type": "fragment"
    }
   },
   "outputs": [
    {
     "data": {
      "text/plain": [
       "['Saltwater Crocodile',\n",
       " 'Black Rhinoceros',\n",
       " 'Walrus',\n",
       " 'Giraffe',\n",
       " 'Gaur',\n",
       " 'Hippopotamus']"
      ]
     },
     "execution_count": 27,
     "metadata": {},
     "output_type": "execute_result"
    }
   ],
   "source": [
    "# Slicing [start:stop:step]\n",
    "large_animals[8:2:-1]"
   ]
  },
  {
   "cell_type": "code",
   "execution_count": 28,
   "id": "E7tjfEro_HLD",
   "metadata": {
    "id": "E7tjfEro_HLD",
    "slideshow": {
     "slide_type": "slide"
    }
   },
   "outputs": [],
   "source": [
    "# Slicing [start:stop:step]\n",
    "# Q: how would we return from the first element in the list to the last, every second element?"
   ]
  },
  {
   "cell_type": "code",
   "execution_count": 29,
   "id": "f7b7c16e",
   "metadata": {
    "id": "f7b7c16e",
    "slideshow": {
     "slide_type": "slide"
    }
   },
   "outputs": [],
   "source": [
    "# changing values\n",
    "large_animals[4] = 'Zebra'"
   ]
  },
  {
   "cell_type": "code",
   "execution_count": 30,
   "id": "fab0f2f9",
   "metadata": {
    "colab": {
     "base_uri": "https://localhost:8080/"
    },
    "id": "fab0f2f9",
    "outputId": "d69522ec-eb2d-478a-d7ce-d4e9481514b7",
    "slideshow": {
     "slide_type": "fragment"
    }
   },
   "outputs": [
    {
     "data": {
      "text/plain": [
       "['African Elephant',\n",
       " 'Asian Elephant',\n",
       " 'White Rhinoceros',\n",
       " 'Hippopotamus',\n",
       " 'Zebra',\n",
       " 'Giraffe',\n",
       " 'Walrus',\n",
       " 'Black Rhinoceros',\n",
       " 'Saltwater Crocodile',\n",
       " 'Water Buffalo']"
      ]
     },
     "execution_count": 30,
     "metadata": {},
     "output_type": "execute_result"
    }
   ],
   "source": [
    "large_animals"
   ]
  },
  {
   "cell_type": "code",
   "execution_count": 31,
   "id": "doz1IIYicrJ_",
   "metadata": {
    "id": "doz1IIYicrJ_",
    "slideshow": {
     "slide_type": "slide"
    }
   },
   "outputs": [],
   "source": [
    "# changing values - be careful with slices ... remember, it never includes the end index\n",
    "large_animals[:3] = ['Emu', 'Emu', 'Emu']"
   ]
  },
  {
   "cell_type": "code",
   "execution_count": 32,
   "id": "14f10f4b",
   "metadata": {
    "id": "14f10f4b",
    "slideshow": {
     "slide_type": "slide"
    }
   },
   "outputs": [],
   "source": [
    "# Q: What will this do?\n",
    "large_animals = large_animals[::-1]"
   ]
  },
  {
   "cell_type": "code",
   "execution_count": 33,
   "id": "ba8a6f4b",
   "metadata": {
    "id": "ba8a6f4b",
    "outputId": "cef31d09-b050-43d4-8951-a3c37193ef42",
    "slideshow": {
     "slide_type": "fragment"
    }
   },
   "outputs": [
    {
     "data": {
      "text/plain": [
       "['Water Buffalo',\n",
       " 'Saltwater Crocodile',\n",
       " 'Black Rhinoceros',\n",
       " 'Walrus',\n",
       " 'Giraffe',\n",
       " 'Zebra',\n",
       " 'Hippopotamus',\n",
       " 'Emu',\n",
       " 'Emu',\n",
       " 'Emu']"
      ]
     },
     "execution_count": 33,
     "metadata": {},
     "output_type": "execute_result"
    }
   ],
   "source": [
    "large_animals"
   ]
  },
  {
   "cell_type": "code",
   "execution_count": 34,
   "id": "e9c689a9",
   "metadata": {
    "id": "e9c689a9",
    "slideshow": {
     "slide_type": "slide"
    }
   },
   "outputs": [],
   "source": [
    "# deleting\n",
    "del large_animals[4]"
   ]
  },
  {
   "cell_type": "code",
   "execution_count": 35,
   "id": "1147db6a",
   "metadata": {
    "id": "1147db6a",
    "slideshow": {
     "slide_type": "fragment"
    }
   },
   "outputs": [
    {
     "data": {
      "text/plain": [
       "['Water Buffalo',\n",
       " 'Saltwater Crocodile',\n",
       " 'Black Rhinoceros',\n",
       " 'Walrus',\n",
       " 'Zebra',\n",
       " 'Hippopotamus',\n",
       " 'Emu',\n",
       " 'Emu',\n",
       " 'Emu']"
      ]
     },
     "execution_count": 35,
     "metadata": {},
     "output_type": "execute_result"
    }
   ],
   "source": [
    "large_animals"
   ]
  },
  {
   "cell_type": "code",
   "execution_count": 36,
   "id": "b9d4cb27",
   "metadata": {
    "id": "b9d4cb27",
    "slideshow": {
     "slide_type": "fragment"
    }
   },
   "outputs": [],
   "source": [
    "# extending via .append()\n",
    "large_animals.append('Zebra')"
   ]
  },
  {
   "cell_type": "code",
   "execution_count": 37,
   "id": "fU4W9E3JAtIS",
   "metadata": {
    "id": "fU4W9E3JAtIS",
    "slideshow": {
     "slide_type": "fragment"
    }
   },
   "outputs": [],
   "source": [
    "# insert at index position\n",
    "large_animals.insert(2, 'new animal')"
   ]
  },
  {
   "cell_type": "code",
   "execution_count": 38,
   "id": "3416604d",
   "metadata": {
    "id": "3416604d",
    "slideshow": {
     "slide_type": "fragment"
    }
   },
   "outputs": [
    {
     "data": {
      "text/plain": [
       "['Water Buffalo',\n",
       " 'Saltwater Crocodile',\n",
       " 'new animal',\n",
       " 'Black Rhinoceros',\n",
       " 'Walrus',\n",
       " 'Zebra',\n",
       " 'Hippopotamus',\n",
       " 'Emu',\n",
       " 'Emu',\n",
       " 'Emu',\n",
       " 'Zebra']"
      ]
     },
     "execution_count": 38,
     "metadata": {},
     "output_type": "execute_result"
    }
   ],
   "source": [
    "large_animals"
   ]
  },
  {
   "cell_type": "code",
   "execution_count": 39,
   "id": "c14337da",
   "metadata": {
    "id": "c14337da",
    "slideshow": {
     "slide_type": "fragment"
    }
   },
   "outputs": [],
   "source": [
    "# extending via concatenation\n",
    "large_animals = large_animals + ['Gaur', 'Gaur']"
   ]
  },
  {
   "cell_type": "code",
   "execution_count": 40,
   "id": "ecd0ff2b",
   "metadata": {
    "id": "ecd0ff2b",
    "outputId": "3e7fb1fd-a73c-44c3-8152-b293afa9b6cd",
    "slideshow": {
     "slide_type": "fragment"
    }
   },
   "outputs": [
    {
     "data": {
      "text/plain": [
       "['Water Buffalo',\n",
       " 'Saltwater Crocodile',\n",
       " 'new animal',\n",
       " 'Black Rhinoceros',\n",
       " 'Walrus',\n",
       " 'Zebra',\n",
       " 'Hippopotamus',\n",
       " 'Emu',\n",
       " 'Emu',\n",
       " 'Emu',\n",
       " 'Zebra',\n",
       " 'Gaur',\n",
       " 'Gaur']"
      ]
     },
     "execution_count": 40,
     "metadata": {},
     "output_type": "execute_result"
    }
   ],
   "source": [
    "large_animals"
   ]
  },
  {
   "cell_type": "code",
   "execution_count": 41,
   "id": "780a9cb8",
   "metadata": {
    "id": "780a9cb8",
    "slideshow": {
     "slide_type": "slide"
    }
   },
   "outputs": [],
   "source": [
    "# Lists within lists\n",
    "# Q: How many items in each list?\n",
    "\n",
    "animal_kingdom = [\n",
    "  ['Elephant', 'Tiger', 'Dog', ['Cat', 'Big Cat']],\n",
    "  ['Whale', 'Dolphin', 'Shark', 'Eel'],\n",
    "  ['Eagle', 'Robin']\n",
    "]\n",
    "\n",
    "# indexing practice\n"
   ]
  },
  {
   "cell_type": "code",
   "execution_count": 42,
   "id": "7b616a1f",
   "metadata": {
    "id": "7b616a1f",
    "slideshow": {
     "slide_type": "fragment"
    }
   },
   "outputs": [],
   "source": [
    "# to append for a list in a list\n",
    "animal_kingdom[0][-1].append('Small Cat')"
   ]
  },
  {
   "cell_type": "code",
   "execution_count": 43,
   "id": "c6cdbb5c",
   "metadata": {
    "colab": {
     "base_uri": "https://localhost:8080/"
    },
    "id": "c6cdbb5c",
    "outputId": "be070ad3-3a6e-40c6-ff4e-5f9582d7cbd9",
    "slideshow": {
     "slide_type": "fragment"
    }
   },
   "outputs": [
    {
     "data": {
      "text/plain": [
       "[['Elephant', 'Tiger', 'Dog', ['Cat', 'Big Cat', 'Small Cat']],\n",
       " ['Whale', 'Dolphin', 'Shark', 'Eel'],\n",
       " ['Eagle', 'Robin']]"
      ]
     },
     "execution_count": 43,
     "metadata": {},
     "output_type": "execute_result"
    }
   ],
   "source": [
    "animal_kingdom"
   ]
  },
  {
   "cell_type": "code",
   "execution_count": 44,
   "id": "ohT2eEvdC9E1",
   "metadata": {
    "id": "ohT2eEvdC9E1",
    "slideshow": {
     "slide_type": "fragment"
    }
   },
   "outputs": [],
   "source": [
    "# Q: what about if we wanted to add \"Small Cat\" to the last element in the main list?\n"
   ]
  },
  {
   "cell_type": "markdown",
   "id": "b8e5061a",
   "metadata": {
    "id": "b8e5061a",
    "slideshow": {
     "slide_type": "slide"
    }
   },
   "source": [
    "#### String and List similarities"
   ]
  },
  {
   "cell_type": "code",
   "execution_count": 45,
   "id": "0d6000e9",
   "metadata": {
    "colab": {
     "base_uri": "https://localhost:8080/"
    },
    "id": "0d6000e9",
    "outputId": "1539f17e-02f1-4b84-8f97-67a319e9371b",
    "slideshow": {
     "slide_type": "fragment"
    }
   },
   "outputs": [
    {
     "data": {
      "text/plain": [
       "['thi', 'i', 'really symbol', 'just a list of symbol', 'called characters']"
      ]
     },
     "execution_count": 45,
     "metadata": {},
     "output_type": "execute_result"
    }
   ],
   "source": [
    "# slices can be returned from strings the same as lists\n",
    "a = 'this is really symbols just a list of symbols called characters'\n",
    "\n",
    "# access a character\n",
    "a[4]\n",
    "# access a slice\n",
    "a[::-3]\n",
    "# Splitting strings into lists\n",
    "a.split()\n",
    "# Splitting by a substring\n",
    "a.split('s ')"
   ]
  },
  {
   "cell_type": "code",
   "execution_count": 46,
   "id": "UzNNExduGBae",
   "metadata": {
    "colab": {
     "base_uri": "https://localhost:8080/"
    },
    "id": "UzNNExduGBae",
    "outputId": "cf83d79c-02f0-445a-f99f-4d1be2e1fc5b",
    "slideshow": {
     "slide_type": "fragment"
    }
   },
   "outputs": [
    {
     "data": {
      "text/plain": [
       "['this',\n",
       " 'is',\n",
       " 'really',\n",
       " 'symbols',\n",
       " 'just',\n",
       " 'a',\n",
       " 'list',\n",
       " 'of',\n",
       " 'symbols',\n",
       " 'called',\n",
       " 'characters']"
      ]
     },
     "execution_count": 46,
     "metadata": {},
     "output_type": "execute_result"
    }
   ],
   "source": [
    "a.split(' ')"
   ]
  },
  {
   "cell_type": "markdown",
   "id": "cb2a2ca0",
   "metadata": {
    "id": "cb2a2ca0",
    "slideshow": {
     "slide_type": "slide"
    }
   },
   "source": [
    "## Tuple\n",
    "- **immutable** and **ordered** objects\n",
    "- Similar to a list, but without some funcitonalities.\n",
    "- indexing and splitting similar to lists\n",
    "- More efficient"
   ]
  },
  {
   "cell_type": "code",
   "execution_count": 47,
   "id": "f8939ab8",
   "metadata": {
    "colab": {
     "base_uri": "https://localhost:8080/"
    },
    "id": "f8939ab8",
    "outputId": "ed782daa-4b88-4c50-b3d1-4df59938f79e",
    "slideshow": {
     "slide_type": "slide"
    }
   },
   "outputs": [
    {
     "name": "stdout",
     "output_type": "stream",
     "text": [
      "False\n"
     ]
    }
   ],
   "source": [
    "# Definition - parentheses (round brackets) and elements separated by commas\n",
    "x = ('Alibek', 'python', 'Canada')\n",
    "\n",
    "# Getting the size of a tuple (or list)\n",
    "len(x)\n",
    "\n",
    "# Accessing one element\n",
    "y = x[0]\n",
    "# >>> 'Alibek'\n",
    "x[1]\n",
    "# >>> 'python'\n",
    "\n",
    "# Accessing a sequence of entries\n",
    "y = x[1:3]\n",
    "# >>> ('python', 'Canada')\n",
    "\n",
    "# \"Unpacking\" tuples (or lists)\n",
    "name, language, country = x\n",
    "# name = 'Alibek', language = 'python', and country = 'Canada'\n",
    "\n",
    "# Combining tuples\n",
    "y = (8, 2) + x\n",
    "# (8, 2, 'Alibek', 'python', 'Canada')\n",
    "\n",
    "# Checking membership - this is faster with tuples\n",
    "y = 12 in x    # False (x does not contain the value 12)\n",
    "print(y)\n",
    "\n",
    "# You cannot modify tuple objects\n",
    "# They are 'immutable' (this is the essential difference from lists)"
   ]
  },
  {
   "cell_type": "code",
   "execution_count": 48,
   "id": "QBmZkN0AiZXT",
   "metadata": {
    "id": "QBmZkN0AiZXT",
    "slideshow": {
     "slide_type": "slide"
    }
   },
   "outputs": [
    {
     "data": {
      "text/plain": [
       "('python',)"
      ]
     },
     "execution_count": 48,
     "metadata": {},
     "output_type": "execute_result"
    }
   ],
   "source": [
    "# Q: What will this output?\n",
    "# hint: remember slicing end is not inclusive\n",
    "\n",
    "x[1:-1]"
   ]
  },
  {
   "cell_type": "code",
   "execution_count": 49,
   "id": "6f397584",
   "metadata": {
    "colab": {
     "base_uri": "https://localhost:8080/"
    },
    "id": "6f397584",
    "outputId": "942b301c-b905-4e16-e376-e180bf930054",
    "slideshow": {
     "slide_type": "slide"
    }
   },
   "outputs": [
    {
     "data": {
      "text/plain": [
       "(8, 2, 'Alibek', 'python', 'Canada')"
      ]
     },
     "execution_count": 49,
     "metadata": {},
     "output_type": "execute_result"
    }
   ],
   "source": [
    "# Q: what will y output?\n",
    "y = (8, 2) + x\n",
    "y"
   ]
  },
  {
   "cell_type": "code",
   "execution_count": 50,
   "id": "t38utf8qrnTD",
   "metadata": {
    "id": "t38utf8qrnTD",
    "slideshow": {
     "slide_type": "slide"
    }
   },
   "outputs": [],
   "source": [
    "# unpacking example (multi variable assignments)\n",
    "name, language, country = x"
   ]
  },
  {
   "cell_type": "code",
   "execution_count": 51,
   "id": "5j9woY9LYZny",
   "metadata": {
    "colab": {
     "base_uri": "https://localhost:8080/",
     "height": 36
    },
    "id": "5j9woY9LYZny",
    "outputId": "aedfd647-5834-4825-e81e-435b08dcfc4a",
    "slideshow": {
     "slide_type": "fragment"
    }
   },
   "outputs": [
    {
     "data": {
      "text/plain": [
       "'Canada'"
      ]
     },
     "execution_count": 51,
     "metadata": {},
     "output_type": "execute_result"
    }
   ],
   "source": [
    "country"
   ]
  },
  {
   "cell_type": "markdown",
   "id": "997d7a83",
   "metadata": {
    "id": "997d7a83",
    "slideshow": {
     "slide_type": "slide"
    }
   },
   "source": [
    "\n",
    "\n",
    "It might seem weird that tuples are essentially just lists that can't be modified. What are they good for?  When performance isn't an issue (small amounts of data), it's all about code readability.\n",
    "\n",
    "When you use a tuple, you're telling the people who read your code \"this variable will not change\".\n",
    "In practice, people use lists for \"homogeneous\" data (i.e. a list of strings), whereas the elements in tuples are often \"heterogeneous\" and might include different data types and/or concepts.\n",
    "\n",
    "In the example above, the first entry represents my name, the second entry represents the programming language I'm using, and the third entry represents the country I live in. It would be **conceptually** strange to define these different concepts in the same list - since lists are usually homogeneous data. Tuples can be used as \"keys\" in dictionary data structures (which we'll see below), whereas lists cannot.\n",
    "\n",
    "These differences communicate the objects's function, and helps make your code more understandable.\n"
   ]
  },
  {
   "cell_type": "markdown",
   "id": "aaeab8d7",
   "metadata": {
    "id": "aaeab8d7"
   },
   "source": [
    "***"
   ]
  },
  {
   "cell_type": "markdown",
   "id": "140ee287",
   "metadata": {
    "id": "140ee287",
    "slideshow": {
     "slide_type": "slide"
    }
   },
   "source": [
    "## Dictionary (dict)\n",
    "\n",
    "- Similar to lists, but elements are accessed using 'keys' rather than order.\n",
    "- 'keys' can take on numerous data types (str, int, floats, tuples)\n",
    "    - as long as the data type is ['hashable'](https://towardsdatascience.com/iterable-ordered-mutable-and-hashable-python-objects-explained-1254c9b9e421#:~:text=In%20particular%2C%20all%20the%20primitive,sets%2C%20and%20bytearrays%20are%20unhashable.)\n",
    "    - e.g. you could not use a list [ ] as a 'key'"
   ]
  },
  {
   "cell_type": "code",
   "execution_count": 52,
   "id": "25c88531",
   "metadata": {
    "id": "25c88531",
    "slideshow": {
     "slide_type": "slide"
    }
   },
   "outputs": [],
   "source": [
    "# definition - braces, keys and values separated by colons,\n",
    "# commas between key and value pairs\n",
    "x = {'Student_ID': [1,2,3],\n",
    "    'Student_Name': 42,\n",
    "    'degree': ['marketing', 'computer science', 'snake studies']}"
   ]
  },
  {
   "cell_type": "code",
   "execution_count": 53,
   "id": "Fm2z_LaNYvd0",
   "metadata": {
    "colab": {
     "base_uri": "https://localhost:8080/"
    },
    "id": "Fm2z_LaNYvd0",
    "outputId": "93dc8a07-8b1d-4f1d-c1b2-f3d4deec0d2f",
    "slideshow": {
     "slide_type": "fragment"
    }
   },
   "outputs": [
    {
     "data": {
      "text/plain": [
       "42"
      ]
     },
     "execution_count": 53,
     "metadata": {},
     "output_type": "execute_result"
    }
   ],
   "source": [
    "# access a value\n",
    "x['Student_Name']"
   ]
  },
  {
   "cell_type": "code",
   "execution_count": 54,
   "id": "0537aba9",
   "metadata": {
    "id": "0537aba9",
    "slideshow": {
     "slide_type": "fragment"
    }
   },
   "outputs": [],
   "source": [
    "# modifying values\n",
    "x['Student_Name'] = 'Alibek'"
   ]
  },
  {
   "cell_type": "code",
   "execution_count": 55,
   "id": "9dWElYMFtiCl",
   "metadata": {
    "id": "9dWElYMFtiCl",
    "slideshow": {
     "slide_type": "fragment"
    }
   },
   "outputs": [],
   "source": [
    "# adding keys and values\n",
    "x['Age'] = 42"
   ]
  },
  {
   "cell_type": "code",
   "execution_count": 56,
   "id": "540afc60",
   "metadata": {
    "colab": {
     "base_uri": "https://localhost:8080/"
    },
    "id": "540afc60",
    "outputId": "022250ed-2f97-41aa-ecea-42571cea01e5",
    "slideshow": {
     "slide_type": "fragment"
    }
   },
   "outputs": [
    {
     "data": {
      "text/plain": [
       "{'Student_ID': [1, 2, 3],\n",
       " 'Student_Name': 'Alibek',\n",
       " 'degree': ['marketing', 'computer science', 'snake studies'],\n",
       " 'Age': 42}"
      ]
     },
     "execution_count": 56,
     "metadata": {},
     "output_type": "execute_result"
    }
   ],
   "source": [
    "x"
   ]
  },
  {
   "cell_type": "code",
   "execution_count": 57,
   "id": "c1f5fa7e",
   "metadata": {
    "colab": {
     "base_uri": "https://localhost:8080/"
    },
    "id": "c1f5fa7e",
    "outputId": "596e7108-8706-4193-ef34-ce5a86d2cace",
    "slideshow": {
     "slide_type": "slide"
    }
   },
   "outputs": [
    {
     "data": {
      "text/plain": [
       "dict_keys(['Student_ID', 'Student_Name', 'degree', 'Age'])"
      ]
     },
     "execution_count": 57,
     "metadata": {},
     "output_type": "execute_result"
    }
   ],
   "source": [
    "# retrieving keys\n",
    "x.keys()"
   ]
  },
  {
   "cell_type": "code",
   "execution_count": 58,
   "id": "713ab13e",
   "metadata": {
    "colab": {
     "base_uri": "https://localhost:8080/"
    },
    "id": "713ab13e",
    "outputId": "41f1c3aa-b682-40f2-c9fa-75f6f0daf12f",
    "slideshow": {
     "slide_type": "fragment"
    }
   },
   "outputs": [
    {
     "data": {
      "text/plain": [
       "[[1, 2, 3], 'Alibek', ['marketing', 'computer science', 'snake studies'], 42]"
      ]
     },
     "execution_count": 58,
     "metadata": {},
     "output_type": "execute_result"
    }
   ],
   "source": [
    "list(x.values())"
   ]
  },
  {
   "cell_type": "code",
   "execution_count": 59,
   "id": "1f423d28",
   "metadata": {
    "colab": {
     "base_uri": "https://localhost:8080/"
    },
    "id": "1f423d28",
    "outputId": "39c39a71-acf5-4a5c-cb10-e5e5324dcf20",
    "slideshow": {
     "slide_type": "fragment"
    }
   },
   "outputs": [
    {
     "data": {
      "text/plain": [
       "dict_values([[1, 2, 3], 'Alibek', ['marketing', 'computer science', 'snake studies'], 42])"
      ]
     },
     "execution_count": 59,
     "metadata": {},
     "output_type": "execute_result"
    }
   ],
   "source": [
    "# retrieving values\n",
    "x.values()"
   ]
  },
  {
   "cell_type": "code",
   "execution_count": 60,
   "id": "3f2a4650",
   "metadata": {
    "colab": {
     "base_uri": "https://localhost:8080/"
    },
    "id": "3f2a4650",
    "outputId": "dd7ab6da-61d3-43fa-bc9a-11616d1c3ebc",
    "slideshow": {
     "slide_type": "fragment"
    }
   },
   "outputs": [
    {
     "data": {
      "text/plain": [
       "dict_items([('Student_ID', [1, 2, 3]), ('Student_Name', 'Alibek'), ('degree', ['marketing', 'computer science', 'snake studies']), ('Age', 42)])"
      ]
     },
     "execution_count": 60,
     "metadata": {},
     "output_type": "execute_result"
    }
   ],
   "source": [
    "# retrieving keys and values (items)\n",
    "x.items()"
   ]
  },
  {
   "cell_type": "markdown",
   "id": "d8ca1111",
   "metadata": {
    "id": "d8ca1111",
    "slideshow": {
     "slide_type": "slide"
    }
   },
   "source": [
    "Note: Dictionaries should not be used as 'ordered' data types like lists, and it is dangerous to write your code in a way that uses the order of a dictionary.\n",
    "\n",
    "It makes no sense to say that the 'student_name'th entry comes before the 'degree'th entry, even though this is how we have written it above."
   ]
  },
  {
   "cell_type": "markdown",
   "id": "95be87ab",
   "metadata": {
    "id": "95be87ab"
   },
   "source": [
    "***"
   ]
  },
  {
   "cell_type": "markdown",
   "id": "882f5149",
   "metadata": {
    "id": "882f5149",
    "slideshow": {
     "slide_type": "slide"
    }
   },
   "source": [
    "### Sets\n",
    "\n",
    "Data structure that:\n",
    "- are unordered, meaning there is no element 0 and element 1, and\n",
    "- The values contained are unique - meaning there are no duplicate entries."
   ]
  },
  {
   "cell_type": "code",
   "execution_count": 61,
   "id": "91fd81ce",
   "metadata": {
    "colab": {
     "base_uri": "https://localhost:8080/"
    },
    "id": "91fd81ce",
    "outputId": "e84c742d-4776-492b-bb35-541d13a8b532",
    "slideshow": {
     "slide_type": "slide"
    }
   },
   "outputs": [
    {
     "data": {
      "text/plain": [
       "{1.0, 2, 'apPle', 'apple'}"
      ]
     },
     "execution_count": 61,
     "metadata": {},
     "output_type": "execute_result"
    }
   ],
   "source": [
    "# definition - braces and commas between elements\n",
    "my_set = {2, 1.0, 'apple', 1.0, 'apPle'}\n",
    "\n",
    "my_set"
   ]
  },
  {
   "cell_type": "code",
   "execution_count": 62,
   "id": "PMdbmA6JospA",
   "metadata": {
    "id": "PMdbmA6JospA",
    "slideshow": {
     "slide_type": "fragment"
    }
   },
   "outputs": [
    {
     "ename": "TypeError",
     "evalue": "'set' object is not subscriptable",
     "output_type": "error",
     "traceback": [
      "\u001b[0;31m---------------------------------------------------------------------------\u001b[0m",
      "\u001b[0;31mTypeError\u001b[0m                                 Traceback (most recent call last)",
      "Cell \u001b[0;32mIn[62], line 2\u001b[0m\n\u001b[1;32m      1\u001b[0m \u001b[38;5;66;03m# cannot use index position\u001b[39;00m\n\u001b[0;32m----> 2\u001b[0m \u001b[43mmy_set\u001b[49m\u001b[43m[\u001b[49m\u001b[38;5;241;43m0\u001b[39;49m\u001b[43m]\u001b[49m\n\u001b[1;32m      4\u001b[0m \u001b[38;5;66;03m# but could convert to a list and index\u001b[39;00m\n\u001b[1;32m      5\u001b[0m \u001b[38;5;66;03m#list(my_set) # but be aware, the order is strange..... I wouldnt use\u001b[39;00m\n",
      "\u001b[0;31mTypeError\u001b[0m: 'set' object is not subscriptable"
     ]
    }
   ],
   "source": [
    "# cannot use index position\n",
    "my_set[0]\n",
    "\n",
    "# but could convert to a list and index\n",
    "#list(my_set) # but be aware, the order is strange..... I wouldnt use"
   ]
  },
  {
   "cell_type": "code",
   "execution_count": 64,
   "id": "aZmxTAPAudCi",
   "metadata": {
    "id": "aZmxTAPAudCi",
    "outputId": "6ec32dba-26c3-4c62-9a52-ef82d5fd776d",
    "slideshow": {
     "slide_type": "fragment"
    }
   },
   "outputs": [
    {
     "data": {
      "text/plain": [
       "{'Black Rhinoceros',\n",
       " 'Emu',\n",
       " 'Gaur',\n",
       " 'Hippopotamus',\n",
       " 'Saltwater Crocodile',\n",
       " 'Walrus',\n",
       " 'Water Buffalo',\n",
       " 'Zebra',\n",
       " 'new animal'}"
      ]
     },
     "execution_count": 64,
     "metadata": {},
     "output_type": "execute_result"
    }
   ],
   "source": [
    "# delete duplicates from a list using set()\n",
    "set(large_animals)"
   ]
  },
  {
   "cell_type": "markdown",
   "id": "8e27bec4",
   "metadata": {
    "id": "8e27bec4",
    "slideshow": {
     "slide_type": "slide"
    }
   },
   "source": [
    "### Summary\n",
    "\n",
    "|Data Structure\t| Preserves order | Mutable | Symbol| Can contain duplicates | Can be sliced |\n",
    "|---------|------|------|------|------|------|\n",
    "|str\t|✓\t|☓\t|''  , \"\"|\t✓|✓|\n",
    "|list\t|✓\t|✓\t|[] |\t✓|✓|\n",
    "|tuple\t|✓\t|☓\t|() |\t✓|✓|\n",
    "|set\t|☓\t|✓\t|{} |\t☓|☓|\n",
    "|dict  |✓\t|✓\t|{ key : value} | \t☓| ☓|"
   ]
  },
  {
   "cell_type": "markdown",
   "id": "8b304718",
   "metadata": {
    "id": "8b304718",
    "slideshow": {
     "slide_type": "slide"
    }
   },
   "source": [
    "### Booleans and Comparison"
   ]
  },
  {
   "cell_type": "code",
   "execution_count": 65,
   "id": "85f2d40f",
   "metadata": {
    "id": "85f2d40f",
    "slideshow": {
     "slide_type": "fragment"
    }
   },
   "outputs": [],
   "source": [
    "# Booleans: True or False\n",
    "# Comparison Operators\n",
    "a = 14\n",
    "b = 5"
   ]
  },
  {
   "cell_type": "code",
   "execution_count": 66,
   "id": "9uITERrAbGfJ",
   "metadata": {
    "colab": {
     "base_uri": "https://localhost:8080/"
    },
    "id": "9uITERrAbGfJ",
    "outputId": "1df14eea-5f53-4141-c3a0-581450ee9377",
    "slideshow": {
     "slide_type": "fragment"
    }
   },
   "outputs": [
    {
     "data": {
      "text/plain": [
       "False"
      ]
     },
     "execution_count": 66,
     "metadata": {},
     "output_type": "execute_result"
    }
   ],
   "source": [
    "# Equal\n",
    "a == b # False"
   ]
  },
  {
   "cell_type": "code",
   "execution_count": 67,
   "id": "iE7BSJ0Wa9Uo",
   "metadata": {
    "colab": {
     "base_uri": "https://localhost:8080/"
    },
    "id": "iE7BSJ0Wa9Uo",
    "outputId": "ba9460fe-44c8-46b3-d831-c6e2ce4ff873",
    "slideshow": {
     "slide_type": "fragment"
    }
   },
   "outputs": [
    {
     "data": {
      "text/plain": [
       "True"
      ]
     },
     "execution_count": 67,
     "metadata": {},
     "output_type": "execute_result"
    }
   ],
   "source": [
    "# Not equal\n",
    "a != b"
   ]
  },
  {
   "cell_type": "code",
   "execution_count": 68,
   "id": "ctrdTv6LbBhi",
   "metadata": {
    "colab": {
     "base_uri": "https://localhost:8080/"
    },
    "id": "ctrdTv6LbBhi",
    "outputId": "ab7898e9-100f-4267-eed6-3a86fd37deb4",
    "slideshow": {
     "slide_type": "fragment"
    }
   },
   "outputs": [
    {
     "data": {
      "text/plain": [
       "True"
      ]
     },
     "execution_count": 68,
     "metadata": {},
     "output_type": "execute_result"
    }
   ],
   "source": [
    "# Greater than\n",
    "a > b"
   ]
  },
  {
   "cell_type": "code",
   "execution_count": 69,
   "id": "pLxg9olkbETZ",
   "metadata": {
    "id": "pLxg9olkbETZ",
    "outputId": "cdafb720-7ba2-45ea-b189-3c9bfa641fab",
    "slideshow": {
     "slide_type": "fragment"
    }
   },
   "outputs": [
    {
     "data": {
      "text/plain": [
       "True"
      ]
     },
     "execution_count": 69,
     "metadata": {},
     "output_type": "execute_result"
    }
   ],
   "source": [
    "# Greater than or equal to\n",
    "a >= b"
   ]
  },
  {
   "cell_type": "code",
   "execution_count": 70,
   "id": "YhH4hDq4bMh1",
   "metadata": {
    "id": "YhH4hDq4bMh1",
    "outputId": "6ee8ba80-cfdf-409f-90cc-7fdb2e55f2ba",
    "slideshow": {
     "slide_type": "fragment"
    }
   },
   "outputs": [
    {
     "data": {
      "text/plain": [
       "False"
      ]
     },
     "execution_count": 70,
     "metadata": {},
     "output_type": "execute_result"
    }
   ],
   "source": [
    "# Less than\n",
    "a < b"
   ]
  },
  {
   "cell_type": "code",
   "execution_count": 71,
   "id": "PPkTK9avbN4w",
   "metadata": {
    "colab": {
     "base_uri": "https://localhost:8080/"
    },
    "id": "PPkTK9avbN4w",
    "outputId": "14ba9e1b-3979-45d4-99bc-a73e28497e32",
    "slideshow": {
     "slide_type": "fragment"
    }
   },
   "outputs": [
    {
     "data": {
      "text/plain": [
       "False"
      ]
     },
     "execution_count": 71,
     "metadata": {},
     "output_type": "execute_result"
    }
   ],
   "source": [
    "# Less than or equal to\n",
    "a <= b"
   ]
  },
  {
   "cell_type": "code",
   "execution_count": 72,
   "id": "1an7nCiGbLdZ",
   "metadata": {
    "id": "1an7nCiGbLdZ",
    "slideshow": {
     "slide_type": "slide"
    }
   },
   "outputs": [],
   "source": [
    "# Equality with strings ... Lexicographic ordering\n",
    "a = '1 2 3'\n",
    "b = 'one two 3'"
   ]
  },
  {
   "cell_type": "code",
   "execution_count": 73,
   "id": "4yHRGKkXbQf1",
   "metadata": {
    "colab": {
     "base_uri": "https://localhost:8080/"
    },
    "id": "4yHRGKkXbQf1",
    "outputId": "286f090c-334a-4e7a-d1a6-70688dfeaee5",
    "slideshow": {
     "slide_type": "fragment"
    }
   },
   "outputs": [
    {
     "data": {
      "text/plain": [
       "True"
      ]
     },
     "execution_count": 73,
     "metadata": {},
     "output_type": "execute_result"
    }
   ],
   "source": [
    "a < b"
   ]
  },
  {
   "cell_type": "code",
   "execution_count": 74,
   "id": "5daae7a0",
   "metadata": {
    "colab": {
     "base_uri": "https://localhost:8080/",
     "height": 36
    },
    "id": "5daae7a0",
    "outputId": "e4a56270-21f2-416b-c8ba-8ec8f75274fe",
    "slideshow": {
     "slide_type": "fragment"
    }
   },
   "outputs": [
    {
     "data": {
      "text/plain": [
       "'123'"
      ]
     },
     "execution_count": 74,
     "metadata": {},
     "output_type": "execute_result"
    }
   ],
   "source": [
    "min(['abc', '123', 'xyz'])"
   ]
  },
  {
   "cell_type": "code",
   "execution_count": 75,
   "id": "Pa5lhz6Va1iS",
   "metadata": {
    "colab": {
     "base_uri": "https://localhost:8080/"
    },
    "id": "Pa5lhz6Va1iS",
    "outputId": "87791b61-e2aa-46c3-e12c-69f77bcf7a8b",
    "slideshow": {
     "slide_type": "slide"
    }
   },
   "outputs": [
    {
     "name": "stdout",
     "output_type": "stream",
     "text": [
      "True\n",
      "False\n"
     ]
    }
   ],
   "source": [
    "# Logic operators (compound boolean expressions)\n",
    "\n",
    "# and - both must be True\n",
    "snow = False\n",
    "temperature = 28\n",
    "camping = temperature > 25 and snow == False\n",
    "print(camping)\n",
    "# >>> True\n",
    "\n",
    "snow = True\n",
    "camping = temperature > 25 and snow == False\n",
    "print(camping)\n",
    "# >>> False"
   ]
  },
  {
   "cell_type": "code",
   "execution_count": 76,
   "id": "UiCaA96YbhdY",
   "metadata": {
    "colab": {
     "base_uri": "https://localhost:8080/"
    },
    "id": "UiCaA96YbhdY",
    "outputId": "b4fc7637-dd2a-4618-b0a9-7d62a61ab612",
    "slideshow": {
     "slide_type": "slide"
    }
   },
   "outputs": [
    {
     "name": "stdout",
     "output_type": "stream",
     "text": [
      "True\n",
      "True\n"
     ]
    }
   ],
   "source": [
    "# or - either must be True\n",
    "has_coffee = True\n",
    "has_beer = True\n",
    "print(has_coffee or has_beer)\n",
    "# >>> True\n",
    "has_coffee = False\n",
    "print(has_coffee or has_beer)\n",
    "# >>> True"
   ]
  },
  {
   "cell_type": "code",
   "execution_count": null,
   "id": "0400d55f",
   "metadata": {
    "id": "0400d55f",
    "outputId": "8efaf93f-0947-4579-c0b3-377430ef2c64",
    "slideshow": {
     "slide_type": "fragment"
    }
   },
   "outputs": [],
   "source": []
  },
  {
   "cell_type": "markdown",
   "id": "63c2dd62",
   "metadata": {
    "id": "63c2dd62",
    "slideshow": {
     "slide_type": "slide"
    }
   },
   "source": [
    "### Control structure (also refered to **control flow**): if/elif/else statements\n",
    "\n",
    "**if statements** are one of the most essential concepts in any programming language because they allow the code to execute differently depending on external values. The format of an if statement is as follows:\n",
    "\n",
    "- Essential Programming Concept, in any langauge. Allows the code to 'react' to circumstances.\n",
    "- Executes code only if a certain condition is met\n",
    "\n",
    "```python\n",
    "if [boolean expression]: # starts with if keyword then test condition\n",
    "    [what to do when the boolean expression evaluates to True]\n",
    "else:   # optional\n",
    "    [what to do when the boolean expression evaluates to False]\n",
    "```"
   ]
  },
  {
   "cell_type": "code",
   "execution_count": 77,
   "id": "d328d9c2",
   "metadata": {
    "colab": {
     "base_uri": "https://localhost:8080/"
    },
    "id": "d328d9c2",
    "outputId": "1b8d4436-925c-420c-a400-ce372c98c4af",
    "slideshow": {
     "slide_type": "slide"
    }
   },
   "outputs": [
    {
     "name": "stdout",
     "output_type": "stream",
     "text": [
      "Linda has passed her course\n"
     ]
    }
   ],
   "source": [
    "# Using the data structure above, let's output something different depending on\n",
    "# whether or not someone passed the course\n",
    "course_marks = {'Linda': 84, 'Andrew': 100, 'Jasmine': 12}\n",
    "pass_mark = 80\n",
    "\n",
    "\n",
    "if course_marks['Linda'] >= pass_mark:\n",
    "  print(\"Linda has passed her course\")  # indentation matters\n",
    "else:\n",
    "  print(\"Linda has not passed\")"
   ]
  },
  {
   "cell_type": "markdown",
   "id": "b26415b9",
   "metadata": {
    "id": "b26415b9",
    "slideshow": {
     "slide_type": "slide"
    }
   },
   "source": [
    "#### IFs and ELIFS\n",
    "```python\n",
    "if [boolean expression]: #starts with if keyword then test condition\n",
    "    [what to do when the boolean expression evaluates to True]\n",
    "elif: [boolean expression]\n",
    "    [what to do when the boolean expression evaluates to True]\n",
    "else:   # optional\n",
    "    [what to do when the boolean expression evaluates to False]\n",
    "```\n",
    "\n"
   ]
  },
  {
   "cell_type": "code",
   "execution_count": 78,
   "id": "13725f32",
   "metadata": {
    "colab": {
     "base_uri": "https://localhost:8080/"
    },
    "id": "13725f32",
    "outputId": "90639427-6046-4e08-edc4-c11485f97c24",
    "slideshow": {
     "slide_type": "slide"
    }
   },
   "outputs": [
    {
     "name": "stdout",
     "output_type": "stream",
     "text": [
      "B\n"
     ]
    }
   ],
   "source": [
    "course_marks = {'Linda': 82, 'Andrew': 100, 'Jasmine': 12}\n",
    "\n",
    "if course_marks['Linda'] >= 90:\n",
    "    print(\"A\")\n",
    "\n",
    "elif course_marks['Linda'] >= 80:\n",
    "    print(\"B\")\n",
    "\n",
    "elif course_marks['Linda'] >= 70:\n",
    "    print(\"C\")\n",
    "\n",
    "else:\n",
    "    print('Fail')\n",
    "\n"
   ]
  },
  {
   "cell_type": "markdown",
   "id": "2977b6a1",
   "metadata": {
    "id": "2977b6a1",
    "slideshow": {
     "slide_type": "slide"
    }
   },
   "source": [
    "### Nested Ifs"
   ]
  },
  {
   "cell_type": "code",
   "execution_count": 79,
   "id": "60fbe6e1",
   "metadata": {
    "colab": {
     "base_uri": "https://localhost:8080/"
    },
    "id": "60fbe6e1",
    "outputId": "4ab3f2f1-8846-45ed-fa2f-8b1c9b3a2216",
    "slideshow": {
     "slide_type": "fragment"
    }
   },
   "outputs": [
    {
     "name": "stdout",
     "output_type": "stream",
     "text": [
      "positive\n"
     ]
    }
   ],
   "source": [
    "a = 1\n",
    "if a > 0:\n",
    "    print('positive')\n",
    "elif a == 0:\n",
    "    print('zero')\n",
    "else:\n",
    "    print('negative')"
   ]
  },
  {
   "cell_type": "code",
   "execution_count": 80,
   "id": "27237130",
   "metadata": {
    "colab": {
     "base_uri": "https://localhost:8080/"
    },
    "id": "27237130",
    "outputId": "5da40251-3c92-4125-b3e4-e0c578da6e0b",
    "slideshow": {
     "slide_type": "fragment"
    }
   },
   "outputs": [
    {
     "name": "stdout",
     "output_type": "stream",
     "text": [
      "Positive Number\n"
     ]
    }
   ],
   "source": [
    "a = 1\n",
    "\n",
    "if a >= 0:\n",
    "    if a == 0:\n",
    "        print('zero')\n",
    "    else:\n",
    "        print('Positive Number')\n",
    "\n",
    "else:\n",
    "    print(\"negative Number\")"
   ]
  },
  {
   "cell_type": "markdown",
   "id": "cd0bb7c5",
   "metadata": {
    "id": "cd0bb7c5",
    "slideshow": {
     "slide_type": "slide"
    }
   },
   "source": [
    "## Control Flow: For Loops (definite iterations)\n",
    "\n",
    "If all we were able to do with lists, tuples, and dictionaries was store data in them, they would essentially\n",
    "just be useful for organizing our code and nothing else.\n",
    "Luckily, we can iterate through them using \"for\" loops. The \"for\" loop\n",
    "has the following format:\n",
    "```python\n",
    "for [loop variable] in [iterable object]:\n",
    "    [code to execute using loop variable]\n",
    "```"
   ]
  },
  {
   "cell_type": "code",
   "execution_count": 81,
   "id": "56b0d31c",
   "metadata": {
    "colab": {
     "base_uri": "https://localhost:8080/"
    },
    "id": "56b0d31c",
    "outputId": "e81f5af1-0188-4f9f-aa53-36b9686a4466",
    "slideshow": {
     "slide_type": "slide"
    }
   },
   "outputs": [
    {
     "name": "stdout",
     "output_type": "stream",
     "text": [
      "A\n",
      "l\n",
      "i\n",
      "b\n",
      "e\n",
      "k\n"
     ]
    }
   ],
   "source": [
    "# simple for loop\n",
    "\n",
    "my_name = \"Alibek\"\n",
    "\n",
    "for char in my_name:\n",
    "  print(char)"
   ]
  },
  {
   "cell_type": "code",
   "execution_count": 82,
   "id": "3R5BrSlA1_b8",
   "metadata": {
    "colab": {
     "base_uri": "https://localhost:8080/"
    },
    "id": "3R5BrSlA1_b8",
    "outputId": "f771e062-89a5-47e5-d480-3edaa479ef2a",
    "slideshow": {
     "slide_type": "slide"
    }
   },
   "outputs": [
    {
     "name": "stdout",
     "output_type": "stream",
     "text": [
      "Linda : 84\n",
      "Andrew : 100\n",
      "Jasmine : 12\n"
     ]
    }
   ],
   "source": [
    "course_marks = {'Linda': 84, 'Andrew': 100, 'Jasmine': 12}\n",
    "\n",
    "students = course_marks.keys()\n",
    "marks = course_marks.values()\n",
    "pass_mark = 85\n",
    "\n",
    "for student in students:\n",
    "    print(student + ' : ' + str(course_marks[student]))"
   ]
  },
  {
   "cell_type": "code",
   "execution_count": 83,
   "id": "75d025b6",
   "metadata": {
    "colab": {
     "base_uri": "https://localhost:8080/"
    },
    "id": "75d025b6",
    "outputId": "5ee35df2-845a-49f7-ddb7-3b7d306280b7",
    "slideshow": {
     "slide_type": "slide"
    }
   },
   "outputs": [
    {
     "name": "stdout",
     "output_type": "stream",
     "text": [
      "Linda has not passed\n",
      "Andrew has passed their course\n",
      "Jasmine has not passed\n"
     ]
    },
    {
     "data": {
      "text/plain": [
       "[84, 100, 12]"
      ]
     },
     "execution_count": 83,
     "metadata": {},
     "output_type": "execute_result"
    }
   ],
   "source": [
    "course_marks = {'Linda': 84, 'Andrew': 100, 'Jasmine': 12}\n",
    "\n",
    "student_names = course_marks.keys()\n",
    "marks = course_marks.values()\n",
    "pass_mark = 85\n",
    "\n",
    "for student in student_names:\n",
    "    if course_marks[student] >= pass_mark:\n",
    "        print(student + \" has passed their course\")\n",
    "\n",
    "    else:\n",
    "        print(student + \" has not passed\")\n",
    "marks_list = list(marks)\n",
    "marks_list"
   ]
  },
  {
   "cell_type": "code",
   "execution_count": 84,
   "id": "2d7efa0a",
   "metadata": {
    "colab": {
     "base_uri": "https://localhost:8080/"
    },
    "id": "2d7efa0a",
    "outputId": "6dc6d174-c8fa-4525-fae1-92b640d4fe37",
    "slideshow": {
     "slide_type": "slide"
    }
   },
   "outputs": [
    {
     "name": "stdout",
     "output_type": "stream",
     "text": [
      "Linda has not passed\n",
      "Andrew has passed\n",
      "Jasmine has not passed\n"
     ]
    }
   ],
   "source": [
    "for student_grade in course_marks.items():\n",
    "    name = student_grade[0]\n",
    "    grade = student_grade[1]\n",
    "    if grade >= pass_mark:\n",
    "        print(name + ' has passed')\n",
    "    else:\n",
    "        print(name + ' has not passed')"
   ]
  },
  {
   "cell_type": "code",
   "execution_count": 85,
   "id": "fd4c44f4",
   "metadata": {
    "colab": {
     "base_uri": "https://localhost:8080/",
     "height": 36
    },
    "id": "fd4c44f4",
    "outputId": "53ad4a93-c0ee-4990-9444-148e9f5c4141",
    "slideshow": {
     "slide_type": "fragment"
    }
   },
   "outputs": [
    {
     "data": {
      "text/plain": [
       "'my name is Jasmine'"
      ]
     },
     "execution_count": 85,
     "metadata": {},
     "output_type": "execute_result"
    }
   ],
   "source": [
    "f'my name is {name}'"
   ]
  },
  {
   "cell_type": "code",
   "execution_count": 86,
   "id": "3d61ea3f",
   "metadata": {
    "colab": {
     "base_uri": "https://localhost:8080/"
    },
    "id": "3d61ea3f",
    "outputId": "dabefd07-cca6-4b3f-d8fb-bf9e1c910a33",
    "slideshow": {
     "slide_type": "slide"
    }
   },
   "outputs": [],
   "source": [
    "animal_kingdom = [\n",
    "  ['Elephant', 'Tiger', 'Dog', ['Cat', 'Big Cat']],\n",
    "  ['Whale', 'Dolphin', 'Shark', 'Eel'],\n",
    "  ['Eagle', 'Robin']\n",
    "]\n",
    "\n",
    "\n",
    "# how can we print all animals one by one?\n"
   ]
  },
  {
   "cell_type": "code",
   "execution_count": 87,
   "id": "8dada10b",
   "metadata": {
    "colab": {
     "base_uri": "https://localhost:8080/"
    },
    "id": "8dada10b",
    "outputId": "0276e636-4826-419a-b220-5c86588f9c49",
    "slideshow": {
     "slide_type": "slide"
    }
   },
   "outputs": [
    {
     "name": "stdout",
     "output_type": "stream",
     "text": [
      "0\n",
      "100\n",
      "190\n",
      "285\n",
      "365\n"
     ]
    }
   ],
   "source": [
    "# summing lists\n",
    "course_marks = [100, 90, 95, 80, 70]\n",
    "marks_sum = 0 # accumulator\n",
    "\n",
    "# add them all up with a loop\n",
    "for mark in course_marks:\n",
    "    print(marks_sum)\n",
    "    marks_sum += mark"
   ]
  },
  {
   "cell_type": "code",
   "execution_count": 88,
   "id": "zJNf4gIAyGYi",
   "metadata": {
    "id": "zJNf4gIAyGYi",
    "outputId": "24e2ed88-efa2-4ce9-b09f-c68945483c16",
    "slideshow": {
     "slide_type": "fragment"
    }
   },
   "outputs": [
    {
     "data": {
      "text/plain": [
       "435"
      ]
     },
     "execution_count": 88,
     "metadata": {},
     "output_type": "execute_result"
    }
   ],
   "source": [
    "marks_sum"
   ]
  },
  {
   "cell_type": "code",
   "execution_count": 89,
   "id": "JAMQHCLE0991",
   "metadata": {
    "colab": {
     "base_uri": "https://localhost:8080/"
    },
    "id": "JAMQHCLE0991",
    "outputId": "83065108-863d-4e5e-b994-2c7304a69896",
    "slideshow": {
     "slide_type": "fragment"
    }
   },
   "outputs": [
    {
     "data": {
      "text/plain": [
       "435"
      ]
     },
     "execution_count": 89,
     "metadata": {},
     "output_type": "execute_result"
    }
   ],
   "source": [
    "# if trying to sum, could also just use the sum() function\n",
    "sum(course_marks)"
   ]
  },
  {
   "cell_type": "code",
   "execution_count": 90,
   "id": "12593187",
   "metadata": {
    "colab": {
     "base_uri": "https://localhost:8080/"
    },
    "id": "12593187",
    "outputId": "05139278-686a-43bc-c86d-47293a72a918",
    "slideshow": {
     "slide_type": "slide"
    }
   },
   "outputs": [
    {
     "name": "stdout",
     "output_type": "stream",
     "text": [
      "[72, 90, 2]\n"
     ]
    }
   ],
   "source": [
    "# Iterating through lists (or tuples) by their index\n",
    "# this is necessary to change values in a list\n",
    "course_marks = [82, 100, 12]\n",
    "\n",
    "for index in range(len(course_marks)):\n",
    "  course_marks[index] -= 10\n",
    "\n",
    "print(course_marks)"
   ]
  },
  {
   "cell_type": "code",
   "execution_count": 91,
   "id": "126a3a0d",
   "metadata": {
    "colab": {
     "base_uri": "https://localhost:8080/"
    },
    "id": "126a3a0d",
    "outputId": "c79a3f99-c7e9-46d0-edcb-36e08061cae4",
    "slideshow": {
     "slide_type": "slide"
    }
   },
   "outputs": [
    {
     "name": "stdout",
     "output_type": "stream",
     "text": [
      "Linda\n",
      "Andrew\n",
      "Jasmine\n"
     ]
    }
   ],
   "source": [
    "course_marks = {'Linda': 72, 'Andrew': 100, 'Jasmine': 12}\n",
    "\n",
    "# iterating through dictionary keys\n",
    "for k in course_marks.keys():\n",
    "    print(k)"
   ]
  },
  {
   "cell_type": "code",
   "execution_count": 92,
   "id": "CSiJZ7mAegKx",
   "metadata": {
    "colab": {
     "base_uri": "https://localhost:8080/"
    },
    "id": "CSiJZ7mAegKx",
    "outputId": "9212736f-ac0c-4d81-ebbb-928d2fd5352c",
    "slideshow": {
     "slide_type": "fragment"
    }
   },
   "outputs": [
    {
     "name": "stdout",
     "output_type": "stream",
     "text": [
      "72\n",
      "100\n",
      "12\n"
     ]
    }
   ],
   "source": [
    "# iterating through dictionary values\n",
    "for v in course_marks.values():\n",
    "    print(v)"
   ]
  },
  {
   "cell_type": "code",
   "execution_count": 93,
   "id": "R8qbYlFnedF4",
   "metadata": {
    "colab": {
     "base_uri": "https://localhost:8080/"
    },
    "id": "R8qbYlFnedF4",
    "outputId": "d145248a-41b7-4277-a237-7442b7e3768f",
    "slideshow": {
     "slide_type": "fragment"
    }
   },
   "outputs": [
    {
     "name": "stdout",
     "output_type": "stream",
     "text": [
      "Linda\n",
      "Andrew\n",
      "Jasmine\n"
     ]
    }
   ],
   "source": [
    "# what about iterating through a dictionary itself?\n",
    "for d in course_marks:\n",
    "    print(d)"
   ]
  },
  {
   "cell_type": "markdown",
   "id": "3b6d075b",
   "metadata": {
    "id": "3b6d075b",
    "slideshow": {
     "slide_type": "slide"
    }
   },
   "source": [
    "## Control Flow: While Loops (aka. indefinite iterations)\n",
    "\n",
    "Sometimes, we don't want our loop to iteratate through the values of some data structure, but\n",
    "instead want it to execute until some condition is no longer met. For this, we use a \"while\" loop, which has the\n",
    "following format:\n",
    "\n",
    "```python\n",
    "while [boolean expression]: #starts with a while keyword, followed by a test condition, ends with a colon :\n",
    "    [what you want to do each iteration] #loop body contains code that gets repeated. Must be indented 4 spaces.\n",
    "```"
   ]
  },
  {
   "cell_type": "code",
   "execution_count": 94,
   "id": "2d8e76d0",
   "metadata": {
    "id": "2d8e76d0",
    "slideshow": {
     "slide_type": "fragment"
    }
   },
   "outputs": [],
   "source": [
    "# Simple\n",
    "n = 0\n",
    "list_of_numbers = []\n",
    "\n",
    "# print all numbers from n to 0\n",
    "while n < 10:\n",
    "    list_of_numbers.append(n)\n",
    "    n += 1"
   ]
  },
  {
   "cell_type": "code",
   "execution_count": 95,
   "id": "c4e78d49",
   "metadata": {
    "id": "c4e78d49",
    "outputId": "bfd7e213-c441-4953-b947-b493f1c45065",
    "slideshow": {
     "slide_type": "fragment"
    }
   },
   "outputs": [
    {
     "data": {
      "text/plain": [
       "[0, 1, 2, 3, 4, 5, 6, 7, 8, 9]"
      ]
     },
     "execution_count": 95,
     "metadata": {},
     "output_type": "execute_result"
    }
   ],
   "source": [
    "list_of_numbers"
   ]
  },
  {
   "cell_type": "markdown",
   "id": "32b02e5f",
   "metadata": {
    "id": "4a10355d",
    "slideshow": {
     "slide_type": "slide"
    }
   },
   "source": [
    "### BE CAREFUL with INFINITE LOOPS, you'll break the matrix\n",
    "* Can be useful, for example with code that interacts with hardware may use an infinite loop to constantly check whether a button or switch has been activated\n",
    "\n",
    "* CTRL + C forces a command line process to quit"
   ]
  },
  {
   "cell_type": "markdown",
   "id": "642ce2a5",
   "metadata": {
    "id": "642ce2a5"
   },
   "source": [
    "***"
   ]
  },
  {
   "cell_type": "markdown",
   "id": "f0b96613",
   "metadata": {
    "id": "f0b96613",
    "slideshow": {
     "slide_type": "slide"
    }
   },
   "source": [
    "## Cooking Challenge\n",
    "\n",
    "Alberto is making spaghetti tonight and he needs to make sure that if he doesn't have enough of the ingredients in his pantry, he adds them to his shopping list.\n",
    "\n",
    "- For each item in the recipe, check if the ingredient is in Alberto's pantry.\n",
    "\n",
    "- If the recipe ingredient is in the pantry, check if the recipe requires more of the ingredient than what Alberto has in storage. If so, add the name and the quantity he needs to purchase as key-value pairs in the dictionary shopping_list.\n",
    "\n",
    "- If the recipe item is not in the pantry, add the ingredient and the quantity as **key-value pairs in the dictionary** shopping_list."
   ]
  },
  {
   "cell_type": "code",
   "execution_count": 2,
   "id": "26551f64",
   "metadata": {
    "id": "26551f64",
    "slideshow": {
     "slide_type": "slide"
    }
   },
   "outputs": [],
   "source": [
    "pantry = {'pasta': 3, 'garlic': 4,'sauce': 2,\n",
    "          'basil': 2, 'salt': 3, 'olive oil': 3,\n",
    "          'rice': 3, 'bread': 3, 'peanut butter': 1,\n",
    "          'flour': 1, 'eggs': 1, 'onions': 1, 'mushrooms': 3,\n",
    "          'broccoli': 2, 'butter': 2,'pickles': 6, 'milk': 2,\n",
    "          'chia seeds': 5}\n",
    "\n",
    "meal_recipe = {'pasta': 2, 'garlic': 2, 'sauce': 3,\n",
    "          'basil': 4, 'salt': 1, 'pepper': 2,\n",
    "          'olive oil': 2, 'onions': 2, 'mushrooms': 6}\n",
    "\n",
    "\n",
    "shopping_list = dict()"
   ]
  },
  {
   "cell_type": "markdown",
   "id": "f30f530f",
   "metadata": {
    "id": "f30f530f",
    "slideshow": {
     "slide_type": "slide"
    }
   },
   "source": [
    "```\n",
    "1. You have a meal recipe and you have a pantry.\n",
    "2. You read item by item in the meal recipe.\n",
    "3. FOR each item, you verify IF you have the item in your pantry.\n",
    "    3a. If you meet the previous condition, you verify IF you have enough of that item.\n",
    "4. ELSE you add the whole ingredient quantity to your shopping list.\n",
    "\n",
    "```"
   ]
  },
  {
   "cell_type": "code",
   "execution_count": 3,
   "id": "034b6926",
   "metadata": {
    "id": "034b6926",
    "outputId": "e6459298-be66-4394-8dfc-9b4204666dca"
   },
   "outputs": [
    {
     "name": "stdout",
     "output_type": "stream",
     "text": [
      "no\n"
     ]
    }
   ],
   "source": [
    "if 'salmon' not in meal_recipe.keys():\n",
    "    print('no')"
   ]
  },
  {
   "cell_type": "code",
   "execution_count": 5,
   "id": "550469b1",
   "metadata": {
    "id": "550469b1"
   },
   "outputs": [],
   "source": [
    "### Solution\n",
    "shopping_list = dict()\n",
    "\n",
    "\n",
    "for ingredient in meal_recipe:\n",
    "    if pantry.get(ingredient):\n",
    "        inventory = pantry.get(ingredient)\n",
    "        if inventory < meal_recipe.get(ingredient):\n",
    "            shopping_list[\"%s\" % ingredient] = meal_recipe.get(ingredient)\n",
    "        else:\n",
    "            continue\n",
    "    else:\n",
    "        shopping_list[\"%s\" % ingredient] = meal_recipe.get(ingredient)\n",
    "    \n"
   ]
  },
  {
   "cell_type": "code",
   "execution_count": 6,
   "id": "B_lx0NeNV3OQ",
   "metadata": {
    "id": "B_lx0NeNV3OQ",
    "outputId": "7c7abd49-63ee-45ba-dc2e-db4406ef3dd7"
   },
   "outputs": [
    {
     "data": {
      "text/plain": [
       "{'sauce': 3, 'basil': 4, 'pepper': 2, 'onions': 2, 'mushrooms': 6}"
      ]
     },
     "execution_count": 6,
     "metadata": {},
     "output_type": "execute_result"
    }
   ],
   "source": [
    "shopping_list"
   ]
  },
  {
   "cell_type": "code",
   "execution_count": 10,
   "id": "df0cd26a",
   "metadata": {},
   "outputs": [
    {
     "name": "stdout",
     "output_type": "stream",
     "text": [
      "{'sauce': 3, 'basil': 4, 'pepper': 2, 'onions': 2, 'mushrooms': 6}\n"
     ]
    }
   ],
   "source": [
    "\n",
    "shopping_list = dict()\n",
    "\n",
    "for ingredient, amount_needed in meal_recipe.items():\n",
    "    inventory = pantry.get(ingredient, 0)\n",
    "    if inventory < amount_needed:\n",
    "        shopping_list[ingredient] = amount_needed\n",
    "\n",
    "print(shopping_list)\n"
   ]
  },
  {
   "cell_type": "code",
   "execution_count": 9,
   "id": "2e628ace",
   "metadata": {},
   "outputs": [
    {
     "name": "stdout",
     "output_type": "stream",
     "text": [
      "{}\n"
     ]
    }
   ],
   "source": [
    "shopping_list = dict()\n",
    "print(shopping_list)"
   ]
  },
  {
   "cell_type": "code",
   "execution_count": null,
   "id": "bfa85e01",
   "metadata": {},
   "outputs": [],
   "source": []
  }
 ],
 "metadata": {
  "celltoolbar": "Slideshow",
  "colab": {
   "provenance": []
  },
  "kernelspec": {
   "display_name": "Python 3 (ipykernel)",
   "language": "python",
   "name": "python3"
  },
  "language_info": {
   "codemirror_mode": {
    "name": "ipython",
    "version": 3
   },
   "file_extension": ".py",
   "mimetype": "text/x-python",
   "name": "python",
   "nbconvert_exporter": "python",
   "pygments_lexer": "ipython3",
   "version": "3.11.5"
  }
 },
 "nbformat": 4,
 "nbformat_minor": 5
}

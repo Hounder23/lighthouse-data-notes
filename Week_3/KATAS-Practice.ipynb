{
 "cells": [
  {
   "cell_type": "markdown",
   "id": "3b694ddd",
   "metadata": {},
   "source": [
    "##### Kata 1 - Sum the Largest Numbers"
   ]
  },
  {
   "cell_type": "markdown",
   "id": "25150350",
   "metadata": {},
   "source": [
    "Create a function named sumLargestNumbers that will receive a list of numbers and return the sum of the two largest numbers in that array."
   ]
  },
  {
   "cell_type": "code",
   "execution_count": 12,
   "id": "b407fa2d",
   "metadata": {},
   "outputs": [
    {
     "name": "stdout",
     "output_type": "stream",
     "text": [
      "11\n",
      "5\n",
      "126\n"
     ]
    }
   ],
   "source": [
    "def sumLargestNumbers(numList):\n",
    "    # Put your solution here\n",
    "    largest = 0\n",
    "    next_largest = 0\n",
    "    for i in numList:\n",
    "        if i > largest:\n",
    "            next_largest = largest\n",
    "            largest = i\n",
    "        elif i > next_largest:\n",
    "            next_largest = i\n",
    "        else:\n",
    "            continue\n",
    "    return (largest + next_largest)\n",
    "            \n",
    "\n",
    "\n",
    "\n",
    "print(sumLargestNumbers([1, 10]))\n",
    "print(sumLargestNumbers([1, 2, 3]))\n",
    "print(sumLargestNumbers([10, 4, 34, 6, 92, 2]))\n"
   ]
  },
  {
   "cell_type": "code",
   "execution_count": 13,
   "id": "61251e2b",
   "metadata": {},
   "outputs": [
    {
     "name": "stdout",
     "output_type": "stream",
     "text": [
      "11\n",
      "5\n",
      "126\n"
     ]
    }
   ],
   "source": [
    "def sum_largest_numbers_no_loop(num_list):\n",
    "    if len(num_list) < 2:\n",
    "        return \"list must be larger\"\n",
    "    \n",
    "    largest = max(num_list)\n",
    "    num_list.remove(largest)  # Pop off the largest number from the list\n",
    "    next_largest = max(num_list) if num_list else largest\n",
    "    \n",
    "    return (largest + next_largest)\n",
    "\n",
    "print(sum_largest_numbers_no_loop([1, 10]))\n",
    "print(sum_largest_numbers_no_loop([1, 2, 3]))\n",
    "print(sum_largest_numbers_no_loop([10, 4, 34, 6, 92, 2]))"
   ]
  },
  {
   "cell_type": "markdown",
   "id": "dd593dd0",
   "metadata": {},
   "source": [
    "##### Kata 2 - Conditional sums\n",
    "\n",
    "Create a function named conditionalSum that will be given a list of numbers and a condition, in this case odd or even. \n",
    "Given this condition, add up only the values which match that condition. \n",
    "If no values match the condition, return 0."
   ]
  },
  {
   "cell_type": "code",
   "execution_count": 14,
   "id": "e0405b26",
   "metadata": {},
   "outputs": [
    {
     "name": "stdout",
     "output_type": "stream",
     "text": [
      "6\n",
      "9\n",
      "144\n",
      "0\n"
     ]
    }
   ],
   "source": [
    "def conditionalSum(values, condition):\n",
    "    sum=0\n",
    "    \n",
    "    for i in values:\n",
    "        if i %2 == 0 and condition == \"even\":\n",
    "            sum += i\n",
    "        elif i%2 != 0 and condition ==\"odd\":\n",
    "            sum += i \n",
    "        else:\n",
    "            continue \n",
    "        \n",
    "    return sum\n",
    "\n",
    "\n",
    "print(conditionalSum([1, 2, 3, 4, 5], \"even\")) # 6 is expected\n",
    "print(conditionalSum([1, 2, 3, 4, 5], \"odd\")) # 9 is expected\n",
    "print(conditionalSum([13, 88, 12, 44, 99], \"even\")) # 144 is expected\n",
    "print(conditionalSum([], \"odd\")) # 0 is expected\n"
   ]
  },
  {
   "cell_type": "markdown",
   "id": "9a051729",
   "metadata": {},
   "source": [
    "##### Kata 3 - Vowels\n",
    "\n",
    "In this exercise, we will be counting the number of vowels that appear in a given string. For this exercise, consider the following to be vowels: a, e, i, o, and u.\n",
    "\n",
    "Create a function named numberOfVowels that will receive a string and return the number of vowels in that string."
   ]
  },
  {
   "cell_type": "code",
   "execution_count": 15,
   "id": "0e10c7b8",
   "metadata": {},
   "outputs": [
    {
     "name": "stdout",
     "output_type": "stream",
     "text": [
      "3\n",
      "5\n",
      "5\n"
     ]
    }
   ],
   "source": [
    "def numberOfVowels(data):\n",
    "    # Put your solution here\n",
    "    sum = 0\n",
    "    vowels = \"aeiou\"\n",
    "    for letter in data:\n",
    "        if letter in vowels:\n",
    "            sum+=1\n",
    "        else:\n",
    "            continue\n",
    "    return sum\n",
    "\n",
    "\n",
    "print(numberOfVowels(\"orange\")) #expected 3\n",
    "print(numberOfVowels(\"lighthouse labs\")) #expected 5\n",
    "print(numberOfVowels(\"aeiou\")) #expected 5\n"
   ]
  },
  {
   "cell_type": "markdown",
   "id": "a643efa1",
   "metadata": {},
   "source": [
    "##### Kata 4 - Instructors Names\n",
    "\n",
    "In this exercise, we will be given a list of instructors and have to determine which instructor has the longest name.\n",
    "\n",
    "Create a function named instructorWithLongestName that will receive a list of instructor dictionaries, and return the object that has the longest name. If there are two instructors with the longest name, return the first one."
   ]
  },
  {
   "cell_type": "code",
   "execution_count": 16,
   "id": "e0c20b17",
   "metadata": {},
   "outputs": [
    {
     "name": "stdout",
     "output_type": "stream",
     "text": [
      "{'name': 'Jeremiah', 'course': 'Data'}\n",
      "{'name': 'Domascus', 'course': 'Web'}\n"
     ]
    }
   ],
   "source": [
    "def instructorWithLongestName(instructors):\n",
    "    # Put your solution here\n",
    "    longestName = \"\"\n",
    "\n",
    "    #DETERMINE THE LONGEST NAME \n",
    "    for instructor in instructors:\n",
    "        name = instructor[\"name\"]\n",
    "        if len(name) > len(longestName):\n",
    "            longestName = name\n",
    "        else:\n",
    "            continue\n",
    "\n",
    "    #FIND AN RETURN THE DICTIONARY CONTAINING THE LONGEST NAME\n",
    "    for instructor in instructors:\n",
    "        if instructor[\"name\"] == longestName:\n",
    "            return instructor\n",
    "        else: \n",
    "            continue\n",
    "    \n",
    "\n",
    "print(instructorWithLongestName([\n",
    "  {\"name\": \"Samuel\", \"course\": \"iOS\"},\n",
    "  {\"name\": \"Jeremiah\", \"course\": \"Data\"},\n",
    "  {\"name\": \"Ophilia\", \"course\": \"Web\"},\n",
    "  {\"name\": \"Donald\", \"course\": \"Web\"}\n",
    "]))\n",
    "# {\"name\": \"Jeremiah\", \"course\": \"Data\"} is expected output\n",
    "\n",
    "\n",
    "print(instructorWithLongestName([\n",
    "  {\"name\": \"Matthew\", \"course\": \"Data\"},\n",
    "  {\"name\": \"David\", \"course\": \"iOS\"},\n",
    "  {\"name\": \"Domascus\", \"course\": \"Web\"}\n",
    "]))\n",
    "# {\"name\": \"Domascus\", \"course\": \"Web\"} is expected output"
   ]
  },
  {
   "cell_type": "code",
   "execution_count": 17,
   "id": "2efed2d8",
   "metadata": {},
   "outputs": [
    {
     "name": "stdout",
     "output_type": "stream",
     "text": [
      "{'name': 'Jeremiah', 'course': 'Data'}\n",
      "{'name': 'Domascus', 'course': 'Web'}\n"
     ]
    }
   ],
   "source": [
    "def instructorWithLongestName(instructors):\n",
    "    longest_name = \"\"\n",
    "    instructor_with_longest_name = None\n",
    "\n",
    "    for instructor in instructors:\n",
    "        name = instructor[\"name\"]\n",
    "        if len(name) > len(longest_name):\n",
    "            longest_name = name\n",
    "            instructor_with_longest_name = instructor\n",
    "    \n",
    "    return instructor_with_longest_name\n",
    "\n",
    "\n",
    "print(instructorWithLongestName([\n",
    "  {\"name\": \"Samuel\", \"course\": \"iOS\"},\n",
    "  {\"name\": \"Jeremiah\", \"course\": \"Data\"},\n",
    "  {\"name\": \"Ophilia\", \"course\": \"Web\"},\n",
    "  {\"name\": \"Donald\", \"course\": \"Web\"}\n",
    "]))\n",
    "# {\"name\": \"Jeremiah\", \"course\": \"Data\"} is expected output\n",
    "\n",
    "\n",
    "print(instructorWithLongestName([\n",
    "  {\"name\": \"Matthew\", \"course\": \"Data\"},\n",
    "  {\"name\": \"David\", \"course\": \"iOS\"},\n",
    "  {\"name\": \"Domascus\", \"course\": \"Web\"}\n",
    "]))\n",
    "# {\"name\": \"Domascus\", \"course\": \"Web\"} is expected output"
   ]
  },
  {
   "cell_type": "code",
   "execution_count": null,
   "id": "5dc334d2",
   "metadata": {},
   "outputs": [],
   "source": []
  },
  {
   "cell_type": "markdown",
   "id": "927ea6b9",
   "metadata": {},
   "source": [
    "### Kata 5 - Percent Encoded String"
   ]
  },
  {
   "cell_type": "markdown",
   "id": "e41cf8b3",
   "metadata": {},
   "source": [
    "## Percent Encoding\n",
    "\n",
    "Take a look at the following URL, specifically the last part:\n",
    "\n",
    "\"https://www.google.com/search?q=lighthouse%20labs\"\n",
    "\n",
    "This URL will perform a Google search for the term \"lighthouse labs\". Notice that when the string \"lighthouse labs\" is part of a URL, the space is replaced with %20.\n",
    "\n",
    "If we want to add a parameter to a URL, there are certain characters that must be encoded in order to make the URL valid. There are many characters that must be encoded, including: , !, \", and #. For this exercise, we will only be focusing on replacing the space with %20."
   ]
  },
  {
   "cell_type": "markdown",
   "id": "3418ecfc",
   "metadata": {},
   "source": [
    "Create a function named url_encode that will receive a string of words, and return that string with all of the whitespace characters converted to %20. If there is whitespace on the outside of the string, like in our second example above, you should only replace the whitespace within the string."
   ]
  },
  {
   "cell_type": "markdown",
   "id": "269fe998",
   "metadata": {},
   "source": [
    "Use some sort of looping. Do NOT use the string function replace()."
   ]
  },
  {
   "cell_type": "code",
   "execution_count": 2,
   "id": "2ca9954c",
   "metadata": {},
   "outputs": [
    {
     "name": "stdout",
     "output_type": "stream",
     "text": [
      "Lighthouse%20Labs\n",
      "Lighthouse%20Labs\n",
      "blue%20is%20greener%20than%20purple%20for%20sure\n"
     ]
    }
   ],
   "source": [
    "def url_encode(text):\n",
    "    # Put your solution here\n",
    "    newString = \"\"\n",
    "    strippedText = text.strip()#for cases like testcase 2 output matches testcase 1\n",
    "    for char in strippedText:\n",
    "        if char == ' ':\n",
    "            newString += '%20'\n",
    "        else:\n",
    "            newString += char\n",
    "    return newString\n",
    "\n",
    "\n",
    "print(url_encode(\"Lighthouse Labs\")) #Lighthouse%20Labs\n",
    "print(url_encode(\" Lighthouse Labs  \")) #Lighthouse%20Labs\n",
    "print(url_encode(\"blue is greener than purple for sure\"))#blue%20is%20greener%20than%20purple%20for%20sure\n"
   ]
  },
  {
   "cell_type": "markdown",
   "id": "dab2004d",
   "metadata": {},
   "source": []
  },
  {
   "cell_type": "markdown",
   "id": "76cfe394",
   "metadata": {},
   "source": [
    "### Kata 6 - SmartParking"
   ]
  },
  {
   "cell_type": "markdown",
   "id": "f782b6bf",
   "metadata": {},
   "source": [
    "Welcome to Codeville! The parking lot in the Codeville Devtropolis Shopping Mall needs an upgrade, and you've decided this is the perfect opportunity to install a smart parking system.\n",
    "\n",
    "The system will use special parking sensors to keep track of all parking spots and monitor which ones are available. Every time a vehicle enters the parking lot, the system directs them to an available spot for their particular vehicle type, or notifies them that no spots are available."
   ]
  },
  {
   "cell_type": "markdown",
   "id": "d37f4d02",
   "metadata": {},
   "source": [
    "We need to write a function called whereCanIPark() that returns the coordinates of an available parking spot for the vehicle, or returns false if there is no available spot. Our function receives a list of lists representing parking spots, and a string with type of the vehicle that is looking for a parking spot."
   ]
  },
  {
   "cell_type": "markdown",
   "id": "0040e5a3",
   "metadata": {},
   "source": [
    "There are three kinds of possible vehicles: regular cars, small cars, and motorcycles.\n",
    "\n",
    "    Regular cars can only park in R spots.\n",
    "    Small cars can park in R or S spots.\n",
    "    Motorcycles can park in R, S, or M spots.\n",
    "\n",
    "In the list of parking spots, spots are written in both lower-case and upper-case. An upper-case letter means that the particular spot is AVAILABLE, while lower-case letters mean that the spot is UNAVAILABLE.\n",
    "\n",
    "Our function must return a list with the coordinates of the spot as an [X, Y] pair. See the example input and output below for an illustration."
   ]
  },
  {
   "cell_type": "markdown",
   "id": "45e843f1",
   "metadata": {},
   "source": [
    "There may be multiple available spots for a particular vehicle. It does not matter which spot your function chooses, as long as the spot is available. And if there are no available spots, remember to return false."
   ]
  },
  {
   "cell_type": "code",
   "execution_count": 5,
   "id": "cd48d8c8",
   "metadata": {},
   "outputs": [
    {
     "name": "stdout",
     "output_type": "stream",
     "text": [
      "[[4, 0]]\n",
      "False\n",
      "[[1, 4], [3, 5], [4, 5]]\n"
     ]
    }
   ],
   "source": [
    "def whereCanIPark(spots, vehicle):\n",
    "    # Code here!\n",
    "    coords=[]\n",
    "    ourVehicle = vehicle[0].upper()\n",
    "    for y in range(len(spots)):\n",
    "        for x in range(len(spots[y])):\n",
    "            if spots[y][x] == ourVehicle:\n",
    "                coords.append([x,y])\n",
    "              \n",
    "    if len(coords) > 0:\n",
    "        return coords\n",
    "    return False\n",
    "\n",
    "\n",
    "print(whereCanIPark(\n",
    "  [\n",
    "    # COLUMNS ARE X\n",
    "    # 0    1    2    3    4    5\n",
    "    ['s', 's', 's', 'S', 'R', 'M'], # 0 ROWS ARE Y\n",
    "    ['s', 'M', 's', 'S', 'r', 'M'], # 1\n",
    "    ['s', 'M', 's', 'S', 'r', 'm'], # 2\n",
    "    ['S', 'r', 's', 'm', 'r', 'M'], # 3\n",
    "    ['S', 'r', 's', 'm', 'r', 'M'], # 4\n",
    "    ['S', 'r', 'S', 'M', 'M', 'S']  # 5\n",
    "  ],\n",
    "  'regular'\n",
    ")) # expected output [4,0]\n",
    "\n",
    "print(whereCanIPark(\n",
    "  [\n",
    "    ['M', 'M', 'M', 'M'],\n",
    "    ['M', 's', 'M', 'M'],\n",
    "    ['M', 'M', 'M', 'M'],\n",
    "    ['M', 'M', 'r', 'M']\n",
    "  ],\n",
    "  'small'\n",
    ")) # expected output False\n",
    "\n",
    "print(whereCanIPark(\n",
    "  [\n",
    "    ['s', 's', 's', 's', 's', 's'],\n",
    "    ['s', 'm', 's', 'S', 'r', 's'],\n",
    "    ['s', 'm', 's', 'S', 'r', 's'],\n",
    "    ['S', 'r', 's', 'm', 'r', 's'],\n",
    "    ['S', 'M', 's', 'm', 'R', 's'],\n",
    "    ['S', 'r', 'S', 'M', 'M', 'S']\n",
    "  ],\n",
    "  'motorcycle'\n",
    ")) # expected output [3,5]\n"
   ]
  },
  {
   "cell_type": "code",
   "execution_count": null,
   "id": "1554fe8b",
   "metadata": {},
   "outputs": [],
   "source": []
  }
 ],
 "metadata": {
  "kernelspec": {
   "display_name": "Python 3 (ipykernel)",
   "language": "python",
   "name": "python3"
  },
  "language_info": {
   "codemirror_mode": {
    "name": "ipython",
    "version": 3
   },
   "file_extension": ".py",
   "mimetype": "text/x-python",
   "name": "python",
   "nbconvert_exporter": "python",
   "pygments_lexer": "ipython3",
   "version": "3.11.5"
  }
 },
 "nbformat": 4,
 "nbformat_minor": 5
}

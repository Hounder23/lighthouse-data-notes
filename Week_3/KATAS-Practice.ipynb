{
 "cells": [
  {
   "cell_type": "markdown",
   "id": "3b694ddd",
   "metadata": {},
   "source": [
    "###Kata 1 - Sum the Largest Numbers"
   ]
  },
  {
   "cell_type": "markdown",
   "id": "25150350",
   "metadata": {},
   "source": [
    "Create a function named sumLargestNumbers that will receive a list of numbers and return the sum of the two largest numbers in that array."
   ]
  },
  {
   "cell_type": "code",
   "execution_count": 2,
   "id": "b407fa2d",
   "metadata": {},
   "outputs": [
    {
     "name": "stdout",
     "output_type": "stream",
     "text": [
      "11\n",
      "5\n",
      "126\n"
     ]
    }
   ],
   "source": [
    "def sumLargestNumbers(numList):\n",
    "    # Put your solution here\n",
    "    largest = 0\n",
    "    next_largest = 0\n",
    "    for i in numList:\n",
    "        if i > largest:\n",
    "            next_largest = largest\n",
    "            largest = i\n",
    "        elif i > next_largest:\n",
    "            next_largest = i\n",
    "        else:\n",
    "            continue\n",
    "    return (largest + next_largest)\n",
    "            \n",
    "\n",
    "\n",
    "\n",
    "print(sumLargestNumbers([1, 10]))\n",
    "print(sumLargestNumbers([1, 2, 3]))\n",
    "print(sumLargestNumbers([10, 4, 34, 6, 92, 2]))\n"
   ]
  },
  {
   "cell_type": "code",
   "execution_count": 1,
   "id": "61251e2b",
   "metadata": {},
   "outputs": [
    {
     "name": "stdout",
     "output_type": "stream",
     "text": [
      "11\n",
      "5\n",
      "126\n"
     ]
    }
   ],
   "source": [
    "def sum_largest_numbers_no_loop(num_list):\n",
    "    if len(num_list) < 2:\n",
    "        return \"list must be larger\"\n",
    "    \n",
    "    largest = max(num_list)\n",
    "    num_list.remove(largest)  # Pop off the largest number from the list\n",
    "    next_largest = max(num_list) if num_list else largest\n",
    "    \n",
    "    return (largest + next_largest)\n",
    "\n",
    "print(sum_largest_numbers_no_loop([1, 10]))\n",
    "print(sum_largest_numbers_no_loop([1, 2, 3]))\n",
    "print(sum_largest_numbers_no_loop([10, 4, 34, 6, 92, 2]))"
   ]
  },
  {
   "cell_type": "markdown",
   "id": "dd593dd0",
   "metadata": {},
   "source": [
    "Kata 2 - Conditional sums\n",
    "\n",
    "Create a function named conditionalSum that will be given a list of numbers and a condition, in this case odd or even. \n",
    "Given this condition, add up only the values which match that condition. \n",
    "If no values match the condition, return 0."
   ]
  },
  {
   "cell_type": "code",
   "execution_count": 2,
   "id": "e0405b26",
   "metadata": {},
   "outputs": [
    {
     "name": "stdout",
     "output_type": "stream",
     "text": [
      "6\n",
      "9\n",
      "144\n",
      "0\n"
     ]
    }
   ],
   "source": [
    "def conditionalSum(values, condition):\n",
    "    sum=0\n",
    "    \n",
    "    for i in values:\n",
    "        if i %2 == 0 and condition == \"even\":\n",
    "            sum += i\n",
    "        elif i%2 != 0 and condition ==\"odd\":\n",
    "            sum += i \n",
    "        else:\n",
    "            continue \n",
    "        \n",
    "    return sum\n",
    "\n",
    "\n",
    "print(conditionalSum([1, 2, 3, 4, 5], \"even\")) # 6 is expected\n",
    "print(conditionalSum([1, 2, 3, 4, 5], \"odd\")) # 9 is expected\n",
    "print(conditionalSum([13, 88, 12, 44, 99], \"even\")) # 144 is expected\n",
    "print(conditionalSum([], \"odd\")) # 0 is expected\n"
   ]
  }
 ],
 "metadata": {
  "kernelspec": {
   "display_name": "Python 3 (ipykernel)",
   "language": "python",
   "name": "python3"
  },
  "language_info": {
   "codemirror_mode": {
    "name": "ipython",
    "version": 3
   },
   "file_extension": ".py",
   "mimetype": "text/x-python",
   "name": "python",
   "nbconvert_exporter": "python",
   "pygments_lexer": "ipython3",
   "version": "3.11.5"
  }
 },
 "nbformat": 4,
 "nbformat_minor": 5
}

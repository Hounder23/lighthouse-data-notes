{
 "cells": [
  {
   "cell_type": "markdown",
   "metadata": {},
   "source": [
    "###USER DEFINED FUNCTIONS\n"
   ]
  },
  {
   "cell_type": "code",
   "execution_count": 2,
   "metadata": {},
   "outputs": [
    {
     "name": "stdout",
     "output_type": "stream",
     "text": [
      "HappyBirthday to joe!!\n",
      "HappyBirthday to joe!!\n",
      "you are 23!!\n",
      "\n",
      "HappyBirthday to fred!!\n",
      "HappyBirthday to fred!!\n",
      "you are 34!!\n",
      "\n",
      "HappyBirthday to pat!!\n",
      "HappyBirthday to pat!!\n",
      "you are 27!!\n",
      "\n"
     ]
    }
   ],
   "source": [
    "# FUNCTION = A BLOCK OF REUSABLE CODE\n",
    "#            PLACE () AFTER THE FUNCTION NAME TO INVIOKE IT\n",
    "\n",
    "def happy_birthday(name,age):\n",
    "    print(\"HappyBirthday to %s!!\" % name)\n",
    "    print(f\"HappyBirthday to {name}!!\")\n",
    "    print(f\"you are {age}!!\\n\")\n",
    "\n",
    "happy_birthday('joe',23)\n",
    "happy_birthday('fred',34)\n",
    "happy_birthday('pat',27)"
   ]
  },
  {
   "cell_type": "code",
   "execution_count": 3,
   "metadata": {},
   "outputs": [
    {
     "name": "stdout",
     "output_type": "stream",
     "text": [
      "Hello theo\n",
      "Your bill of 45.65 is due : 04/01\n"
     ]
    }
   ],
   "source": [
    "def display_invoice(username,amount,due_date):\n",
    "    print(f\"Hello {username}\")\n",
    "    print(f\"Your bill of {amount:.2f} is due : {due_date}\")\n",
    "\n",
    "\n",
    "display_invoice(\"theo\",45.65,\"04/01\")"
   ]
  },
  {
   "cell_type": "code",
   "execution_count": 5,
   "metadata": {},
   "outputs": [
    {
     "name": "stdout",
     "output_type": "stream",
     "text": [
      "3\n",
      "-1\n",
      "2\n",
      "0.5\n"
     ]
    }
   ],
   "source": [
    "##return practice\n",
    "\n",
    "def add(x,y):\n",
    "    z = x+y\n",
    "    return z\n",
    "\n",
    "def subtract(x,y):\n",
    "    z = x-y\n",
    "    return z\n",
    "\n",
    "def multiply(x,y):\n",
    "    z = x*y\n",
    "    return z\n",
    "\n",
    "def divide(x,y):\n",
    "    z = x/y\n",
    "    return z\n",
    "\n",
    "print(add(1,2))\n",
    "print(subtract(1,2))\n",
    "print(multiply(1,2))\n",
    "print(divide(1,2))"
   ]
  },
  {
   "cell_type": "code",
   "execution_count": 6,
   "metadata": {},
   "outputs": [],
   "source": [
    "def create_name(first,last):\n",
    "    first = first.capitalize()\n",
    "    last = last.capitalize()\n",
    "    return (first + \" \" + last)\n",
    "\n",
    "fullname = create_name(\"patrick\",\"star\")"
   ]
  },
  {
   "cell_type": "code",
   "execution_count": 8,
   "metadata": {},
   "outputs": [
    {
     "name": "stdout",
     "output_type": "stream",
     "text": [
      "Patrick Star\n"
     ]
    }
   ],
   "source": [
    "print (fullname)"
   ]
  },
  {
   "cell_type": "code",
   "execution_count": null,
   "metadata": {},
   "outputs": [],
   "source": []
  }
 ],
 "metadata": {
  "kernelspec": {
   "display_name": "base",
   "language": "python",
   "name": "python3"
  },
  "language_info": {
   "codemirror_mode": {
    "name": "ipython",
    "version": 3
   },
   "file_extension": ".py",
   "mimetype": "text/x-python",
   "name": "python",
   "nbconvert_exporter": "python",
   "pygments_lexer": "ipython3",
   "version": "3.11.5"
  }
 },
 "nbformat": 4,
 "nbformat_minor": 2
}

{
 "cells": [
  {
   "cell_type": "markdown",
   "metadata": {},
   "source": [
    "# Time & Date Exercise"
   ]
  },
  {
   "cell_type": "code",
   "execution_count": 7,
   "metadata": {
    "ExecuteTime": {
     "end_time": "2020-04-23T12:59:43.427172Z",
     "start_time": "2020-04-23T12:59:43.421241Z"
    }
   },
   "outputs": [],
   "source": [
    "import datetime"
   ]
  },
  {
   "cell_type": "markdown",
   "metadata": {
    "ExecuteTime": {
     "end_time": "2020-04-23T12:52:58.201151Z",
     "start_time": "2020-04-23T12:52:58.193651Z"
    }
   },
   "source": [
    "**print:**\n",
    "1.  Current date and time\n",
    "2.  Current year\n",
    "3.  Month of year\n",
    "4.  Week number of the year\n",
    "5.  Weekday of the week\n",
    "6.  Day of year\n",
    "7.  Day of the month\n",
    "8.  Day of week"
   ]
  },
  {
   "cell_type": "code",
   "execution_count": 10,
   "metadata": {
    "ExecuteTime": {
     "end_time": "2020-04-23T12:53:26.216074Z",
     "start_time": "2020-04-23T12:53:26.206960Z"
    }
   },
   "outputs": [
    {
     "name": "stdout",
     "output_type": "stream",
     "text": [
      "1.  Current date and time   :  2024-02-25 08:42:33.243206\n",
      "2.  Current year            :  2024\n",
      "3.  Month of year           :  2\n",
      "4.  Week number of the year :  8\n",
      "5.  Weekday of the week     :  Sunday\n",
      "6.  Day of year             :  56\n",
      "7.  Day of the month        :  25\n",
      "8.  Day of week             :  Sunday\n"
     ]
    }
   ],
   "source": [
    "today = datetime.datetime.now()\n",
    "weekday_names = [\"Monday\", \"Tuesday\", \"Wednesday\", \"Thursday\", \"Friday\", \"Saturday\", \"Sunday\"]\n",
    "\n",
    "\n",
    "print(\"1.  Current date and time   : \",today)\n",
    "print(\"2.  Current year            : \",today.year)\n",
    "print(\"3.  Month of year           : \",today.month)\n",
    "print(\"4.  Week number of the year : \",today.isocalendar()[1])\n",
    "print(\"5.  Weekday of the week     : \",weekday_names[today.weekday()])\n",
    "print(\"6.  Day of year             : \",today.timetuple().tm_yday)\n",
    "print(\"7.  Day of the month        : \",int(today.strftime(\"%d\")))\n",
    "print(\"8.  Day of week             : \",today.strftime(\"%A\"))\n",
    "\n"
   ]
  },
  {
   "cell_type": "markdown",
   "metadata": {},
   "source": [
    "* convert a string to datetime\n",
    "* **string** = *'Jan 1 2014 2:43PM'*"
   ]
  },
  {
   "cell_type": "code",
   "execution_count": 13,
   "metadata": {
    "ExecuteTime": {
     "end_time": "2020-04-23T12:53:52.241615Z",
     "start_time": "2020-04-23T12:53:52.231428Z"
    }
   },
   "outputs": [
    {
     "name": "stdout",
     "output_type": "stream",
     "text": [
      "2014-01-01 14:43:00\n"
     ]
    }
   ],
   "source": [
    "from datetime import datetime\n",
    "convert_This_String ='Jan 1 2014 2:43PM'\n",
    "extracted_Datetime = datetime.strptime(convert_This_String, \"%b %d %Y %I:%M%p\" )\n",
    "print(extracted_Datetime)"
   ]
  },
  {
   "cell_type": "markdown",
   "metadata": {},
   "source": [
    "* print the current time "
   ]
  },
  {
   "cell_type": "code",
   "execution_count": 15,
   "metadata": {
    "ExecuteTime": {
     "end_time": "2020-03-11T18:16:28.915595Z",
     "start_time": "2020-03-11T18:16:28.909658Z"
    }
   },
   "outputs": [
    {
     "name": "stdout",
     "output_type": "stream",
     "text": [
      "time.struct_time(tm_year=2024, tm_mon=2, tm_mday=25, tm_hour=13, tm_min=58, tm_sec=35, tm_wday=6, tm_yday=56, tm_isdst=0)\n"
     ]
    }
   ],
   "source": [
    "from datetime import time\n",
    "import time\n",
    "current_Timestamp = time.time()\n",
    "current_Time = time.gmtime(current_Timestamp)\n",
    "print(current_Time)"
   ]
  },
  {
   "cell_type": "markdown",
   "metadata": {},
   "source": [
    "* subtract five days from current date"
   ]
  },
  {
   "cell_type": "code",
   "execution_count": 16,
   "metadata": {
    "ExecuteTime": {
     "end_time": "2020-04-23T12:54:56.116690Z",
     "start_time": "2020-04-23T12:54:56.111293Z"
    }
   },
   "outputs": [
    {
     "name": "stdout",
     "output_type": "stream",
     "text": [
      "Current date: 2024-02-25\n",
      "Date 5 days ago: 2024-02-20\n"
     ]
    }
   ],
   "source": [
    "from datetime import datetime, timedelta\n",
    "\n",
    "# Get the current date\n",
    "current_date = datetime.now().date()\n",
    "\n",
    "# Subtract 5 days\n",
    "new_date = current_date - timedelta(days=5)\n",
    "\n",
    "print(\"Current date:\", current_date)\n",
    "print(\"Date 5 days ago:\", new_date)\n"
   ]
  },
  {
   "cell_type": "markdown",
   "metadata": {
    "ExecuteTime": {
     "end_time": "2020-04-23T12:55:10.916163Z",
     "start_time": "2020-04-23T12:55:10.910245Z"
    }
   },
   "source": [
    "* convert unix timestamp string to readable date\n",
    "* **unix** = *1284105682*"
   ]
  },
  {
   "cell_type": "code",
   "execution_count": 26,
   "metadata": {
    "ExecuteTime": {
     "end_time": "2020-03-11T18:19:02.952818Z",
     "start_time": "2020-03-11T18:19:02.946930Z"
    }
   },
   "outputs": [
    {
     "name": "stdout",
     "output_type": "stream",
     "text": [
      "Readable date: 2010-09-10 08:01:22\n",
      "Formatted date: 2010-09-10 08:01:22\n"
     ]
    }
   ],
   "source": [
    "import datetime\n",
    "\n",
    "unix_TS = 1284105682\n",
    "\n",
    "# Convert the Unix timestamp to a datetime object\n",
    "readable_date = datetime.datetime.utcfromtimestamp(unix_TS)\n",
    "\n",
    "print(\"Readable date:\", readable_date)\n",
    "\n",
    "formatted_date = readable_date.strftime('%Y-%m-%d %H:%M:%S')\n",
    "print(\"Formatted date:\", formatted_date)\n"
   ]
  },
  {
   "cell_type": "markdown",
   "metadata": {
    "ExecuteTime": {
     "end_time": "2020-04-23T12:56:00.886007Z",
     "start_time": "2020-04-23T12:56:00.878697Z"
    }
   },
   "source": [
    "* convert today's date to Day of Year"
   ]
  },
  {
   "cell_type": "code",
   "execution_count": 27,
   "metadata": {
    "ExecuteTime": {
     "end_time": "2020-04-23T12:55:58.575327Z",
     "start_time": "2020-04-23T12:55:58.553895Z"
    }
   },
   "outputs": [
    {
     "name": "stdout",
     "output_type": "stream",
     "text": [
      "Day of the year: 56\n"
     ]
    }
   ],
   "source": [
    "import datetime\n",
    "\n",
    "# Get today's date\n",
    "today = datetime.datetime.now()\n",
    "\n",
    "# Get the day of the year\n",
    "day_of_year = today.timetuple().tm_yday\n",
    "\n",
    "print(\"Day of the year:\", day_of_year)\n"
   ]
  },
  {
   "cell_type": "markdown",
   "metadata": {},
   "source": [
    "* get week number from today's date"
   ]
  },
  {
   "cell_type": "code",
   "execution_count": 28,
   "metadata": {
    "ExecuteTime": {
     "end_time": "2020-04-23T12:56:28.577424Z",
     "start_time": "2020-04-23T12:56:28.572138Z"
    }
   },
   "outputs": [
    {
     "name": "stdout",
     "output_type": "stream",
     "text": [
      "Week number: 8\n"
     ]
    }
   ],
   "source": [
    "import datetime\n",
    "\n",
    "# Get today's date\n",
    "today = datetime.datetime.now()\n",
    "\n",
    "# Get the ISO week number\n",
    "week_number = today.isocalendar()[1]\n",
    "\n",
    "print(\"Week number:\", week_number)\n"
   ]
  },
  {
   "cell_type": "markdown",
   "metadata": {
    "ExecuteTime": {
     "end_time": "2020-04-23T12:56:43.939475Z",
     "start_time": "2020-04-23T12:56:43.932915Z"
    }
   },
   "source": [
    "* get the number of days between the two dates"
   ]
  },
  {
   "cell_type": "code",
   "execution_count": 24,
   "metadata": {
    "ExecuteTime": {
     "end_time": "2020-04-23T12:59:47.672905Z",
     "start_time": "2020-04-23T12:59:47.667373Z"
    }
   },
   "outputs": [
    {
     "name": "stdout",
     "output_type": "stream",
     "text": [
      "Number of days between date_a and date_b: 32\n"
     ]
    }
   ],
   "source": [
    "from datetime import datetime\n",
    "\n",
    "date_a = datetime(2020, 2, 2)\n",
    "date_b = datetime(2020, 1, 1)\n",
    "\n",
    "# Calculate the difference in days\n",
    "difference = date_a - date_b\n",
    "\n",
    "print(\"Number of days between date_a and date_b:\", difference.days)\n"
   ]
  },
  {
   "cell_type": "markdown",
   "metadata": {},
   "source": [
    "* get the number of days of the given month and year"
   ]
  },
  {
   "cell_type": "code",
   "execution_count": 25,
   "metadata": {
    "ExecuteTime": {
     "end_time": "2020-04-23T12:59:48.516068Z",
     "start_time": "2020-04-23T12:59:48.511765Z"
    }
   },
   "outputs": [
    {
     "name": "stdout",
     "output_type": "stream",
     "text": [
      "Number of days in October of 2016: 31\n"
     ]
    }
   ],
   "source": [
    "import calendar\n",
    "\n",
    "month = 10\n",
    "year = 2016\n",
    "\n",
    "# Get the number of days in the given month and year\n",
    "num_days = calendar.monthrange(year, month)[1]\n",
    "\n",
    "print(\"Number of days in {} of {}: {}\".format(calendar.month_name[month], year, num_days))\n"
   ]
  },
  {
   "cell_type": "markdown",
   "metadata": {},
   "source": [
    "* get a list of dates between the two dates"
   ]
  },
  {
   "cell_type": "code",
   "execution_count": 22,
   "metadata": {
    "ExecuteTime": {
     "end_time": "2020-04-23T12:59:53.461312Z",
     "start_time": "2020-04-23T12:59:53.456769Z"
    }
   },
   "outputs": [
    {
     "name": "stdout",
     "output_type": "stream",
     "text": [
      "List of dates between start_dt and end_dt:\n",
      "2015-12-20 00:00:00\n",
      "2015-12-21 00:00:00\n",
      "2015-12-22 00:00:00\n",
      "2015-12-23 00:00:00\n",
      "2015-12-24 00:00:00\n",
      "2015-12-25 00:00:00\n",
      "2015-12-26 00:00:00\n",
      "2015-12-27 00:00:00\n",
      "2015-12-28 00:00:00\n",
      "2015-12-29 00:00:00\n",
      "2015-12-30 00:00:00\n",
      "2015-12-31 00:00:00\n",
      "2016-01-01 00:00:00\n",
      "2016-01-02 00:00:00\n",
      "2016-01-03 00:00:00\n",
      "2016-01-04 00:00:00\n",
      "2016-01-05 00:00:00\n",
      "2016-01-06 00:00:00\n",
      "2016-01-07 00:00:00\n",
      "2016-01-08 00:00:00\n",
      "2016-01-09 00:00:00\n",
      "2016-01-10 00:00:00\n",
      "2016-01-11 00:00:00\n"
     ]
    }
   ],
   "source": [
    "from datetime import datetime, timedelta\n",
    "\n",
    "# Create datetime objects with the desired dates\n",
    "start_dt = datetime(2015, 12, 20)\n",
    "end_dt = datetime(2016, 1, 11)\n",
    "\n",
    "# Calculate the difference in days\n",
    "delta = end_dt - start_dt\n",
    "\n",
    "# Create a list to store the dates\n",
    "date_list = []\n",
    "\n",
    "# Iterate over the range of dates and append them to the list\n",
    "for i in range(delta.days + 1):\n",
    "    date_list.append(start_dt + timedelta(days=i))\n",
    "\n",
    "print(\"List of dates between start_dt and end_dt:\")\n",
    "for date in date_list:\n",
    "    print(date)\n"
   ]
  },
  {
   "cell_type": "code",
   "execution_count": null,
   "metadata": {},
   "outputs": [],
   "source": []
  }
 ],
 "metadata": {
  "kernelspec": {
   "display_name": "Python 3",
   "language": "python",
   "name": "python3"
  },
  "language_info": {
   "codemirror_mode": {
    "name": "ipython",
    "version": 3
   },
   "file_extension": ".py",
   "mimetype": "text/x-python",
   "name": "python",
   "nbconvert_exporter": "python",
   "pygments_lexer": "ipython3",
   "version": "3.11.5"
  },
  "toc": {
   "base_numbering": 1,
   "nav_menu": {},
   "number_sections": true,
   "sideBar": true,
   "skip_h1_title": false,
   "title_cell": "Table of Contents",
   "title_sidebar": "Contents",
   "toc_cell": false,
   "toc_position": {},
   "toc_section_display": true,
   "toc_window_display": false
  },
  "varInspector": {
   "cols": {
    "lenName": 16,
    "lenType": 16,
    "lenVar": 40
   },
   "kernels_config": {
    "python": {
     "delete_cmd_postfix": "",
     "delete_cmd_prefix": "del ",
     "library": "var_list.py",
     "varRefreshCmd": "print(var_dic_list())"
    },
    "r": {
     "delete_cmd_postfix": ") ",
     "delete_cmd_prefix": "rm(",
     "library": "var_list.r",
     "varRefreshCmd": "cat(var_dic_list()) "
    }
   },
   "types_to_exclude": [
    "module",
    "function",
    "builtin_function_or_method",
    "instance",
    "_Feature"
   ],
   "window_display": false
  }
 },
 "nbformat": 4,
 "nbformat_minor": 4
}

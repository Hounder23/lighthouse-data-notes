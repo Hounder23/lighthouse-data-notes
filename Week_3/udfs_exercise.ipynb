{
 "cells": [
  {
   "cell_type": "markdown",
   "metadata": {},
   "source": [
    "# UDFs in Python"
   ]
  },
  {
   "cell_type": "markdown",
   "metadata": {},
   "source": [
    "#### Greeter\n",
    "Write a function that takes in a person's name, and prints out a greeting.\n",
    "The greeting must be at least three lines, and the person's name must be in each line.\n",
    "Use your function to greet at least **three** different people.\n",
    "\n",
    "**Bonus:** Store your three people in a list, and call your function from a for loop.\n",
    "\n",
    "\n",
    "**Example Output:**\n",
    "\n",
    "Hello John!<br>\n",
    "Hello John!<br>\n",
    "Hello John!<br>"
   ]
  },
  {
   "cell_type": "code",
   "execution_count": 1,
   "metadata": {},
   "outputs": [
    {
     "name": "stdout",
     "output_type": "stream",
     "text": [
      "Hello theo!\n",
      "Hello theo!\n",
      "Hello theo!\n"
     ]
    }
   ],
   "source": [
    "def greeting(name):\n",
    "    print(f\"Hello {name}!\")\n",
    "    print(f\"Hello {name}!\")\n",
    "    print(f\"Hello {name}!\")\n",
    "\n",
    "username = str(input(\"Hello.\\nPlease enter your name: \"))\n",
    "greeting(username)\n"
   ]
  },
  {
   "cell_type": "code",
   "execution_count": null,
   "metadata": {},
   "outputs": [],
   "source": []
  },
  {
   "cell_type": "markdown",
   "metadata": {},
   "source": [
    "#### Full Names\n",
    "Write a function that takes in a first name and a last name, and prints out a nicely formatted full name, in a sentence. Your sentence could be as simple as, \"Hello, full_name.\""
   ]
  },
  {
   "cell_type": "code",
   "execution_count": 2,
   "metadata": {},
   "outputs": [
    {
     "name": "stdout",
     "output_type": "stream",
     "text": [
      "Hello, theo plessas\n"
     ]
    }
   ],
   "source": [
    "def create_name(first,last):\n",
    "    new_name = first + \" \" + last\n",
    "    return new_name\n",
    "\n",
    "def greeting(name):\n",
    "    print(f\"Hello, {name}\")\n",
    "\n",
    "firstname = str(input(\"Hello, please enter your name: \"))\n",
    "lastname = str(input(\"Now, please enter your last name: \"))\n",
    "\n",
    "fullname = create_name(firstname,lastname)\n",
    "\n",
    "greeting(fullname)\n"
   ]
  },
  {
   "cell_type": "code",
   "execution_count": null,
   "metadata": {},
   "outputs": [],
   "source": []
  },
  {
   "cell_type": "markdown",
   "metadata": {},
   "source": [
    "#### Addition Calculator\n",
    "Write a function that takes in two numbers, and adds them together. Make your function print out a sentence showing the two numbers, and the result.\n",
    "\n",
    "**Example Output:**\n",
    "\n",
    "The sum of 2 and 3 is 5."
   ]
  },
  {
   "cell_type": "code",
   "execution_count": 3,
   "metadata": {},
   "outputs": [
    {
     "name": "stdout",
     "output_type": "stream",
     "text": [
      "The sum of 5 and 6 i 11\n"
     ]
    }
   ],
   "source": [
    "def my_addition(x,y):\n",
    "    z = x + y\n",
    "    return z\n",
    "\n",
    "def print_addition_results(x,y):\n",
    "    z = my_addition(x,y)\n",
    "    print(f\"The sum of {x} and {y} is {z}\")\n",
    "\n",
    "x = int(input(\"Please enter your x value: \"))\n",
    "y = int(input(\"Please enter you y value: \"))\n",
    "\n",
    "print_addition_results(x,y)"
   ]
  },
  {
   "cell_type": "code",
   "execution_count": null,
   "metadata": {},
   "outputs": [],
   "source": []
  },
  {
   "cell_type": "markdown",
   "metadata": {},
   "source": [
    "#### Return Calculator\n",
    "Modify Addition Calculator so that your function **returns** the sum of the two numbers. The printing should happen outside of the function."
   ]
  },
  {
   "cell_type": "code",
   "execution_count": 4,
   "metadata": {},
   "outputs": [
    {
     "name": "stdout",
     "output_type": "stream",
     "text": [
      "The sum of 53 and 6 i 59\n"
     ]
    }
   ],
   "source": [
    "def my_addition(x,y):\n",
    "    z = x + y\n",
    "    return z\n",
    "\n",
    "def print_addition_results(x,y):\n",
    "    z = my_addition(x,y)\n",
    "    print(f\"The sum of {x} and {y} is {z}\")\n",
    "\n",
    "x = int(input(\"Please enter your x value: \"))\n",
    "y = int(input(\"Please enter you y value: \"))\n",
    "\n",
    "print_addition_results(x,y)"
   ]
  },
  {
   "cell_type": "code",
   "execution_count": null,
   "metadata": {},
   "outputs": [],
   "source": []
  },
  {
   "cell_type": "markdown",
   "metadata": {},
   "source": [
    "#### Sum everything in the list\n",
    "\n",
    "Write a Python function to sum all the numbers in a list"
   ]
  },
  {
   "cell_type": "code",
   "execution_count": 5,
   "metadata": {},
   "outputs": [
    {
     "name": "stdout",
     "output_type": "stream",
     "text": [
      "55\n"
     ]
    }
   ],
   "source": [
    "num_list = [1,2,3,4,5,6,7,8,9,10]\n",
    "\n",
    "def sum_list(group):\n",
    "    sum=0\n",
    "    for i in group:\n",
    "        sum+=i\n",
    "    return sum\n",
    "\n",
    "print(sum_list(num_list))"
   ]
  },
  {
   "cell_type": "code",
   "execution_count": null,
   "metadata": {},
   "outputs": [],
   "source": []
  },
  {
   "cell_type": "markdown",
   "metadata": {},
   "source": [
    "#### Reverse string\n",
    "\n",
    "Write a Python program to reverse a string.\n",
    "\n",
    "Sample String : \"1234abcd\" <br>\n",
    "Expected Output : \"dcba4321\""
   ]
  },
  {
   "cell_type": "code",
   "execution_count": 6,
   "metadata": {},
   "outputs": [
    {
     "name": "stdout",
     "output_type": "stream",
     "text": [
      "dcba4321\n"
     ]
    }
   ],
   "source": [
    "def reverse_string(original):\n",
    "    reversed=\"\"\n",
    "    i=len(original)\n",
    "    for x in range(len(original)):\n",
    "        i-=1\n",
    "        reversed += original[i]\n",
    "    return reversed\n",
    "\n",
    "samplestring =\"1234abcd\"\n",
    "\n",
    "print(reverse_string(samplestring))"
   ]
  },
  {
   "cell_type": "code",
   "execution_count": null,
   "metadata": {},
   "outputs": [],
   "source": []
  },
  {
   "cell_type": "markdown",
   "metadata": {},
   "source": [
    "#### Range check\n",
    "\n",
    "Write a Python function to check whether a number is in a given range. \n",
    "\n",
    "Inputs: number, tuple of min and max<br>\n",
    "Outputs: True/False"
   ]
  },
  {
   "cell_type": "code",
   "execution_count": 2,
   "metadata": {},
   "outputs": [
    {
     "data": {
      "text/plain": [
       "True"
      ]
     },
     "execution_count": 2,
     "metadata": {},
     "output_type": "execute_result"
    }
   ],
   "source": [
    "\n",
    "def is_in_Range(num,range):\n",
    "    min , max = range\n",
    "    return min <= num <= max\n",
    "    \n",
    "\n",
    "\n",
    "max = int(input(\"Please enter the max value of your range: \"))\n",
    "min = int(input(\"Please enter the min value of your range: \"))\n",
    "min_max = (min,max)\n",
    "\n",
    "check_num = int(input(f\"Please enter the number you would like to search for in the given range {min} - {max} \"))\n",
    "\n",
    "is_in_Range(check_num,min_max)"
   ]
  },
  {
   "cell_type": "code",
   "execution_count": null,
   "metadata": {},
   "outputs": [],
   "source": []
  },
  {
   "cell_type": "code",
   "execution_count": null,
   "metadata": {},
   "outputs": [],
   "source": []
  }
 ],
 "metadata": {
  "kernelspec": {
   "display_name": "Python 3",
   "language": "python",
   "name": "python3"
  },
  "language_info": {
   "codemirror_mode": {
    "name": "ipython",
    "version": 3
   },
   "file_extension": ".py",
   "mimetype": "text/x-python",
   "name": "python",
   "nbconvert_exporter": "python",
   "pygments_lexer": "ipython3",
   "version": "3.11.5"
  }
 },
 "nbformat": 4,
 "nbformat_minor": 4
}

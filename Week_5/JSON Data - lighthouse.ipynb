{
 "cells": [
  {
   "cell_type": "code",
   "execution_count": null,
   "metadata": {},
   "outputs": [],
   "source": []
  },
  {
   "cell_type": "markdown",
   "metadata": {},
   "source": [
    "# Learning Outcomes\n",
    "\n",
    "   * Become familiar with financial data in preparation for the next assignment\n",
    "   * Practice how to read and parse JSON data\n",
    "  *  Use AI for redundant tasks\n",
    "  *  Practice building queries to answer the questions from the Python dictionary converted from JSON\n",
    "   * Load and wrangle JSON files\n",
    "   * Convert JSON files to useful dataframes\n",
    "\n",
    "## Activity\n",
    "\n",
    "Make the following request:"
   ]
  },
  {
   "cell_type": "code",
   "execution_count": 10,
   "metadata": {},
   "outputs": [],
   "source": [
    "import requests\n",
    "import pandas as pd\n",
    "from pprint import pprint #this will display the data in a structures, more readable format\n",
    "\n",
    "params = {\"page\": 1}\n",
    "response = requests.get(\"https://reqres.in/api/users\", params=params)\n",
    "\n",
    "data = response.json()"
   ]
  },
  {
   "cell_type": "code",
   "execution_count": 11,
   "metadata": {},
   "outputs": [
    {
     "name": "stdout",
     "output_type": "stream",
     "text": [
      "{'page': 1, 'per_page': 6, 'total': 12, 'total_pages': 2, 'data': [{'id': 1, 'email': 'george.bluth@reqres.in', 'first_name': 'George', 'last_name': 'Bluth', 'avatar': 'https://reqres.in/img/faces/1-image.jpg'}, {'id': 2, 'email': 'janet.weaver@reqres.in', 'first_name': 'Janet', 'last_name': 'Weaver', 'avatar': 'https://reqres.in/img/faces/2-image.jpg'}, {'id': 3, 'email': 'emma.wong@reqres.in', 'first_name': 'Emma', 'last_name': 'Wong', 'avatar': 'https://reqres.in/img/faces/3-image.jpg'}, {'id': 4, 'email': 'eve.holt@reqres.in', 'first_name': 'Eve', 'last_name': 'Holt', 'avatar': 'https://reqres.in/img/faces/4-image.jpg'}, {'id': 5, 'email': 'charles.morris@reqres.in', 'first_name': 'Charles', 'last_name': 'Morris', 'avatar': 'https://reqres.in/img/faces/5-image.jpg'}, {'id': 6, 'email': 'tracey.ramos@reqres.in', 'first_name': 'Tracey', 'last_name': 'Ramos', 'avatar': 'https://reqres.in/img/faces/6-image.jpg'}], 'support': {'url': 'https://reqres.in/#support-heading', 'text': 'To keep ReqRes free, contributions towards server costs are appreciated!'}} \n",
      "\n"
     ]
    }
   ],
   "source": [
    "print(data, \"\\n\")"
   ]
  },
  {
   "cell_type": "code",
   "execution_count": 12,
   "metadata": {},
   "outputs": [
    {
     "name": "stdout",
     "output_type": "stream",
     "text": [
      "{'data': [{'avatar': 'https://reqres.in/img/faces/1-image.jpg',\n",
      "           'email': 'george.bluth@reqres.in',\n",
      "           'first_name': 'George',\n",
      "           'id': 1,\n",
      "           'last_name': 'Bluth'},\n",
      "          {'avatar': 'https://reqres.in/img/faces/2-image.jpg',\n",
      "           'email': 'janet.weaver@reqres.in',\n",
      "           'first_name': 'Janet',\n",
      "           'id': 2,\n",
      "           'last_name': 'Weaver'},\n",
      "          {'avatar': 'https://reqres.in/img/faces/3-image.jpg',\n",
      "           'email': 'emma.wong@reqres.in',\n",
      "           'first_name': 'Emma',\n",
      "           'id': 3,\n",
      "           'last_name': 'Wong'},\n",
      "          {'avatar': 'https://reqres.in/img/faces/4-image.jpg',\n",
      "           'email': 'eve.holt@reqres.in',\n",
      "           'first_name': 'Eve',\n",
      "           'id': 4,\n",
      "           'last_name': 'Holt'},\n",
      "          {'avatar': 'https://reqres.in/img/faces/5-image.jpg',\n",
      "           'email': 'charles.morris@reqres.in',\n",
      "           'first_name': 'Charles',\n",
      "           'id': 5,\n",
      "           'last_name': 'Morris'},\n",
      "          {'avatar': 'https://reqres.in/img/faces/6-image.jpg',\n",
      "           'email': 'tracey.ramos@reqres.in',\n",
      "           'first_name': 'Tracey',\n",
      "           'id': 6,\n",
      "           'last_name': 'Ramos'}],\n",
      " 'page': 1,\n",
      " 'per_page': 6,\n",
      " 'support': {'text': 'To keep ReqRes free, contributions towards server costs '\n",
      "                     'are appreciated!',\n",
      "             'url': 'https://reqres.in/#support-heading'},\n",
      " 'total': 12,\n",
      " 'total_pages': 2}\n"
     ]
    }
   ],
   "source": [
    "pprint(data)"
   ]
  },
  {
   "cell_type": "code",
   "execution_count": 13,
   "metadata": {},
   "outputs": [],
   "source": [
    "# Use ChatGPT to answer the following questions:\n",
    "\n",
    "#When I access the JSON method of the response, what form is the data in when I'm using Python?\n",
    "\n",
    "#When you access the JSON method of the response, the data is in the form of a Python dictionary.\n",
    "\n",
    "\n"
   ]
  },
  {
   "cell_type": "code",
   "execution_count": 14,
   "metadata": {},
   "outputs": [
    {
     "name": "stdout",
     "output_type": "stream",
     "text": [
      "{'data': [{'avatar': 'https://reqres.in/img/faces/1-image.jpg',\n",
      "           'email': 'george.bluth@reqres.in',\n",
      "           'first_name': 'George',\n",
      "           'id': 1,\n",
      "           'last_name': 'Bluth'},\n",
      "          {'avatar': 'https://reqres.in/img/faces/2-image.jpg',\n",
      "           'email': 'janet.weaver@reqres.in',\n",
      "           'first_name': 'Janet',\n",
      "           'id': 2,\n",
      "           'last_name': 'Weaver'},\n",
      "          {'avatar': 'https://reqres.in/img/faces/3-image.jpg',\n",
      "           'email': 'emma.wong@reqres.in',\n",
      "           'first_name': 'Emma',\n",
      "           'id': 3,\n",
      "           'last_name': 'Wong'},\n",
      "          {'avatar': 'https://reqres.in/img/faces/4-image.jpg',\n",
      "           'email': 'eve.holt@reqres.in',\n",
      "           'first_name': 'Eve',\n",
      "           'id': 4,\n",
      "           'last_name': 'Holt'},\n",
      "          {'avatar': 'https://reqres.in/img/faces/5-image.jpg',\n",
      "           'email': 'charles.morris@reqres.in',\n",
      "           'first_name': 'Charles',\n",
      "           'id': 5,\n",
      "           'last_name': 'Morris'},\n",
      "          {'avatar': 'https://reqres.in/img/faces/6-image.jpg',\n",
      "           'email': 'tracey.ramos@reqres.in',\n",
      "           'first_name': 'Tracey',\n",
      "           'id': 6,\n",
      "           'last_name': 'Ramos'}],\n",
      " 'page': 1,\n",
      " 'per_page': 6,\n",
      " 'support': {'text': 'To keep ReqRes free, contributions towards server costs '\n",
      "                     'are appreciated!',\n",
      "             'url': 'https://reqres.in/#support-heading'},\n",
      " 'total': 12,\n",
      " 'total_pages': 2}\n"
     ]
    }
   ],
   "source": [
    "#What is the dictionary structure of this response? (Copy response printout from previous question)\n",
    "\n",
    "response_dict = data\n",
    "pprint(response_dict)\n"
   ]
  },
  {
   "cell_type": "code",
   "execution_count": 15,
   "metadata": {},
   "outputs": [
    {
     "ename": "TypeError",
     "evalue": "the JSON object must be str, bytes or bytearray, not dict",
     "output_type": "error",
     "traceback": [
      "\u001b[1;31m---------------------------------------------------------------------------\u001b[0m",
      "\u001b[1;31mTypeError\u001b[0m                                 Traceback (most recent call last)",
      "Cell \u001b[1;32mIn[15], line 7\u001b[0m\n\u001b[0;32m      4\u001b[0m \u001b[38;5;28;01mimport\u001b[39;00m \u001b[38;5;21;01mpandas\u001b[39;00m \u001b[38;5;28;01mas\u001b[39;00m \u001b[38;5;21;01mpd\u001b[39;00m\n\u001b[0;32m      6\u001b[0m \u001b[38;5;66;03m# Assuming `json_data` is the JSON response\u001b[39;00m\n\u001b[1;32m----> 7\u001b[0m data_dict \u001b[38;5;241m=\u001b[39m json\u001b[38;5;241m.\u001b[39mloads(data)\n\u001b[0;32m      8\u001b[0m df \u001b[38;5;241m=\u001b[39m pd\u001b[38;5;241m.\u001b[39mDataFrame(data_dict)\n",
      "File \u001b[1;32mc:\\Users\\eddie\\anaconda3\\Lib\\json\\__init__.py:339\u001b[0m, in \u001b[0;36mloads\u001b[1;34m(s, cls, object_hook, parse_float, parse_int, parse_constant, object_pairs_hook, **kw)\u001b[0m\n\u001b[0;32m    337\u001b[0m \u001b[38;5;28;01melse\u001b[39;00m:\n\u001b[0;32m    338\u001b[0m     \u001b[38;5;28;01mif\u001b[39;00m \u001b[38;5;129;01mnot\u001b[39;00m \u001b[38;5;28misinstance\u001b[39m(s, (\u001b[38;5;28mbytes\u001b[39m, \u001b[38;5;28mbytearray\u001b[39m)):\n\u001b[1;32m--> 339\u001b[0m         \u001b[38;5;28;01mraise\u001b[39;00m \u001b[38;5;167;01mTypeError\u001b[39;00m(\u001b[38;5;124mf\u001b[39m\u001b[38;5;124m'\u001b[39m\u001b[38;5;124mthe JSON object must be str, bytes or bytearray, \u001b[39m\u001b[38;5;124m'\u001b[39m\n\u001b[0;32m    340\u001b[0m                         \u001b[38;5;124mf\u001b[39m\u001b[38;5;124m'\u001b[39m\u001b[38;5;124mnot \u001b[39m\u001b[38;5;132;01m{\u001b[39;00ms\u001b[38;5;241m.\u001b[39m\u001b[38;5;18m__class__\u001b[39m\u001b[38;5;241m.\u001b[39m\u001b[38;5;18m__name__\u001b[39m\u001b[38;5;132;01m}\u001b[39;00m\u001b[38;5;124m'\u001b[39m)\n\u001b[0;32m    341\u001b[0m     s \u001b[38;5;241m=\u001b[39m s\u001b[38;5;241m.\u001b[39mdecode(detect_encoding(s), \u001b[38;5;124m'\u001b[39m\u001b[38;5;124msurrogatepass\u001b[39m\u001b[38;5;124m'\u001b[39m)\n\u001b[0;32m    343\u001b[0m \u001b[38;5;28;01mif\u001b[39;00m (\u001b[38;5;28mcls\u001b[39m \u001b[38;5;129;01mis\u001b[39;00m \u001b[38;5;28;01mNone\u001b[39;00m \u001b[38;5;129;01mand\u001b[39;00m object_hook \u001b[38;5;129;01mis\u001b[39;00m \u001b[38;5;28;01mNone\u001b[39;00m \u001b[38;5;129;01mand\u001b[39;00m\n\u001b[0;32m    344\u001b[0m         parse_int \u001b[38;5;129;01mis\u001b[39;00m \u001b[38;5;28;01mNone\u001b[39;00m \u001b[38;5;129;01mand\u001b[39;00m parse_float \u001b[38;5;129;01mis\u001b[39;00m \u001b[38;5;28;01mNone\u001b[39;00m \u001b[38;5;129;01mand\u001b[39;00m\n\u001b[0;32m    345\u001b[0m         parse_constant \u001b[38;5;129;01mis\u001b[39;00m \u001b[38;5;28;01mNone\u001b[39;00m \u001b[38;5;129;01mand\u001b[39;00m object_pairs_hook \u001b[38;5;129;01mis\u001b[39;00m \u001b[38;5;28;01mNone\u001b[39;00m \u001b[38;5;129;01mand\u001b[39;00m \u001b[38;5;129;01mnot\u001b[39;00m kw):\n",
      "\u001b[1;31mTypeError\u001b[0m: the JSON object must be str, bytes or bytearray, not dict"
     ]
    }
   ],
   "source": [
    "import json\n",
    "# Convert the dictionary to a JSON string\n",
    "json_data = json.dumps(response_dict)\n",
    "\n",
    "# Parse the JSON string into a dataframe\n",
    "df = pd.read_json(json_data)\n",
    "\n",
    "# Print the dataframe\n",
    "print(df)\n",
    "\n"
   ]
  },
  {
   "cell_type": "markdown",
   "metadata": {},
   "source": [
    "\n",
    "\n",
    "Using json_normalize is not recommended for the next assignment. It can be extremely complicated if you don't understand how to access each part of a dictionary manually. A Pandas dataframe is basically just a Python dictionary. One of the easiest ways to create a dataframe is to create a dictionary where the dictionary keys are the column names and the dictionary values are lists of values for the columns. If a JSON file, or a dictionary that has been created from a JSON file doesn't have an obvious structure, then using json_normalize will not be straightforward, and you'll have to provide the record path and meta arguments. If you're a dictionary pro, then you can try using json_normalize, otherwise, looping through and accessing keys and values manually should be mastered first.\n",
    "\n",
    "\n",
    "\n",
    "Data from this response and data from the next assignment cannot be automatically converted to a dataframe. You might expect this code to work:"
   ]
  },
  {
   "cell_type": "code",
   "execution_count": 1,
   "metadata": {},
   "outputs": [
    {
     "ename": "NameError",
     "evalue": "name 'pd' is not defined",
     "output_type": "error",
     "traceback": [
      "\u001b[1;31m---------------------------------------------------------------------------\u001b[0m",
      "\u001b[1;31mNameError\u001b[0m                                 Traceback (most recent call last)",
      "Cell \u001b[1;32mIn[1], line 1\u001b[0m\n\u001b[1;32m----> 1\u001b[0m df \u001b[38;5;241m=\u001b[39m pd\u001b[38;5;241m.\u001b[39mDataFrame(data)\n\u001b[0;32m      2\u001b[0m df\n",
      "\u001b[1;31mNameError\u001b[0m: name 'pd' is not defined"
     ]
    }
   ],
   "source": [
    "df = pd.DataFrame(data)\n",
    "df"
   ]
  },
  {
   "cell_type": "markdown",
   "metadata": {},
   "source": [
    "However, inputting the data in this and the next assignment won't result in what you expect.\n",
    "\n",
    "\n",
    "Prompt ChatGPT with the following:\n",
    "\n",
    "Provide an example of how to manually extract information from the \"data\" key from the previous response and save it in lists or dictionaries.\n"
   ]
  },
  {
   "cell_type": "markdown",
   "metadata": {},
   "source": [
    "\n",
    "\n",
    "Note that once the \"data\" key has been accessed, you can automatically use pd.DataFrame().\n",
    "\n",
    "You'll need to iterate through the dictionaries in the next assignment.\n"
   ]
  },
  {
   "cell_type": "code",
   "execution_count": null,
   "metadata": {},
   "outputs": [],
   "source": [
    "# Create a dataframe from the API response above with the following columns: ['avatar', 'email', 'first_name', 'id', 'last_name']\n",
    "\n",
    "# create your dataframe here:\n",
    "df = pd.DataFrame(data['data'], columns=['avatar', 'email', 'first_name', 'id', 'last_name'])\n",
    "print(df)\n",
    "\n"
   ]
  },
  {
   "cell_type": "markdown",
   "metadata": {},
   "source": [
    "Key Questions\n",
    "\n",
    "Here are some questions to help you with the next assignment:\n",
    "\n",
    "    What are the common daily values for stock prices?\n",
    "    How can I load a JSON file in Python?\n",
    "    How does the keyword with work when opening a file?\n",
    "    When should I stop indenting after the with keyword?\n",
    "    What format is the loaded JSON once I use the json.load() function?\n",
    "\n",
    "\n",
    "\n",
    "Try answering these on using your own research methods, and then also ask an LLM tool. How do the results compare?\n",
    "\n",
    "\n",
    "Conclusion\n",
    "\n",
    "In this activity, we've practiced using AI tools to support your understanding and manipulation of JSON data. You should be more familiar with JSON responses and extracting meaningful information. "
   ]
  },
  {
   "cell_type": "markdown",
   "metadata": {},
   "source": []
  }
 ],
 "metadata": {
  "kernelspec": {
   "display_name": "base",
   "language": "python",
   "name": "python3"
  },
  "language_info": {
   "codemirror_mode": {
    "name": "ipython",
    "version": 3
   },
   "file_extension": ".py",
   "mimetype": "text/x-python",
   "name": "python",
   "nbconvert_exporter": "python",
   "pygments_lexer": "ipython3",
   "version": "3.11.5"
  }
 },
 "nbformat": 4,
 "nbformat_minor": 2
}

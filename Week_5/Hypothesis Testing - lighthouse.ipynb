{
 "cells": [
  {
   "cell_type": "markdown",
   "metadata": {},
   "source": [
    "# Hypothesis testing\n",
    "in this activity, we will learn how to perform hypothesis testing by statistical simulation\n",
    "\n",
    "## use-case\n",
    "imagine you are the wner of two electronics stores. in both stores, you sell the same model of cell phone at the same price. you are curious if the sales of this cell phone are the same at each store.\n",
    "\n",
    "## simulation\n",
    "let's simulate these sales with python and the numpy library.\n"
   ]
  },
  {
   "cell_type": "code",
   "execution_count": 1,
   "metadata": {},
   "outputs": [],
   "source": [
    "#import numpy\n",
    "import numpy as np\n",
    "\n",
    "#set a random seed to replicate results\n",
    "np.random.seed(42)"
   ]
  },
  {
   "cell_type": "code",
   "execution_count": 2,
   "metadata": {},
   "outputs": [],
   "source": [
    "#since we dont have real data , \n",
    "# we will simulate our one-year sales with np.random.normal function.\n",
    "\n",
    "#sales history in days\n",
    "history = 365\n",
    "\n",
    "#generate one year sales data for store A\n",
    "mean_A = 20\n",
    "std_A = 5\n",
    "shop_A_sales = np.random.normal(mean_A, std_A, history)\n",
    "\n",
    "#generate one year sales data for store B\n",
    "mean_B = 19.5\n",
    "std_B = 5\n",
    "shop_B_sales = np.random.normal(mean_B, std_B, history)\n"
   ]
  },
  {
   "cell_type": "markdown",
   "metadata": {},
   "source": [
    "We will be testing the following hypothesis: * H0 = the mean of sales of shop A equals the mean of sales of shop B (i.e. the difference between the sales is equal to zero) * HA = the means are not equal\n",
    "\n",
    "Set the significance level alpha (the probability of rejecting the null hypothesis when it is true) to 0.05."
   ]
  },
  {
   "cell_type": "code",
   "execution_count": 3,
   "metadata": {},
   "outputs": [],
   "source": [
    "#set the significance level\n",
    "alpha = 0.05\n"
   ]
  },
  {
   "cell_type": "code",
   "execution_count": 4,
   "metadata": {},
   "outputs": [
    {
     "name": "stdout",
     "output_type": "stream",
     "text": [
      "Store A mean:  20.04973201106029\n",
      "Store B mean:  19.309929401404304\n",
      "Observed means difference:  0.7398026096559853\n"
     ]
    }
   ],
   "source": [
    "#the means of sales for both stores are :\n",
    "\n",
    "#print the store A mean\n",
    "print(\"Store A mean: \", shop_A_sales.mean())\n",
    "\n",
    "#print the store B mean\n",
    "print(\"Store B mean: \", shop_B_sales.mean())\n",
    "\n",
    "#the difference in the means of sales for both stores is :\n",
    "observed_means_diff = shop_A_sales.mean() - shop_B_sales.mean()\n",
    "print(\"Observed means difference: \", observed_means_diff)\n"
   ]
  },
  {
   "cell_type": "markdown",
   "metadata": {},
   "source": [
    "Because the mean of sales in store A is not so far from the mean of sales in store B, and their standard deviations are equal, it is tough to decide if the sales are equal.\n",
    "\n",
    "Let's simulate what it would look like if both stores' sales were identically distributed. We can do that by combining sales data from both stores."
   ]
  },
  {
   "cell_type": "code",
   "execution_count": 5,
   "metadata": {},
   "outputs": [],
   "source": [
    "both_sales = np.concatenate((shop_A_sales, shop_B_sales))"
   ]
  },
  {
   "cell_type": "markdown",
   "metadata": {},
   "source": [
    "Now, we have to perform permutation on both_sales and re-create the sales with this permutation data.\n",
    "\n",
    "\n",
    "A permutation is a random reordering of the entries in an array.\n"
   ]
  },
  {
   "cell_type": "code",
   "execution_count": 6,
   "metadata": {},
   "outputs": [],
   "source": [
    "#shuffle the combined sales data aka permutation\n",
    "sales_perm = np.random.permutation(both_sales)\n",
    "\n",
    "# permutation replicates\n",
    "#split the permuted sales data into two parts\n",
    "perm_shop_A_sales = sales_perm[:len(shop_A_sales)]\n",
    "perm_shop_B_sales = sales_perm[len(shop_A_sales):]\n"
   ]
  },
  {
   "cell_type": "markdown",
   "metadata": {},
   "source": [
    "After this step, we have to compute the difference between the permutation replicates means."
   ]
  },
  {
   "cell_type": "code",
   "execution_count": 7,
   "metadata": {},
   "outputs": [
    {
     "name": "stdout",
     "output_type": "stream",
     "text": [
      "Permutation replicates means difference:  0.21098789154327235\n"
     ]
    }
   ],
   "source": [
    "#print the difference between the permutation replicates means\n",
    "print(\"Permutation replicates means difference: \", perm_shop_A_sales.mean() - perm_shop_B_sales.mean())"
   ]
  },
  {
   "cell_type": "markdown",
   "metadata": {},
   "source": [
    "We can see that there is a difference between the permutation replicates mean and the original sales mean. But this was only one permutation. Let's try 1,000 different permutations and store the differences of the permutation replicates means in a list."
   ]
  },
  {
   "cell_type": "code",
   "execution_count": 8,
   "metadata": {},
   "outputs": [],
   "source": [
    "#create an empty list to stroe the permutation replicates means\n",
    "perm_repl_means = []\n",
    "\n",
    "#generate 10000 permutation replicates\n",
    "for i in range(10000):\n",
    "    #permutation\n",
    "    sales_perm = np.random.permutation(both_sales)\n",
    "    \n",
    "    #split the permuted sales data into two parts\n",
    "    perm_shop_A_sales = sales_perm[:len(shop_A_sales)]\n",
    "    perm_shop_B_sales = sales_perm[len(shop_A_sales):]\n",
    "    \n",
    "    #permutation replicates mean\n",
    "    perm_repl_mean = perm_shop_A_sales.mean() - perm_shop_B_sales.mean()\n",
    "    \n",
    "    #append the permutation replicates mean to the list\n",
    "    perm_repl_means.append(perm_repl_mean)\n",
    "    "
   ]
  },
  {
   "cell_type": "markdown",
   "metadata": {},
   "source": [
    "The last thing that remains is to compute the p-value.\n",
    "Note\n",
    "\n",
    "The p-value is the probability of observing a test statistic as extreme or more extreme than the one you've observed, given that the null hypothesis is true.\n"
   ]
  },
  {
   "cell_type": "code",
   "execution_count": 9,
   "metadata": {},
   "outputs": [
    {
     "name": "stdout",
     "output_type": "stream",
     "text": [
      "p-value:  0.041\n"
     ]
    }
   ],
   "source": [
    "# compute the p-value\n",
    "p = np.sum(np.abs(perm_repl_means) >= np.abs(observed_means_diff)) / len(perm_repl_means)\n",
    "\n",
    "# print the p-value\n",
    "print(\"p-value: \", p)"
   ]
  },
  {
   "cell_type": "markdown",
   "metadata": {},
   "source": [
    "The p-value tells us that there is about a 4.2% chance that we would get the difference of means observed in the experiment if sales were exactly the same. "
   ]
  },
  {
   "cell_type": "code",
   "execution_count": 10,
   "metadata": {},
   "outputs": [
    {
     "name": "stdout",
     "output_type": "stream",
     "text": [
      "We reject the null hypothesis aka H0. There is a significant difference between the means of sales for both stores.\n"
     ]
    }
   ],
   "source": [
    "#finally, we can make a decision based on the p-value\n",
    "if p < alpha:\n",
    "    print(\"We reject the null hypothesis aka H0. There is a significant difference between the means of sales for both stores.\")\n",
    "else:\n",
    "    print(\"We fail to reject the null hypothesis aka H0. There is no significant difference between the means of sales for both stores.\")"
   ]
  },
  {
   "cell_type": "markdown",
   "metadata": {},
   "source": [
    "Because the p_value is smaller than our significance level alpha we reject the null hypothesis that our cell phone sales are equal in both stores.\n",
    "\n",
    "\n",
    "\n",
    "Think about where we used the central limit theorem in this exercise.\n",
    "\n",
    "we used the central limit theorem every loop we made a new permutation of the sales data nd split it to calculate new means(xbar).\n",
    "we then took these means to find a very close approximation of the true mean (sigma) of the entire population of sales data from both stores"
   ]
  },
  {
   "cell_type": "code",
   "execution_count": null,
   "metadata": {},
   "outputs": [],
   "source": []
  }
 ],
 "metadata": {
  "kernelspec": {
   "display_name": "base",
   "language": "python",
   "name": "python3"
  },
  "language_info": {
   "codemirror_mode": {
    "name": "ipython",
    "version": 3
   },
   "file_extension": ".py",
   "mimetype": "text/x-python",
   "name": "python",
   "nbconvert_exporter": "python",
   "pygments_lexer": "ipython3",
   "version": "3.11.7"
  }
 },
 "nbformat": 4,
 "nbformat_minor": 2
}

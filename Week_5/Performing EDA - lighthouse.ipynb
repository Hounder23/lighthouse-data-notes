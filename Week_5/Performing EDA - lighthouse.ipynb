{
 "cells": [
  {
   "cell_type": "markdown",
   "metadata": {},
   "source": [
    "Performing EDA\n",
    "\n",
    "In this activity, you will be putting together everything we have learned so far about EDA.\n",
    "\n",
    "This resource by nbviewer(https://nbviewer.org/github/Tanu-N-Prabhu/Python/blob/master/Exploratory_data_Analysis.ipynb) is a great example of how you would perform your exploratory data analysis (EDA). Take some time to review it before jumping into the steps below."
   ]
  },
  {
   "cell_type": "code",
   "execution_count": null,
   "metadata": {},
   "outputs": [],
   "source": [
    "import pandas as pd\n",
    "import numpy as np\n",
    "import seaborn as sns                       #visualisation\n",
    "import matplotlib.pyplot as plt             #visualisation\n",
    "%matplotlib inline     \n",
    "sns.set(color_codes=True)"
   ]
  },
  {
   "cell_type": "markdown",
   "metadata": {},
   "source": [
    "Step 1: Download the Data\n",
    "\n",
    "Download this zipped folder, which contains a collection of JSON files. (https://drive.google.com/file/d/1H743YlnjsPXrobVFQ5nUiSbFwoxCU2qD/view)"
   ]
  },
  {
   "cell_type": "markdown",
   "metadata": {},
   "source": [
    "Step 2: Load the Data Files\n",
    "\n",
    "As you may have noticed, the JSON files have a lot of information. What we decide to include in our dataframe should be informed by the questions we want to answer."
   ]
  },
  {
   "cell_type": "code",
   "execution_count": null,
   "metadata": {},
   "outputs": [],
   "source": [
    "import os\n",
    "import pandas as pd\n",
    "\n",
    "# Specify the directory you want to load\n",
    "directory = 'D:\\\\Github-repos\\\\stock_market_data\\\\nasdaq\\\\json'\n",
    "\n",
    "# Initialize an empty list to hold the data\n",
    "dataframes = []\n",
    "\n",
    "# Loop through every file in the directory\n",
    "for filename in os.listdir(directory):\n",
    "    if filename.endswith(\".json\"):\n",
    "        # Construct the full file path\n",
    "        file_path = os.path.join(directory, filename)\n",
    "        \n",
    "        # Load each json file into a DataFrame\n",
    "        dataframes.append(pd.read_json(file_path))\n",
    "\n",
    "# Concatenate all the dataframes in the list into one dataframe\n",
    "df = pd.concat(dataframes, ignore_index=True)\n",
    "\n",
    "# Now, 'df' is a DataFrame that contains the data from all the JSON files"
   ]
  },
  {
   "cell_type": "code",
   "execution_count": null,
   "metadata": {},
   "outputs": [],
   "source": [
    "df.head()"
   ]
  },
  {
   "cell_type": "markdown",
   "metadata": {},
   "source": [
    "Consider all the companies listed on the NASDAQ in the folder for the year 2020. We are interested in finding out answers to the following questions:\n",
    "\n",
    "*  How much stock do we have?\n",
    "*  Which stock has the highest price and when it was observed?\n",
    "*  Which stock has the lowest price and when it was observed?\n",
    "*  Which stock is the most popular in 2021? (has the highest traded volume in 2021)"
   ]
  },
  {
   "cell_type": "code",
   "execution_count": null,
   "metadata": {},
   "outputs": [],
   "source": [
    "#how much data do we have?\n",
    "print(df.shape)"
   ]
  },
  {
   "cell_type": "code",
   "execution_count": null,
   "metadata": {},
   "outputs": [],
   "source": [
    "#which stock has the highest price and when was it observed?\n",
    "max_price = 0\n",
    "max_price_stock = \"\"\n",
    "max_price_date = \"\"\n",
    "for index, row in df.iterrows():\n",
    "    if row['price'] > max_price:\n",
    "        max_price = row['price']\n",
    "        max_price_stock = row['stock']\n",
    "        max_price_date = row['date']\n",
    "\n",
    "print(f\"The stock with the highest price is {max_price_stock} at {max_price} on {max_price_date}\")"
   ]
  },
  {
   "cell_type": "markdown",
   "metadata": {},
   "source": [
    "\n",
    "\n",
    "Now, we have to pick a single stock to act as our prototype.\n",
    "\n",
    "Load the JSON files for the stock of your choice, write code to parse the file, and transform it into a Pandas DataFrame with the following columns:\n",
    "\n",
    "*  stock acronym\n",
    "*  day (should be extracted from timestamp value in the data)\n",
    "*  open - price when the trading opened that day\n",
    "*  high - the highest price of the day\n",
    "*  close - price when the trading closed that day\n",
    "*  low - the lowest price of the day\n",
    "*  splits - number of splits of the stock (look for the value splits in the events key of the JSON file).\n",
    "*  volume - what was the value of shares traded on that day\n",
    "\n",
    "These columns will help us answer the questions above. "
   ]
  },
  {
   "cell_type": "markdown",
   "metadata": {},
   "source": [
    "Step 3: Complete the Tasks Below\n",
    "Task 1\n",
    "\n",
    "Once you are comfortable with your prototype code, put the code into a function. Use the function to fill out the columns in the dataframe for all companies listed on the NASDAQ in 2020.\n",
    "Note\n",
    "\n",
    "Keep in mind that while you are writing the function, you might encounter errors or exceptions that you haven’t encountered during the prototyping process. This is very common, and you will need to write code that can handle these exceptions.\n"
   ]
  },
  {
   "cell_type": "markdown",
   "metadata": {},
   "source": [
    "Task 2\n",
    "\n",
    "Now, it’s time to do some EDA. Answer the following questions.\n",
    "\n",
    "    How big is the DataFrame (shape)?\n",
    "    How much stock do we have?\n",
    "    Which stock has the highest price and when it was observed?\n",
    "    Which stock has the lowest price and when it was observed?\n",
    "    Which stock is the most popular in 2021? (has the highest traded volume in 2021)\n"
   ]
  },
  {
   "cell_type": "markdown",
   "metadata": {},
   "source": [
    "Task 3\n",
    "\n",
    "What else could you answer by doing EDA for this dataset?"
   ]
  }
 ],
 "metadata": {
  "kernelspec": {
   "display_name": "base",
   "language": "python",
   "name": "python3"
  },
  "language_info": {
   "codemirror_mode": {
    "name": "ipython",
    "version": 3
   },
   "file_extension": ".py",
   "mimetype": "text/x-python",
   "name": "python",
   "nbconvert_exporter": "python",
   "pygments_lexer": "ipython3",
   "version": "3.11.5"
  }
 },
 "nbformat": 4,
 "nbformat_minor": 2
}

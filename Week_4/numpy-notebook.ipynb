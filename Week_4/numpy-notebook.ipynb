{
 "cells": [
  {
   "cell_type": "markdown",
   "metadata": {},
   "source": [
    "### How Fast Numpy Really is and Why?"
   ]
  },
  {
   "cell_type": "markdown",
   "metadata": {},
   "source": [
    "Originally Python was not designed for numeric computation. As people\n",
    "started using python for various tasks, the need for fast numeric\n",
    "computation arose. And the Numpy was created by a group of people in 2005\n",
    "to address this challenge.\n",
    "\n",
    "Today in the era of Artificial Intelligence, it would not have been possible to\n",
    "train Machine Learning algorithms without a fast numeric library such as\n",
    "Numpy."
   ]
  },
  {
   "cell_type": "markdown",
   "metadata": {},
   "source": [
    "The following are the main reasons behind the fast speed of Numpy.\n",
    "\n",
    "- Numpy array is a collection of similar data-types that are densely packed in memory. A Python list can have different data-types, which puts lots of extra constraints while doing computation on it.\n",
    "- Numpy is able to divide a task into multiple subtasks and process them parallelly.\n",
    "- Numpy functions are implemented in C. Which again makes it faster compared to Python Lists."
   ]
  },
  {
   "cell_type": "markdown",
   "metadata": {},
   "source": [
    "Throughout this blog, we will perform the following computation on a Numpy array and Python list and compare the time taken by both.\n",
    "\n",
    "- Adding a scalar\n",
    "- Dot product\n",
    "- Concatenation\n",
    "- Deletion\n",
    "\n",
    "Let’s import the Numpy package first."
   ]
  },
  {
   "cell_type": "markdown",
   "metadata": {},
   "source": [
    "### Adding a scaler\n",
    "Let’s create a Python list of 10000 elements and add a scalar to each element of the list."
   ]
  },
  {
   "cell_type": "code",
   "execution_count": 1,
   "metadata": {},
   "outputs": [
    {
     "data": {
      "text/plain": [
       "0.0"
      ]
     },
     "execution_count": 1,
     "metadata": {},
     "output_type": "execute_result"
    }
   ],
   "source": [
    "import numpy as np\n",
    "from time import process_time \n",
    "\n",
    "py_list = [i for i in range(10000)]\n",
    "\n",
    "start = process_time()\n",
    "\n",
    "pylist = [i+2 for i in py_list]\n",
    "\n",
    "end = process_time()\n",
    "\n",
    "round (end-start,5)"
   ]
  },
  {
   "cell_type": "markdown",
   "metadata": {},
   "source": [
    "Now create a Numpy array and of 10000 elements and add a scalar to each element of the array."
   ]
  },
  {
   "cell_type": "code",
   "execution_count": 2,
   "metadata": {},
   "outputs": [
    {
     "data": {
      "text/plain": [
       "0.0"
      ]
     },
     "execution_count": 2,
     "metadata": {},
     "output_type": "execute_result"
    }
   ],
   "source": [
    "np_arr = np.array([i for i in range(10000)])\n",
    "\n",
    "start = process_time()\n",
    "\n",
    "np_arr +=2\n",
    "\n",
    "end = process_time()\n",
    "\n",
    "round (end-start,5)\n"
   ]
  },
  {
   "cell_type": "markdown",
   "metadata": {},
   "source": [
    "This computation was performed on an array of size 10000. Let’s see how the time varies for different sizes of the array. The following plot shows, the number of times a Numpy array is faster for different array sizes.\n",
    "\n",
    "As array size gets close to 5,000,000, Numpy gets around 120 times faster. As the array size increases, Numpy is able to execute more parallel operations and making computation faster."
   ]
  },
  {
   "cell_type": "markdown",
   "metadata": {},
   "source": [
    " ### Dot product\n",
    "The dot product is one of the most important and frequent operations in Machine Learning algorithms. Especially in Neural Networks training, where we need to do a lot of Matrix Multiplication. \n",
    "Let's compare the speed of the dot product now."
   ]
  },
  {
   "cell_type": "code",
   "execution_count": 3,
   "metadata": {},
   "outputs": [
    {
     "data": {
      "text/plain": [
       "0.0"
      ]
     },
     "execution_count": 3,
     "metadata": {},
     "output_type": "execute_result"
    }
   ],
   "source": [
    "list1 = [i for i in range(10000)]\n",
    "list2 = [i for i in range(10000)]\n",
    "\n",
    "start = process_time()\n",
    "\n",
    "dot = 0 \n",
    "\n",
    "for i,j in zip(list1,list2):\n",
    "    dot += i*j\n",
    "\n",
    "end = process_time()\n",
    "\n",
    "round (end-start,5)"
   ]
  },
  {
   "cell_type": "code",
   "execution_count": 5,
   "metadata": {},
   "outputs": [
    {
     "data": {
      "text/plain": [
       "0.0"
      ]
     },
     "execution_count": 5,
     "metadata": {},
     "output_type": "execute_result"
    }
   ],
   "source": [
    "arr1 = np.array([i for i in range(10000)])\n",
    "arr2 = np.array([i for i in range(10000)])\n",
    "\n",
    "start = process_time()\n",
    "\n",
    "arr = np.dot(arr1,arr2)\n",
    "\n",
    "end = process_time()\n",
    "\n",
    "round (end-start,5)"
   ]
  },
  {
   "cell_type": "markdown",
   "metadata": {},
   "source": [
    "Numpy is around 10 times faster. Let’s plot the speed for different array sizes.\n",
    "\n",
    "We see that dot product is even faster. Which is around 140 times fast as we move to the large array size."
   ]
  },
  {
   "cell_type": "markdown",
   "metadata": {},
   "source": [
    "### Concatenation\n",
    "Now we are concatenating 2 arrays. Let’s compare the speed."
   ]
  },
  {
   "cell_type": "code",
   "execution_count": 6,
   "metadata": {},
   "outputs": [
    {
     "data": {
      "text/plain": [
       "0.0"
      ]
     },
     "execution_count": 6,
     "metadata": {},
     "output_type": "execute_result"
    }
   ],
   "source": [
    "list1 = [i for i in range(10000)]\n",
    "list2 = [i for i in range(10000)]\n",
    "\n",
    "start = process_time()\n",
    "\n",
    "list1 += list2\n",
    "\n",
    "end = process_time()\n",
    "\n",
    "round (end-start,5)"
   ]
  },
  {
   "cell_type": "code",
   "execution_count": 7,
   "metadata": {},
   "outputs": [
    {
     "data": {
      "text/plain": [
       "0.0"
      ]
     },
     "execution_count": 7,
     "metadata": {},
     "output_type": "execute_result"
    }
   ],
   "source": [
    "arr1 = np.array([i for i in range(10000)])\n",
    "arr2 = np.array([i for i in range(10000)])\n",
    "\n",
    "start = process_time()\n",
    "\n",
    "arr = np.concatenate((arr1,arr2),axis=0)\n",
    "\n",
    "end = process_time()\n",
    "\n",
    "round (end-start,5)"
   ]
  },
  {
   "cell_type": "markdown",
   "metadata": {},
   "source": [
    "We see that concatenating speed is almost similar. Even for the different array sizes time taken in the concatenation is almost similar.\n",
    "\n",
    "Python list can be extended by attaching one or more lists to it. But we can not extend an existing Numpy array. When we concatenate 2 Numpy arrays, one new resulting array is initialized. So the concatenating operation is relatively faster in the python list."
   ]
  },
  {
   "cell_type": "markdown",
   "metadata": {},
   "source": [
    "### Deletion\n",
    "\n",
    "Let's take a moment here, and guess which thing will be faster while performing delete operation?"
   ]
  },
  {
   "cell_type": "code",
   "execution_count": 8,
   "metadata": {},
   "outputs": [
    {
     "data": {
      "text/plain": [
       "0.0"
      ]
     },
     "execution_count": 8,
     "metadata": {},
     "output_type": "execute_result"
    }
   ],
   "source": [
    "py_list = [i for i in range(10000)]\n",
    "\n",
    "start = process_time()\n",
    "\n",
    "del(py_list)\n",
    "\n",
    "end = process_time()\n",
    "\n",
    "round (end-start,5)"
   ]
  },
  {
   "cell_type": "code",
   "execution_count": 9,
   "metadata": {},
   "outputs": [
    {
     "data": {
      "text/plain": [
       "0.0"
      ]
     },
     "execution_count": 9,
     "metadata": {},
     "output_type": "execute_result"
    }
   ],
   "source": [
    "np_arr = np.array([i for i in range(10000)])\n",
    "\n",
    "\n",
    "start = process_time()\n",
    "\n",
    "del np_arr\n",
    "\n",
    "end = process_time()\n",
    "\n",
    "round (end-start,5)"
   ]
  },
  {
   "cell_type": "markdown",
   "metadata": {},
   "source": [
    "Even for the delete operation, the Numpy array is faster. As the array size increase, Numpy gets around 30 times faster than Python List.\n",
    "\n",
    "Because the Numpy array is densely packed in memory due to its homogeneous type, it also frees the memory faster.\n",
    "\n",
    "So overall a task executed in Numpy is around 5 to 100 times faster than the standard python list, which is a significant leap in terms of speed."
   ]
  },
  {
   "cell_type": "code",
   "execution_count": null,
   "metadata": {},
   "outputs": [],
   "source": []
  }
 ],
 "metadata": {
  "kernelspec": {
   "display_name": "base",
   "language": "python",
   "name": "python3"
  },
  "language_info": {
   "codemirror_mode": {
    "name": "ipython",
    "version": 3
   },
   "file_extension": ".py",
   "mimetype": "text/x-python",
   "name": "python",
   "nbconvert_exporter": "python",
   "pygments_lexer": "ipython3",
   "version": "3.11.5"
  }
 },
 "nbformat": 4,
 "nbformat_minor": 2
}

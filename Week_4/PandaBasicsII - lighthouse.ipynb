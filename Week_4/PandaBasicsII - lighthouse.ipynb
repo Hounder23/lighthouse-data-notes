{
 "cells": [
  {
   "cell_type": "code",
   "execution_count": 64,
   "metadata": {},
   "outputs": [],
   "source": [
    "import numpy as np\n",
    "import pandas as pd"
   ]
  },
  {
   "cell_type": "markdown",
   "metadata": {},
   "source": [
    "# Pandas Basics II\n",
    "\n",
    "We will continue with the practice of basic operations in Pandas. To extend what we're already learned, we'll cover:\n",
    "\n",
    "    Boolean comparisons\n",
    "    Objects comparison\n",
    "    Descriptive statistics\n",
    "    Iterations\n"
   ]
  },
  {
   "cell_type": "markdown",
   "metadata": {},
   "source": [
    "## Boolean Comparisons\n",
    "\n",
    "Series and DataFrame have the binary comparison methods eq, ne, le, lt, ge, and gt whose behavior is vectorized:\n",
    "\n",
    "    eq (equivalent to ==) — equals to\n",
    "    ne (equivalent to !=) — not equals to\n",
    "    le (equivalent to <=) — less than or equals to\n",
    "    lt (equivalent to <) — less than\n",
    "    ge (equivalent to >=) — greater than or equals to\n",
    "    gt (equivalent to >) — greater than\n"
   ]
  },
  {
   "cell_type": "code",
   "execution_count": 65,
   "metadata": {},
   "outputs": [],
   "source": [
    "df = pd.DataFrame({\n",
    "    'one' : pd.Series(np.random.randn(3), index=['a', 'b', 'c']),\n",
    "    'two' : pd.Series(np.random.randn(4), index=['a', 'b', 'c', 'd']),\n",
    "    'three' : pd.Series(np.random.randn(3), index=['b', 'c', 'd'])})\n"
   ]
  },
  {
   "cell_type": "code",
   "execution_count": 66,
   "metadata": {},
   "outputs": [],
   "source": [
    "df2 = df.copy()\n"
   ]
  },
  {
   "cell_type": "code",
   "execution_count": 67,
   "metadata": {},
   "outputs": [
    {
     "data": {
      "text/html": [
       "<div>\n",
       "<style scoped>\n",
       "    .dataframe tbody tr th:only-of-type {\n",
       "        vertical-align: middle;\n",
       "    }\n",
       "\n",
       "    .dataframe tbody tr th {\n",
       "        vertical-align: top;\n",
       "    }\n",
       "\n",
       "    .dataframe thead th {\n",
       "        text-align: right;\n",
       "    }\n",
       "</style>\n",
       "<table border=\"1\" class=\"dataframe\">\n",
       "  <thead>\n",
       "    <tr style=\"text-align: right;\">\n",
       "      <th></th>\n",
       "      <th>one</th>\n",
       "      <th>two</th>\n",
       "      <th>three</th>\n",
       "    </tr>\n",
       "  </thead>\n",
       "  <tbody>\n",
       "    <tr>\n",
       "      <th>a</th>\n",
       "      <td>False</td>\n",
       "      <td>False</td>\n",
       "      <td>False</td>\n",
       "    </tr>\n",
       "    <tr>\n",
       "      <th>b</th>\n",
       "      <td>False</td>\n",
       "      <td>False</td>\n",
       "      <td>False</td>\n",
       "    </tr>\n",
       "    <tr>\n",
       "      <th>c</th>\n",
       "      <td>False</td>\n",
       "      <td>False</td>\n",
       "      <td>False</td>\n",
       "    </tr>\n",
       "    <tr>\n",
       "      <th>d</th>\n",
       "      <td>False</td>\n",
       "      <td>False</td>\n",
       "      <td>False</td>\n",
       "    </tr>\n",
       "  </tbody>\n",
       "</table>\n",
       "</div>"
      ],
      "text/plain": [
       "     one    two  three\n",
       "a  False  False  False\n",
       "b  False  False  False\n",
       "c  False  False  False\n",
       "d  False  False  False"
      ]
     },
     "execution_count": 67,
     "metadata": {},
     "output_type": "execute_result"
    }
   ],
   "source": [
    "df.gt(df2)"
   ]
  },
  {
   "cell_type": "code",
   "execution_count": 68,
   "metadata": {},
   "outputs": [
    {
     "data": {
      "text/html": [
       "<div>\n",
       "<style scoped>\n",
       "    .dataframe tbody tr th:only-of-type {\n",
       "        vertical-align: middle;\n",
       "    }\n",
       "\n",
       "    .dataframe tbody tr th {\n",
       "        vertical-align: top;\n",
       "    }\n",
       "\n",
       "    .dataframe thead th {\n",
       "        text-align: right;\n",
       "    }\n",
       "</style>\n",
       "<table border=\"1\" class=\"dataframe\">\n",
       "  <thead>\n",
       "    <tr style=\"text-align: right;\">\n",
       "      <th></th>\n",
       "      <th>one</th>\n",
       "      <th>two</th>\n",
       "      <th>three</th>\n",
       "    </tr>\n",
       "  </thead>\n",
       "  <tbody>\n",
       "    <tr>\n",
       "      <th>a</th>\n",
       "      <td>False</td>\n",
       "      <td>False</td>\n",
       "      <td>True</td>\n",
       "    </tr>\n",
       "    <tr>\n",
       "      <th>b</th>\n",
       "      <td>False</td>\n",
       "      <td>False</td>\n",
       "      <td>False</td>\n",
       "    </tr>\n",
       "    <tr>\n",
       "      <th>c</th>\n",
       "      <td>False</td>\n",
       "      <td>False</td>\n",
       "      <td>False</td>\n",
       "    </tr>\n",
       "    <tr>\n",
       "      <th>d</th>\n",
       "      <td>True</td>\n",
       "      <td>False</td>\n",
       "      <td>False</td>\n",
       "    </tr>\n",
       "  </tbody>\n",
       "</table>\n",
       "</div>"
      ],
      "text/plain": [
       "     one    two  three\n",
       "a  False  False   True\n",
       "b  False  False  False\n",
       "c  False  False  False\n",
       "d   True  False  False"
      ]
     },
     "execution_count": 68,
     "metadata": {},
     "output_type": "execute_result"
    }
   ],
   "source": [
    "df2.ne(df)"
   ]
  },
  {
   "cell_type": "markdown",
   "metadata": {},
   "source": [
    "np.nan == np.nan returns False.\n",
    "\n",
    "You can apply the reductions: empty, any(), all(), and bool() to provide a way to summarize a boolean result."
   ]
  },
  {
   "cell_type": "code",
   "execution_count": 69,
   "metadata": {},
   "outputs": [
    {
     "data": {
      "text/plain": [
       "one      False\n",
       "two      False\n",
       "three    False\n",
       "dtype: bool"
      ]
     },
     "execution_count": 69,
     "metadata": {},
     "output_type": "execute_result"
    }
   ],
   "source": [
    "(df>0).all()"
   ]
  },
  {
   "cell_type": "markdown",
   "metadata": {},
   "source": [
    "The line of code [`(df>0).all()`](command:_github.copilot.openSymbolInFile?%5B%22..%2F..%2FAnaconda%2FLib%2Fsite-packages%2Fpandas%2Fcore%2Fframe.py%22%2C%22(df%3E0).all()%22%5D \"../../Anaconda/Lib/site-packages/pandas/core/frame.py\") is using pandas, a popular data manipulation library in Python, to perform an operation on a DataFrame [`df`](command:_github.copilot.openSymbolInFile?%5B%22..%2F..%2FAnaconda%2FLib%2Fsite-packages%2Fpandas%2Fcore%2Fframe.py%22%2C%22df%22%5D \"../../Anaconda/Lib/site-packages/pandas/core/frame.py\").\n",
    "\n",
    "Let's break it down:\n",
    "\n",
    "1. `df > 0`: This part of the code is a comparison operation that is applied element-wise on the DataFrame [`df`](command:_github.copilot.openSymbolInFile?%5B%22..%2F..%2FAnaconda%2FLib%2Fsite-packages%2Fpandas%2Fcore%2Fframe.py%22%2C%22df%22%5D \"../../Anaconda/Lib/site-packages/pandas/core/frame.py\"). It returns a new DataFrame of the same shape as [`df`](command:_github.copilot.openSymbolInFile?%5B%22..%2F..%2FAnaconda%2FLib%2Fsite-packages%2Fpandas%2Fcore%2Fframe.py%22%2C%22df%22%5D \"../../Anaconda/Lib/site-packages/pandas/core/frame.py\"), but with `True` at the positions where the original DataFrame has a value greater than 0, and `False` otherwise.\n",
    "\n",
    "2. [`.all()`](command:_github.copilot.openSymbolInFile?%5B%22c%3A%2FUsers%2Feddie%2F.vscode%2Fextensions%2Fms-python.vscode-pylance-2024.2.2%2Fdist%2Fbundled%2Fstubs%2Fpandas%2Fcore%2Fframe.pyi%22%2C%22.all()%22%5D \"c:/Users/eddie/.vscode/extensions/ms-python.vscode-pylance-2024.2.2/dist/bundled/stubs/pandas/core/frame.pyi\"): This method is then called on the resulting DataFrame. The [`all()`](command:_github.copilot.openSymbolInFile?%5B%22c%3A%2FUsers%2Feddie%2F.vscode%2Fextensions%2Fms-python.vscode-pylance-2024.2.2%2Fdist%2Fbundled%2Fstubs%2Fpandas%2Fcore%2Fframe.pyi%22%2C%22all()%22%5D \"c:/Users/eddie/.vscode/extensions/ms-python.vscode-pylance-2024.2.2/dist/bundled/stubs/pandas/core/frame.pyi\") method returns whether all elements are `True`, over the requested axis. By default, it checks over the index axis (axis=0). If every element in a column is `True`, it will return `True` for that column; if any element is `False`, it will return `False`.\n",
    "\n",
    "So, [`(df>0).all()`](command:_github.copilot.openSymbolInFile?%5B%22..%2F..%2FAnaconda%2FLib%2Fsite-packages%2Fpandas%2Fcore%2Fframe.py%22%2C%22(df%3E0).all()%22%5D \"../../Anaconda/Lib/site-packages/pandas/core/frame.py\") is checking if all elements in each column of the DataFrame [`df`](command:_github.copilot.openSymbolInFile?%5B%22..%2F..%2FAnaconda%2FLib%2Fsite-packages%2Fpandas%2Fcore%2Fframe.py%22%2C%22df%22%5D \"../../Anaconda/Lib/site-packages/pandas/core/frame.py\") are greater than 0. The result is a Series object (which is essentially a labeled one-dimensional array) with column labels as indices and either `True` or `False` as values, indicating whether or not all elements in the corresponding column are greater than 0."
   ]
  },
  {
   "cell_type": "code",
   "execution_count": 70,
   "metadata": {},
   "outputs": [
    {
     "data": {
      "text/plain": [
       "one       True\n",
       "two       True\n",
       "three    False\n",
       "dtype: bool"
      ]
     },
     "execution_count": 70,
     "metadata": {},
     "output_type": "execute_result"
    }
   ],
   "source": [
    "(df >0).any()"
   ]
  },
  {
   "cell_type": "code",
   "execution_count": 71,
   "metadata": {},
   "outputs": [
    {
     "data": {
      "text/plain": [
       "True"
      ]
     },
     "execution_count": 71,
     "metadata": {},
     "output_type": "execute_result"
    }
   ],
   "source": [
    "(df>0).any().any()"
   ]
  },
  {
   "cell_type": "markdown",
   "metadata": {},
   "source": [
    "The line of code [`(df>0).any().any()`](command:_github.copilot.openSymbolInFile?%5B%22..%2F..%2FAnaconda%2FLib%2Fsite-packages%2Fpandas%2Fcore%2Fframe.py%22%2C%22(df%3E0).any().any()%22%5D \"../../Anaconda/Lib/site-packages/pandas/core/frame.py\") is using pandas, a popular data manipulation library in Python, to perform an operation on a DataFrame [`df`](command:_github.copilot.openSymbolInFile?%5B%22..%2F..%2FAnaconda%2FLib%2Fsite-packages%2Fpandas%2Fcore%2Fframe.py%22%2C%22df%22%5D \"../../Anaconda/Lib/site-packages/pandas/core/frame.py\").\n",
    "\n",
    "Let's break it down:\n",
    "\n",
    "1. `df > 0`: This part of the code is a comparison operation that is applied element-wise on the DataFrame [`df`](command:_github.copilot.openSymbolInFile?%5B%22..%2F..%2FAnaconda%2FLib%2Fsite-packages%2Fpandas%2Fcore%2Fframe.py%22%2C%22df%22%5D \"../../Anaconda/Lib/site-packages/pandas/core/frame.py\"). It returns a new DataFrame of the same shape as [`df`](command:_github.copilot.openSymbolInFile?%5B%22..%2F..%2FAnaconda%2FLib%2Fsite-packages%2Fpandas%2Fcore%2Fframe.py%22%2C%22df%22%5D \"../../Anaconda/Lib/site-packages/pandas/core/frame.py\"), but with `True` at the positions where the original DataFrame has a value greater than 0, and `False` otherwise.\n",
    "\n",
    "2. [`.any()`](command:_github.copilot.openSymbolInFile?%5B%22c%3A%2FUsers%2Feddie%2F.vscode%2Fextensions%2Fms-python.vscode-pylance-2024.2.2%2Fdist%2Fbundled%2Fstubs%2Fpandas%2Fcore%2Fframe.pyi%22%2C%22.any()%22%5D \"c:/Users/eddie/.vscode/extensions/ms-python.vscode-pylance-2024.2.2/dist/bundled/stubs/pandas/core/frame.pyi\"): This method is then called on the resulting DataFrame. The [`any()`](command:_github.copilot.openSymbolInFile?%5B%22c%3A%2FUsers%2Feddie%2F.vscode%2Fextensions%2Fms-python.vscode-pylance-2024.2.2%2Fdist%2Fbundled%2Fstubs%2Fpandas%2Fcore%2Fframe.pyi%22%2C%22any()%22%5D \"c:/Users/eddie/.vscode/extensions/ms-python.vscode-pylance-2024.2.2/dist/bundled/stubs/pandas/core/frame.pyi\") method returns whether any element is `True`, over the requested axis. By default, it checks over the index axis (axis=0). If any element in a column is `True`, it will return `True` for that column; if all elements are `False`, it will return `False`.\n",
    "\n",
    "3. [`.any()`](command:_github.copilot.openSymbolInFile?%5B%22c%3A%2FUsers%2Feddie%2F.vscode%2Fextensions%2Fms-python.vscode-pylance-2024.2.2%2Fdist%2Fbundled%2Fstubs%2Fpandas%2Fcore%2Fframe.pyi%22%2C%22.any()%22%5D \"c:/Users/eddie/.vscode/extensions/ms-python.vscode-pylance-2024.2.2/dist/bundled/stubs/pandas/core/frame.pyi\"): This method is called again on the resulting Series. This time, it checks if there is any `True` value in the Series. If there is at least one `True` value, it will return `True`; if all values are `False`, it will return `False`.\n",
    "\n",
    "So, [`(df>0).any().any()`](command:_github.copilot.openSymbolInFile?%5B%22..%2F..%2FAnaconda%2FLib%2Fsite-packages%2Fpandas%2Fcore%2Fframe.py%22%2C%22(df%3E0).any().any()%22%5D \"../../Anaconda/Lib/site-packages/pandas/core/frame.py\") is checking if there is any value in the DataFrame [`df`](command:_github.copilot.openSymbolInFile?%5B%22..%2F..%2FAnaconda%2FLib%2Fsite-packages%2Fpandas%2Fcore%2Fframe.py%22%2C%22df%22%5D \"../../Anaconda/Lib/site-packages/pandas/core/frame.py\") that is greater than 0. The result is a single boolean value, either `True` or `False`, indicating whether or not there is at least one value greater than 0 in the DataFrame."
   ]
  },
  {
   "cell_type": "markdown",
   "metadata": {},
   "source": [
    "\n",
    "\n",
    "You might be tempted to do the following:\n",
    "\n",
    "if df:\n",
    "  pass\n",
    "\n",
    "or\n",
    "\n",
    "df and df2\n",
    "\n",
    "These will both produce errors as you are trying to compare multiple values.\n",
    "\n",
    "\n",
    "To evaluate single-element pandas objects in a boolean context, use the method bool():"
   ]
  },
  {
   "cell_type": "code",
   "execution_count": 72,
   "metadata": {},
   "outputs": [
    {
     "name": "stderr",
     "output_type": "stream",
     "text": [
      "C:\\Users\\eddie\\AppData\\Local\\Temp\\ipykernel_23340\\3504362920.py:1: FutureWarning: Series.bool is now deprecated and will be removed in future version of pandas\n",
      "  pd.Series([True]).bool()\n"
     ]
    },
    {
     "data": {
      "text/plain": [
       "True"
      ]
     },
     "execution_count": 72,
     "metadata": {},
     "output_type": "execute_result"
    }
   ],
   "source": [
    "pd.Series([True]).bool()"
   ]
  },
  {
   "cell_type": "code",
   "execution_count": 73,
   "metadata": {},
   "outputs": [
    {
     "name": "stderr",
     "output_type": "stream",
     "text": [
      "C:\\Users\\eddie\\AppData\\Local\\Temp\\ipykernel_23340\\3499430147.py:1: FutureWarning: Series.bool is now deprecated and will be removed in future version of pandas\n",
      "  pd.Series([False]).bool()\n"
     ]
    },
    {
     "data": {
      "text/plain": [
       "False"
      ]
     },
     "execution_count": 73,
     "metadata": {},
     "output_type": "execute_result"
    }
   ],
   "source": [
    "pd.Series([False]).bool()"
   ]
  },
  {
   "cell_type": "code",
   "execution_count": 74,
   "metadata": {},
   "outputs": [
    {
     "name": "stderr",
     "output_type": "stream",
     "text": [
      "C:\\Users\\eddie\\AppData\\Local\\Temp\\ipykernel_23340\\2014428940.py:1: FutureWarning: DataFrame.bool is now deprecated and will be removed in future version of pandas\n",
      "  pd.DataFrame([True]).bool()\n"
     ]
    },
    {
     "data": {
      "text/plain": [
       "True"
      ]
     },
     "execution_count": 74,
     "metadata": {},
     "output_type": "execute_result"
    }
   ],
   "source": [
    "pd.DataFrame([True]).bool()"
   ]
  },
  {
   "cell_type": "code",
   "execution_count": 75,
   "metadata": {},
   "outputs": [
    {
     "name": "stderr",
     "output_type": "stream",
     "text": [
      "C:\\Users\\eddie\\AppData\\Local\\Temp\\ipykernel_23340\\4096376717.py:1: FutureWarning: DataFrame.bool is now deprecated and will be removed in future version of pandas\n",
      "  pd.DataFrame([False]).bool()\n"
     ]
    },
    {
     "data": {
      "text/plain": [
       "False"
      ]
     },
     "execution_count": 75,
     "metadata": {},
     "output_type": "execute_result"
    }
   ],
   "source": [
    "pd.DataFrame([False]).bool()"
   ]
  },
  {
   "cell_type": "markdown",
   "metadata": {},
   "source": [
    "## Objects comparison\n",
    "\n",
    "You can conveniently perform element-wise comparisons when comparing a pandas data structure with a scalar value:"
   ]
  },
  {
   "cell_type": "code",
   "execution_count": 76,
   "metadata": {},
   "outputs": [
    {
     "data": {
      "text/plain": [
       "0     True\n",
       "1    False\n",
       "2    False\n",
       "dtype: bool"
      ]
     },
     "execution_count": 76,
     "metadata": {},
     "output_type": "execute_result"
    }
   ],
   "source": [
    "pd.Series(['foo','bar','baz']) == 'foo'"
   ]
  },
  {
   "cell_type": "markdown",
   "metadata": {},
   "source": [
    "Pandas also handles element-wise comparisons between different array-like objects of the same length:"
   ]
  },
  {
   "cell_type": "code",
   "execution_count": 77,
   "metadata": {},
   "outputs": [
    {
     "data": {
      "text/plain": [
       "0     True\n",
       "1     True\n",
       "2    False\n",
       "dtype: bool"
      ]
     },
     "execution_count": 77,
     "metadata": {},
     "output_type": "execute_result"
    }
   ],
   "source": [
    "pd.Series(['foo', 'bar', 'baz']) == pd.Index(['foo', 'bar', 'qux'])"
   ]
  },
  {
   "cell_type": "markdown",
   "metadata": {},
   "source": [
    "Trying to compare Index or Series objects of different lengths will create a ValueError:"
   ]
  },
  {
   "cell_type": "code",
   "execution_count": 78,
   "metadata": {},
   "outputs": [
    {
     "ename": "ValueError",
     "evalue": "Can only compare identically-labeled Series objects",
     "output_type": "error",
     "traceback": [
      "\u001b[1;31m---------------------------------------------------------------------------\u001b[0m",
      "\u001b[1;31mValueError\u001b[0m                                Traceback (most recent call last)",
      "Cell \u001b[1;32mIn[78], line 1\u001b[0m\n\u001b[1;32m----> 1\u001b[0m pd\u001b[38;5;241m.\u001b[39mSeries([\u001b[38;5;124m'\u001b[39m\u001b[38;5;124mfoo\u001b[39m\u001b[38;5;124m'\u001b[39m, \u001b[38;5;124m'\u001b[39m\u001b[38;5;124mbar\u001b[39m\u001b[38;5;124m'\u001b[39m, \u001b[38;5;124m'\u001b[39m\u001b[38;5;124mbaz\u001b[39m\u001b[38;5;124m'\u001b[39m]) \u001b[38;5;241m==\u001b[39m pd\u001b[38;5;241m.\u001b[39mSeries([\u001b[38;5;124m'\u001b[39m\u001b[38;5;124mfoo\u001b[39m\u001b[38;5;124m'\u001b[39m, \u001b[38;5;124m'\u001b[39m\u001b[38;5;124mbar\u001b[39m\u001b[38;5;124m'\u001b[39m])\n",
      "File \u001b[1;32md:\\Anaconda\\Lib\\site-packages\\pandas\\core\\ops\\common.py:76\u001b[0m, in \u001b[0;36m_unpack_zerodim_and_defer.<locals>.new_method\u001b[1;34m(self, other)\u001b[0m\n\u001b[0;32m     72\u001b[0m             \u001b[38;5;28;01mreturn\u001b[39;00m \u001b[38;5;28mNotImplemented\u001b[39m\n\u001b[0;32m     74\u001b[0m other \u001b[38;5;241m=\u001b[39m item_from_zerodim(other)\n\u001b[1;32m---> 76\u001b[0m \u001b[38;5;28;01mreturn\u001b[39;00m method(\u001b[38;5;28mself\u001b[39m, other)\n",
      "File \u001b[1;32md:\\Anaconda\\Lib\\site-packages\\pandas\\core\\arraylike.py:40\u001b[0m, in \u001b[0;36mOpsMixin.__eq__\u001b[1;34m(self, other)\u001b[0m\n\u001b[0;32m     38\u001b[0m \u001b[38;5;129m@unpack_zerodim_and_defer\u001b[39m(\u001b[38;5;124m\"\u001b[39m\u001b[38;5;124m__eq__\u001b[39m\u001b[38;5;124m\"\u001b[39m)\n\u001b[0;32m     39\u001b[0m \u001b[38;5;28;01mdef\u001b[39;00m \u001b[38;5;21m__eq__\u001b[39m(\u001b[38;5;28mself\u001b[39m, other):\n\u001b[1;32m---> 40\u001b[0m     \u001b[38;5;28;01mreturn\u001b[39;00m \u001b[38;5;28mself\u001b[39m\u001b[38;5;241m.\u001b[39m_cmp_method(other, operator\u001b[38;5;241m.\u001b[39meq)\n",
      "File \u001b[1;32md:\\Anaconda\\Lib\\site-packages\\pandas\\core\\series.py:5798\u001b[0m, in \u001b[0;36mSeries._cmp_method\u001b[1;34m(self, other, op)\u001b[0m\n\u001b[0;32m   5795\u001b[0m res_name \u001b[38;5;241m=\u001b[39m ops\u001b[38;5;241m.\u001b[39mget_op_result_name(\u001b[38;5;28mself\u001b[39m, other)\n\u001b[0;32m   5797\u001b[0m \u001b[38;5;28;01mif\u001b[39;00m \u001b[38;5;28misinstance\u001b[39m(other, Series) \u001b[38;5;129;01mand\u001b[39;00m \u001b[38;5;129;01mnot\u001b[39;00m \u001b[38;5;28mself\u001b[39m\u001b[38;5;241m.\u001b[39m_indexed_same(other):\n\u001b[1;32m-> 5798\u001b[0m     \u001b[38;5;28;01mraise\u001b[39;00m \u001b[38;5;167;01mValueError\u001b[39;00m(\u001b[38;5;124m\"\u001b[39m\u001b[38;5;124mCan only compare identically-labeled Series objects\u001b[39m\u001b[38;5;124m\"\u001b[39m)\n\u001b[0;32m   5800\u001b[0m lvalues \u001b[38;5;241m=\u001b[39m \u001b[38;5;28mself\u001b[39m\u001b[38;5;241m.\u001b[39m_values\n\u001b[0;32m   5801\u001b[0m rvalues \u001b[38;5;241m=\u001b[39m extract_array(other, extract_numpy\u001b[38;5;241m=\u001b[39m\u001b[38;5;28;01mTrue\u001b[39;00m, extract_range\u001b[38;5;241m=\u001b[39m\u001b[38;5;28;01mTrue\u001b[39;00m)\n",
      "\u001b[1;31mValueError\u001b[0m: Can only compare identically-labeled Series objects"
     ]
    }
   ],
   "source": [
    "pd.Series(['foo', 'bar', 'baz']) == pd.Series(['foo', 'bar'])"
   ]
  },
  {
   "cell_type": "markdown",
   "metadata": {},
   "source": [
    "Often you may find that there is more than one way to compute the same result. For example, consider df + df and df * 2. To test that these two computations produce the same result, given the tools shown above, you might imagine using (df + df == df * 2).all().all()."
   ]
  },
  {
   "cell_type": "code",
   "execution_count": null,
   "metadata": {},
   "outputs": [
    {
     "data": {
      "text/plain": [
       "one      False\n",
       "two       True\n",
       "three    False\n",
       "dtype: bool"
      ]
     },
     "execution_count": 17,
     "metadata": {},
     "output_type": "execute_result"
    }
   ],
   "source": [
    "(df + df == df * 2).all()"
   ]
  },
  {
   "cell_type": "code",
   "execution_count": null,
   "metadata": {},
   "outputs": [
    {
     "data": {
      "text/html": [
       "<div>\n",
       "<style scoped>\n",
       "    .dataframe tbody tr th:only-of-type {\n",
       "        vertical-align: middle;\n",
       "    }\n",
       "\n",
       "    .dataframe tbody tr th {\n",
       "        vertical-align: top;\n",
       "    }\n",
       "\n",
       "    .dataframe thead th {\n",
       "        text-align: right;\n",
       "    }\n",
       "</style>\n",
       "<table border=\"1\" class=\"dataframe\">\n",
       "  <thead>\n",
       "    <tr style=\"text-align: right;\">\n",
       "      <th></th>\n",
       "      <th>one</th>\n",
       "      <th>two</th>\n",
       "      <th>three</th>\n",
       "    </tr>\n",
       "  </thead>\n",
       "  <tbody>\n",
       "    <tr>\n",
       "      <th>a</th>\n",
       "      <td>True</td>\n",
       "      <td>True</td>\n",
       "      <td>False</td>\n",
       "    </tr>\n",
       "    <tr>\n",
       "      <th>b</th>\n",
       "      <td>True</td>\n",
       "      <td>True</td>\n",
       "      <td>True</td>\n",
       "    </tr>\n",
       "    <tr>\n",
       "      <th>c</th>\n",
       "      <td>True</td>\n",
       "      <td>True</td>\n",
       "      <td>True</td>\n",
       "    </tr>\n",
       "    <tr>\n",
       "      <th>d</th>\n",
       "      <td>False</td>\n",
       "      <td>True</td>\n",
       "      <td>True</td>\n",
       "    </tr>\n",
       "  </tbody>\n",
       "</table>\n",
       "</div>"
      ],
      "text/plain": [
       "     one   two  three\n",
       "a   True  True  False\n",
       "b   True  True   True\n",
       "c   True  True   True\n",
       "d  False  True   True"
      ]
     },
     "execution_count": 18,
     "metadata": {},
     "output_type": "execute_result"
    }
   ],
   "source": [
    "df + df == df * 2"
   ]
  },
  {
   "cell_type": "markdown",
   "metadata": {},
   "source": [
    "This happens because of the problem mentioned above that "
   ]
  },
  {
   "cell_type": "code",
   "execution_count": null,
   "metadata": {},
   "outputs": [
    {
     "data": {
      "text/plain": [
       "False"
      ]
     },
     "execution_count": 20,
     "metadata": {},
     "output_type": "execute_result"
    }
   ],
   "source": [
    "np.nan == np.nan"
   ]
  },
  {
   "cell_type": "markdown",
   "metadata": {},
   "source": [
    "So, Pandas objects (such as Series and DataFrames) have an equals() method for testing equality, with NaNs in corresponding locations treated as equal."
   ]
  },
  {
   "cell_type": "code",
   "execution_count": null,
   "metadata": {},
   "outputs": [
    {
     "data": {
      "text/plain": [
       "True"
      ]
     },
     "execution_count": 21,
     "metadata": {},
     "output_type": "execute_result"
    }
   ],
   "source": [
    "(df+df).equals(df*2)\n"
   ]
  },
  {
   "cell_type": "markdown",
   "metadata": {},
   "source": [
    "Note that the Series or DataFrame index needs to be in the same order for the equality to be True."
   ]
  },
  {
   "cell_type": "markdown",
   "metadata": {},
   "source": [
    "## Descriptive Statistics\n",
    "\n",
    "There exists a large number of methods for computing descriptive statistics and other related operations on Series, DataFrame. All of them are vectorized. Most of them are aggregations and produce a lower-dimensional result.\n",
    "\n",
    "Generally speaking, these methods take an axis as an argument and the axis can be specified by name or integer:"
   ]
  },
  {
   "cell_type": "code",
   "execution_count": null,
   "metadata": {},
   "outputs": [
    {
     "data": {
      "text/plain": [
       "one      0.285534\n",
       "two     -0.330910\n",
       "three   -0.169282\n",
       "dtype: float64"
      ]
     },
     "execution_count": 22,
     "metadata": {},
     "output_type": "execute_result"
    }
   ],
   "source": [
    "df.mean(0)"
   ]
  },
  {
   "cell_type": "code",
   "execution_count": null,
   "metadata": {},
   "outputs": [
    {
     "data": {
      "text/plain": [
       "a    0.067281\n",
       "b   -0.946347\n",
       "c    0.056331\n",
       "d    0.780302\n",
       "dtype: float64"
      ]
     },
     "execution_count": 23,
     "metadata": {},
     "output_type": "execute_result"
    }
   ],
   "source": [
    "df.mean(1)"
   ]
  },
  {
   "cell_type": "markdown",
   "metadata": {},
   "source": [
    "By applying vectorized operations, we can describe various statistical procedures, like standardization (rendering data zero mean and standard deviation 1), very concisely:"
   ]
  },
  {
   "cell_type": "code",
   "execution_count": null,
   "metadata": {},
   "outputs": [],
   "source": [
    "ts_stand = (df - df.mean()) / df.std()"
   ]
  },
  {
   "cell_type": "code",
   "execution_count": null,
   "metadata": {},
   "outputs": [
    {
     "data": {
      "text/plain": [
       "one      1.0\n",
       "two      1.0\n",
       "three    1.0\n",
       "dtype: float64"
      ]
     },
     "execution_count": 25,
     "metadata": {},
     "output_type": "execute_result"
    }
   ],
   "source": [
    "ts_stand.std()"
   ]
  },
  {
   "cell_type": "markdown",
   "metadata": {},
   "source": [
    "Here are some of the most commonly used methods in pandas for descriptive statistics:\n",
    "\n",
    "1. `count()`: Number of non-null observations\n",
    "2. `sum()`: Sum of values\n",
    "3. `mean()`: Mean of values\n",
    "4. `median()`: Arithmetic median of values\n",
    "5. `mode()`: Mode of values\n",
    "6. `std()`: Unbiased standard deviation\n",
    "7. `min()`: Minimum\n",
    "8. `max()`: Maximum\n",
    "9. `abs()`: Absolute Value\n",
    "10. `prod()`: Product of values\n",
    "11. `cumsum()`: Cumulative sum\n",
    "12. `cumprod()`: Cumulative product\n",
    "13. `quantile([0.25,0.75])`: Returns the 25th and 75th percentile\n",
    "14. `describe()`: Summary statistics\n",
    "\n",
    "These methods are typically called on pandas DataFrame or Series objects, like so: `df['column_name'].mean()`."
   ]
  },
  {
   "cell_type": "markdown",
   "metadata": {},
   "source": []
  },
  {
   "cell_type": "markdown",
   "metadata": {},
   "source": [
    "## Describe\n",
    "\n",
    "There is a convenient describe() function which computes a variety of summary statistics about a Series or the columns of a DataFrame:"
   ]
  },
  {
   "cell_type": "code",
   "execution_count": null,
   "metadata": {},
   "outputs": [],
   "source": [
    "series = pd.Series(np.random.randn(1000))"
   ]
  },
  {
   "cell_type": "code",
   "execution_count": null,
   "metadata": {},
   "outputs": [],
   "source": [
    "series[::2] = np.nan"
   ]
  },
  {
   "cell_type": "code",
   "execution_count": null,
   "metadata": {},
   "outputs": [
    {
     "data": {
      "text/plain": [
       "count    500.000000\n",
       "mean      -0.045837\n",
       "std        1.003211\n",
       "min       -2.400862\n",
       "25%       -0.778256\n",
       "50%       -0.129547\n",
       "75%        0.687897\n",
       "max        3.313279\n",
       "dtype: float64"
      ]
     },
     "execution_count": 28,
     "metadata": {},
     "output_type": "execute_result"
    }
   ],
   "source": [
    "series.describe()"
   ]
  },
  {
   "cell_type": "code",
   "execution_count": null,
   "metadata": {},
   "outputs": [],
   "source": [
    "frame = pd.DataFrame(np.random.randn(1000, 5),\n",
    "                     columns = ['a', 'b', 'c', 'd', 'e'])"
   ]
  },
  {
   "cell_type": "code",
   "execution_count": null,
   "metadata": {},
   "outputs": [],
   "source": [
    "frame.iloc[::2] = np.nan\n"
   ]
  },
  {
   "cell_type": "code",
   "execution_count": null,
   "metadata": {},
   "outputs": [
    {
     "data": {
      "text/html": [
       "<div>\n",
       "<style scoped>\n",
       "    .dataframe tbody tr th:only-of-type {\n",
       "        vertical-align: middle;\n",
       "    }\n",
       "\n",
       "    .dataframe tbody tr th {\n",
       "        vertical-align: top;\n",
       "    }\n",
       "\n",
       "    .dataframe thead th {\n",
       "        text-align: right;\n",
       "    }\n",
       "</style>\n",
       "<table border=\"1\" class=\"dataframe\">\n",
       "  <thead>\n",
       "    <tr style=\"text-align: right;\">\n",
       "      <th></th>\n",
       "      <th>a</th>\n",
       "      <th>b</th>\n",
       "      <th>c</th>\n",
       "      <th>d</th>\n",
       "      <th>e</th>\n",
       "    </tr>\n",
       "  </thead>\n",
       "  <tbody>\n",
       "    <tr>\n",
       "      <th>count</th>\n",
       "      <td>500.000000</td>\n",
       "      <td>500.000000</td>\n",
       "      <td>500.000000</td>\n",
       "      <td>500.000000</td>\n",
       "      <td>500.000000</td>\n",
       "    </tr>\n",
       "    <tr>\n",
       "      <th>mean</th>\n",
       "      <td>0.028623</td>\n",
       "      <td>-0.037166</td>\n",
       "      <td>-0.015769</td>\n",
       "      <td>0.086920</td>\n",
       "      <td>0.078429</td>\n",
       "    </tr>\n",
       "    <tr>\n",
       "      <th>std</th>\n",
       "      <td>1.027404</td>\n",
       "      <td>1.028788</td>\n",
       "      <td>1.011862</td>\n",
       "      <td>0.988492</td>\n",
       "      <td>0.937917</td>\n",
       "    </tr>\n",
       "    <tr>\n",
       "      <th>min</th>\n",
       "      <td>-2.882037</td>\n",
       "      <td>-2.692050</td>\n",
       "      <td>-3.008317</td>\n",
       "      <td>-3.034981</td>\n",
       "      <td>-3.023413</td>\n",
       "    </tr>\n",
       "    <tr>\n",
       "      <th>25%</th>\n",
       "      <td>-0.748024</td>\n",
       "      <td>-0.687470</td>\n",
       "      <td>-0.707117</td>\n",
       "      <td>-0.520083</td>\n",
       "      <td>-0.541479</td>\n",
       "    </tr>\n",
       "    <tr>\n",
       "      <th>50%</th>\n",
       "      <td>0.003569</td>\n",
       "      <td>-0.076171</td>\n",
       "      <td>-0.007183</td>\n",
       "      <td>0.085294</td>\n",
       "      <td>0.052635</td>\n",
       "    </tr>\n",
       "    <tr>\n",
       "      <th>75%</th>\n",
       "      <td>0.742505</td>\n",
       "      <td>0.602720</td>\n",
       "      <td>0.637042</td>\n",
       "      <td>0.764683</td>\n",
       "      <td>0.761755</td>\n",
       "    </tr>\n",
       "    <tr>\n",
       "      <th>max</th>\n",
       "      <td>3.314278</td>\n",
       "      <td>2.905741</td>\n",
       "      <td>3.028510</td>\n",
       "      <td>3.113863</td>\n",
       "      <td>3.136734</td>\n",
       "    </tr>\n",
       "  </tbody>\n",
       "</table>\n",
       "</div>"
      ],
      "text/plain": [
       "                a           b           c           d           e\n",
       "count  500.000000  500.000000  500.000000  500.000000  500.000000\n",
       "mean     0.028623   -0.037166   -0.015769    0.086920    0.078429\n",
       "std      1.027404    1.028788    1.011862    0.988492    0.937917\n",
       "min     -2.882037   -2.692050   -3.008317   -3.034981   -3.023413\n",
       "25%     -0.748024   -0.687470   -0.707117   -0.520083   -0.541479\n",
       "50%      0.003569   -0.076171   -0.007183    0.085294    0.052635\n",
       "75%      0.742505    0.602720    0.637042    0.764683    0.761755\n",
       "max      3.314278    2.905741    3.028510    3.113863    3.136734"
      ]
     },
     "execution_count": 31,
     "metadata": {},
     "output_type": "execute_result"
    }
   ],
   "source": [
    "frame.describe()"
   ]
  },
  {
   "cell_type": "markdown",
   "metadata": {},
   "source": [
    "For a non-numerical Series object, describe() will give a simple summary of the number of unique values and the most frequently occurring values:"
   ]
  },
  {
   "cell_type": "code",
   "execution_count": null,
   "metadata": {},
   "outputs": [],
   "source": [
    "s = pd.Series(['a', 'a', 'b', 'b', 'a', 'a', np.nan, 'c', 'd', 'a'])"
   ]
  },
  {
   "cell_type": "code",
   "execution_count": null,
   "metadata": {},
   "outputs": [
    {
     "data": {
      "text/plain": [
       "count     9\n",
       "unique    4\n",
       "top       a\n",
       "freq      5\n",
       "dtype: object"
      ]
     },
     "execution_count": 33,
     "metadata": {},
     "output_type": "execute_result"
    }
   ],
   "source": [
    "s.describe()"
   ]
  },
  {
   "cell_type": "markdown",
   "metadata": {},
   "source": [
    "## Index of Min/Max Values\n",
    "\n",
    "The idxmin() and idxmax() functions on Series and DataFrame compute the index labels with the minimum and maximum corresponding values:"
   ]
  },
  {
   "cell_type": "code",
   "execution_count": null,
   "metadata": {},
   "outputs": [],
   "source": [
    "s1 = pd.Series(np.random.randn(5))"
   ]
  },
  {
   "cell_type": "code",
   "execution_count": null,
   "metadata": {},
   "outputs": [
    {
     "data": {
      "text/plain": [
       "0   -0.433074\n",
       "1    0.910450\n",
       "2   -0.162152\n",
       "3    0.349457\n",
       "4    0.777279\n",
       "dtype: float64"
      ]
     },
     "execution_count": 35,
     "metadata": {},
     "output_type": "execute_result"
    }
   ],
   "source": [
    "s1"
   ]
  },
  {
   "cell_type": "code",
   "execution_count": null,
   "metadata": {},
   "outputs": [
    {
     "data": {
      "text/plain": [
       "(0, 1)"
      ]
     },
     "execution_count": 36,
     "metadata": {},
     "output_type": "execute_result"
    }
   ],
   "source": [
    "s1.idxmin(), s1.idxmax()"
   ]
  },
  {
   "cell_type": "code",
   "execution_count": null,
   "metadata": {},
   "outputs": [],
   "source": [
    "df1 = pd.DataFrame(np.random.randn(5, 3), columns=['A', 'B', 'C'])"
   ]
  },
  {
   "cell_type": "code",
   "execution_count": null,
   "metadata": {},
   "outputs": [
    {
     "data": {
      "text/html": [
       "<div>\n",
       "<style scoped>\n",
       "    .dataframe tbody tr th:only-of-type {\n",
       "        vertical-align: middle;\n",
       "    }\n",
       "\n",
       "    .dataframe tbody tr th {\n",
       "        vertical-align: top;\n",
       "    }\n",
       "\n",
       "    .dataframe thead th {\n",
       "        text-align: right;\n",
       "    }\n",
       "</style>\n",
       "<table border=\"1\" class=\"dataframe\">\n",
       "  <thead>\n",
       "    <tr style=\"text-align: right;\">\n",
       "      <th></th>\n",
       "      <th>A</th>\n",
       "      <th>B</th>\n",
       "      <th>C</th>\n",
       "    </tr>\n",
       "  </thead>\n",
       "  <tbody>\n",
       "    <tr>\n",
       "      <th>0</th>\n",
       "      <td>-0.553053</td>\n",
       "      <td>-0.401219</td>\n",
       "      <td>0.783614</td>\n",
       "    </tr>\n",
       "    <tr>\n",
       "      <th>1</th>\n",
       "      <td>0.999470</td>\n",
       "      <td>1.827009</td>\n",
       "      <td>-2.645911</td>\n",
       "    </tr>\n",
       "    <tr>\n",
       "      <th>2</th>\n",
       "      <td>-0.500194</td>\n",
       "      <td>0.052038</td>\n",
       "      <td>1.206976</td>\n",
       "    </tr>\n",
       "    <tr>\n",
       "      <th>3</th>\n",
       "      <td>-0.943975</td>\n",
       "      <td>1.025752</td>\n",
       "      <td>-0.191107</td>\n",
       "    </tr>\n",
       "    <tr>\n",
       "      <th>4</th>\n",
       "      <td>0.891964</td>\n",
       "      <td>1.142942</td>\n",
       "      <td>-1.886593</td>\n",
       "    </tr>\n",
       "  </tbody>\n",
       "</table>\n",
       "</div>"
      ],
      "text/plain": [
       "          A         B         C\n",
       "0 -0.553053 -0.401219  0.783614\n",
       "1  0.999470  1.827009 -2.645911\n",
       "2 -0.500194  0.052038  1.206976\n",
       "3 -0.943975  1.025752 -0.191107\n",
       "4  0.891964  1.142942 -1.886593"
      ]
     },
     "execution_count": 38,
     "metadata": {},
     "output_type": "execute_result"
    }
   ],
   "source": [
    "df1\n"
   ]
  },
  {
   "cell_type": "code",
   "execution_count": null,
   "metadata": {},
   "outputs": [
    {
     "data": {
      "text/plain": [
       "A    3\n",
       "B    0\n",
       "C    1\n",
       "dtype: int64"
      ]
     },
     "execution_count": 42,
     "metadata": {},
     "output_type": "execute_result"
    }
   ],
   "source": [
    "df1.idxmin(axis=0)"
   ]
  },
  {
   "cell_type": "code",
   "execution_count": null,
   "metadata": {},
   "outputs": [
    {
     "data": {
      "text/plain": [
       "0    C\n",
       "1    B\n",
       "2    C\n",
       "3    B\n",
       "4    B\n",
       "dtype: object"
      ]
     },
     "execution_count": 41,
     "metadata": {},
     "output_type": "execute_result"
    }
   ],
   "source": [
    "df1.idxmax(axis=1)"
   ]
  },
  {
   "cell_type": "markdown",
   "metadata": {},
   "source": [
    "## Iterations\n",
    "\n",
    "The behaviour of basic iterations over pandas objects depends on the type. When iterating over a Series, it is regarded as array-like, and basic iterations produces the values. DataFrames follow the dict-like convention of iterating over the keys of the objects.\n",
    "\n",
    "In short, basic iteration (for i in object) produces:\n",
    "\n",
    "    Series: values\n",
    "    DataFrame: column labels\n"
   ]
  },
  {
   "cell_type": "code",
   "execution_count": null,
   "metadata": {},
   "outputs": [],
   "source": [
    "df = pd.DataFrame({'coll':np.random.rand(3),\n",
    "                   'col2':np.random.rand(3)},\n",
    "                  index=['a', 'b', 'c'])"
   ]
  },
  {
   "cell_type": "code",
   "execution_count": null,
   "metadata": {},
   "outputs": [
    {
     "name": "stdout",
     "output_type": "stream",
     "text": [
      "coll\n",
      "col2\n"
     ]
    }
   ],
   "source": [
    "for col in df:\n",
    "    print(col)"
   ]
  },
  {
   "cell_type": "markdown",
   "metadata": {},
   "source": [
    "To iterate over the rows of a DataFrame, you can use the following methods:\n",
    "\n",
    "    items(): to iterate over the (key, value) pairs.\n",
    "    iterrows(): Iterate over the rows of a DataFrame as (index, Series) pairs. This converts the rows to Series objects, which can change the dtypes and has some performance implications.\n",
    "    itertuples(): Iterate over the rows of a DataFrame as namedtuples of the values. This is a lot faster than iterrows() and is in most cases preferable to use to iterate over the values of a DataFrame.\n",
    "\n"
   ]
  },
  {
   "cell_type": "markdown",
   "metadata": {},
   "source": [
    "\n",
    "\n",
    "Iterating through Pandas objects is generally slow. In many cases, iterating manually over the rows is not needed and can be avoided.\n",
    "\n",
    "Warning\n",
    "\n",
    "You should never modify something you are iterating over. This is not guaranteed to work in all cases.\n"
   ]
  },
  {
   "cell_type": "markdown",
   "metadata": {},
   "source": [
    "## items\n",
    "\n",
    "Consistent with the dict-like interface, items() iterates through key-value pairs:\n",
    "\n",
    "    Series: (index, scalar value) pairs\n",
    "    DataFrame: (column, Series) pairs\n",
    "\n",
    "For example:"
   ]
  },
  {
   "cell_type": "code",
   "execution_count": null,
   "metadata": {},
   "outputs": [],
   "source": [
    "df = pd.DataFrame({'a':[1, 2, 3], 'b':[4, 5, 6]})"
   ]
  },
  {
   "cell_type": "code",
   "execution_count": null,
   "metadata": {},
   "outputs": [
    {
     "name": "stdout",
     "output_type": "stream",
     "text": [
      "a\n",
      "0    1\n",
      "1    2\n",
      "2    3\n",
      "Name: a, dtype: int64\n",
      "b\n",
      "0    4\n",
      "1    5\n",
      "2    6\n",
      "Name: b, dtype: int64\n"
     ]
    }
   ],
   "source": [
    "for label, serie in df.items():\n",
    "    print(label)\n",
    "    print(serie)"
   ]
  },
  {
   "cell_type": "markdown",
   "metadata": {},
   "source": [
    "## iterrows\n",
    "\n",
    "iterrows() allows you to iterate through the rows of a DataFrame as Series objects. It returns an iterator yielding each index value along with a Series containing the data in each row:"
   ]
  },
  {
   "cell_type": "code",
   "execution_count": 79,
   "metadata": {},
   "outputs": [
    {
     "name": "stdout",
     "output_type": "stream",
     "text": [
      "a\n",
      "one      1.151562\n",
      "two      0.345657\n",
      "three         NaN\n",
      "Name: a, dtype: float64\n",
      "b\n",
      "one      0.853684\n",
      "two      0.034525\n",
      "three   -1.300020\n",
      "Name: b, dtype: float64\n",
      "c\n",
      "one      0.447872\n",
      "two     -1.222005\n",
      "three   -0.534410\n",
      "Name: c, dtype: float64\n",
      "d\n",
      "one           NaN\n",
      "two     -2.130274\n",
      "three   -1.218212\n",
      "Name: d, dtype: float64\n"
     ]
    }
   ],
   "source": [
    "for row_index, row in df.iterrows():\n",
    "    print(row_index, row, sep='\\n')"
   ]
  },
  {
   "cell_type": "markdown",
   "metadata": {},
   "source": [
    "## itertuple\n",
    "\n",
    "The itertuples() method will return an iterator yielding a namedtuple for each row in the DataFrame. The first element of the tuple will be the row’s corresponding index value, while the remaining values are the row values.\n",
    "\n",
    "For example:"
   ]
  },
  {
   "cell_type": "code",
   "execution_count": 80,
   "metadata": {},
   "outputs": [
    {
     "name": "stdout",
     "output_type": "stream",
     "text": [
      "Pandas(Index='a', one=1.151562427718633, two=0.34565699025993685, three=nan)\n",
      "Pandas(Index='b', one=0.8536836554669829, two=0.03452493860004058, three=-1.3000196757936338)\n",
      "Pandas(Index='c', one=0.44787227142306624, two=-1.2220051635035025, three=-0.5344100105714127)\n",
      "Pandas(Index='d', one=nan, two=-2.1302735218749396, three=-1.218211830987182)\n"
     ]
    }
   ],
   "source": [
    "for row in df.itertuples():\n",
    "    print(row)"
   ]
  },
  {
   "cell_type": "code",
   "execution_count": null,
   "metadata": {},
   "outputs": [],
   "source": []
  },
  {
   "cell_type": "markdown",
   "metadata": {},
   "source": []
  }
 ],
 "metadata": {
  "kernelspec": {
   "display_name": "base",
   "language": "python",
   "name": "python3"
  },
  "language_info": {
   "codemirror_mode": {
    "name": "ipython",
    "version": 3
   },
   "file_extension": ".py",
   "mimetype": "text/x-python",
   "name": "python",
   "nbconvert_exporter": "python",
   "pygments_lexer": "ipython3",
   "version": "3.11.5"
  }
 },
 "nbformat": 4,
 "nbformat_minor": 2
}

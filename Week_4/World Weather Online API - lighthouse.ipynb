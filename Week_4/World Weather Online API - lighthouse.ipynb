{
 "cells": [
  {
   "cell_type": "code",
   "execution_count": null,
   "metadata": {},
   "outputs": [],
   "source": []
  },
  {
   "cell_type": "markdown",
   "metadata": {},
   "source": [
    "World Weather Online API\n",
    "\n",
    "We will introduce an API which we can use to obtain weather information, both historical and predictions. The data collected from this API will be used during upcoming activities. In those activities, we will provide you with the data, but this stretch activity is an opportunity for you to get a litte more practice workign with APIs."
   ]
  },
  {
   "cell_type": "markdown",
   "metadata": {},
   "source": []
  }
 ],
 "metadata": {
  "language_info": {
   "name": "python"
  }
 },
 "nbformat": 4,
 "nbformat_minor": 2
}

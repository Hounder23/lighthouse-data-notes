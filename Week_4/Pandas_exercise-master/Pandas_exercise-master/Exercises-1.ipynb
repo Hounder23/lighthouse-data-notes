{
 "cells": [
  {
   "cell_type": "code",
   "execution_count": 1,
   "metadata": {
    "collapsed": false,
    "jupyter": {
     "outputs_hidden": false
    }
   },
   "outputs": [],
   "source": [
    "# %matplotlib inline\n",
    "import pandas as pd"
   ]
  },
  {
   "cell_type": "markdown",
   "metadata": {},
   "source": [
    "### Download the data and load it to Pandas. \n",
    "\n",
    "You can find the data files in the README."
   ]
  },
  {
   "cell_type": "code",
   "execution_count": 3,
   "metadata": {
    "collapsed": false,
    "jupyter": {
     "outputs_hidden": false
    }
   },
   "outputs": [
    {
     "data": {
      "text/html": [
       "<div>\n",
       "<style scoped>\n",
       "    .dataframe tbody tr th:only-of-type {\n",
       "        vertical-align: middle;\n",
       "    }\n",
       "\n",
       "    .dataframe tbody tr th {\n",
       "        vertical-align: top;\n",
       "    }\n",
       "\n",
       "    .dataframe thead th {\n",
       "        text-align: right;\n",
       "    }\n",
       "</style>\n",
       "<table border=\"1\" class=\"dataframe\">\n",
       "  <thead>\n",
       "    <tr style=\"text-align: right;\">\n",
       "      <th></th>\n",
       "      <th>title</th>\n",
       "      <th>year</th>\n",
       "    </tr>\n",
       "  </thead>\n",
       "  <tbody>\n",
       "    <tr>\n",
       "      <th>0</th>\n",
       "      <td>The Rising Son</td>\n",
       "      <td>1990</td>\n",
       "    </tr>\n",
       "    <tr>\n",
       "      <th>1</th>\n",
       "      <td>The Thousand Plane Raid</td>\n",
       "      <td>1969</td>\n",
       "    </tr>\n",
       "    <tr>\n",
       "      <th>2</th>\n",
       "      <td>Crucea de piatra</td>\n",
       "      <td>1993</td>\n",
       "    </tr>\n",
       "    <tr>\n",
       "      <th>3</th>\n",
       "      <td>Country</td>\n",
       "      <td>2000</td>\n",
       "    </tr>\n",
       "    <tr>\n",
       "      <th>4</th>\n",
       "      <td>Gaiking II</td>\n",
       "      <td>2011</td>\n",
       "    </tr>\n",
       "  </tbody>\n",
       "</table>\n",
       "</div>"
      ],
      "text/plain": [
       "                     title  year\n",
       "0           The Rising Son  1990\n",
       "1  The Thousand Plane Raid  1969\n",
       "2         Crucea de piatra  1993\n",
       "3                  Country  2000\n",
       "4               Gaiking II  2011"
      ]
     },
     "execution_count": 3,
     "metadata": {},
     "output_type": "execute_result"
    }
   ],
   "source": [
    "titles = pd.read_csv('data/titles.csv')\n",
    "titles.head()"
   ]
  },
  {
   "cell_type": "code",
   "execution_count": 4,
   "metadata": {
    "collapsed": false,
    "jupyter": {
     "outputs_hidden": false
    }
   },
   "outputs": [
    {
     "data": {
      "text/html": [
       "<div>\n",
       "<style scoped>\n",
       "    .dataframe tbody tr th:only-of-type {\n",
       "        vertical-align: middle;\n",
       "    }\n",
       "\n",
       "    .dataframe tbody tr th {\n",
       "        vertical-align: top;\n",
       "    }\n",
       "\n",
       "    .dataframe thead th {\n",
       "        text-align: right;\n",
       "    }\n",
       "</style>\n",
       "<table border=\"1\" class=\"dataframe\">\n",
       "  <thead>\n",
       "    <tr style=\"text-align: right;\">\n",
       "      <th></th>\n",
       "      <th>title</th>\n",
       "      <th>year</th>\n",
       "      <th>name</th>\n",
       "      <th>type</th>\n",
       "      <th>character</th>\n",
       "      <th>n</th>\n",
       "    </tr>\n",
       "  </thead>\n",
       "  <tbody>\n",
       "    <tr>\n",
       "      <th>0</th>\n",
       "      <td>Closet Monster</td>\n",
       "      <td>2015</td>\n",
       "      <td>Buffy #1</td>\n",
       "      <td>actor</td>\n",
       "      <td>Buffy 4</td>\n",
       "      <td>NaN</td>\n",
       "    </tr>\n",
       "    <tr>\n",
       "      <th>1</th>\n",
       "      <td>Suuri illusioni</td>\n",
       "      <td>1985</td>\n",
       "      <td>Homo $</td>\n",
       "      <td>actor</td>\n",
       "      <td>Guests</td>\n",
       "      <td>22.0</td>\n",
       "    </tr>\n",
       "    <tr>\n",
       "      <th>2</th>\n",
       "      <td>Battle of the Sexes</td>\n",
       "      <td>2017</td>\n",
       "      <td>$hutter</td>\n",
       "      <td>actor</td>\n",
       "      <td>Bobby Riggs Fan</td>\n",
       "      <td>10.0</td>\n",
       "    </tr>\n",
       "    <tr>\n",
       "      <th>3</th>\n",
       "      <td>Secret in Their Eyes</td>\n",
       "      <td>2015</td>\n",
       "      <td>$hutter</td>\n",
       "      <td>actor</td>\n",
       "      <td>2002 Dodger Fan</td>\n",
       "      <td>NaN</td>\n",
       "    </tr>\n",
       "    <tr>\n",
       "      <th>4</th>\n",
       "      <td>Steve Jobs</td>\n",
       "      <td>2015</td>\n",
       "      <td>$hutter</td>\n",
       "      <td>actor</td>\n",
       "      <td>1988 Opera House Patron</td>\n",
       "      <td>NaN</td>\n",
       "    </tr>\n",
       "  </tbody>\n",
       "</table>\n",
       "</div>"
      ],
      "text/plain": [
       "                  title  year      name   type                character     n\n",
       "0        Closet Monster  2015  Buffy #1  actor                  Buffy 4   NaN\n",
       "1       Suuri illusioni  1985    Homo $  actor                   Guests  22.0\n",
       "2   Battle of the Sexes  2017   $hutter  actor          Bobby Riggs Fan  10.0\n",
       "3  Secret in Their Eyes  2015   $hutter  actor          2002 Dodger Fan   NaN\n",
       "4            Steve Jobs  2015   $hutter  actor  1988 Opera House Patron   NaN"
      ]
     },
     "execution_count": 4,
     "metadata": {},
     "output_type": "execute_result"
    }
   ],
   "source": [
    "cast = pd.read_csv('data/cast.csv', sep=\",\")\n",
    "cast.head()"
   ]
  },
  {
   "cell_type": "markdown",
   "metadata": {},
   "source": [
    "### How many movies are listed in the titles dataframe?"
   ]
  },
  {
   "cell_type": "code",
   "execution_count": 5,
   "metadata": {},
   "outputs": [
    {
     "name": "stdout",
     "output_type": "stream",
     "text": [
      "232330\n"
     ]
    }
   ],
   "source": [
    "#how many titles are there?\n",
    "num_titles = len(titles)\n",
    "print(num_titles)\n"
   ]
  },
  {
   "cell_type": "markdown",
   "metadata": {},
   "source": [
    "### What are the earliest two films listed in the titles dataframe?"
   ]
  },
  {
   "cell_type": "code",
   "execution_count": 6,
   "metadata": {
    "collapsed": true,
    "jupyter": {
     "outputs_hidden": true
    }
   },
   "outputs": [
    {
     "name": "stdout",
     "output_type": "stream",
     "text": [
      "                     title  year\n",
      "177757          Miss Jerry  1894\n",
      "215272  The Startled Lover  1898\n"
     ]
    }
   ],
   "source": [
    "#What are the earliest two films?\n",
    "earliest_films = titles.sort_values('year').head(2)\n",
    "print(earliest_films)"
   ]
  },
  {
   "cell_type": "markdown",
   "metadata": {},
   "source": [
    "### How many movies have the title \"Hamlet\"?"
   ]
  },
  {
   "cell_type": "code",
   "execution_count": 7,
   "metadata": {
    "collapsed": true,
    "jupyter": {
     "outputs_hidden": true
    }
   },
   "outputs": [
    {
     "name": "stdout",
     "output_type": "stream",
     "text": [
      "18\n"
     ]
    }
   ],
   "source": [
    "#How many movies have the title \"Hamlet\"?\n",
    "ham_titles = titles[titles.title == \"Hamlet\"]\n",
    "num_ham_titles = len(ham_titles)\n",
    "print(num_ham_titles)\n"
   ]
  },
  {
   "cell_type": "markdown",
   "metadata": {},
   "source": [
    "### How many movies are titled \"North by Northwest\"?"
   ]
  },
  {
   "cell_type": "code",
   "execution_count": 8,
   "metadata": {
    "collapsed": true,
    "jupyter": {
     "outputs_hidden": true
    }
   },
   "outputs": [
    {
     "name": "stdout",
     "output_type": "stream",
     "text": [
      "1\n"
     ]
    }
   ],
   "source": [
    "#How many movies are titled \"North by Northwest\"?\n",
    "nbn_titles = titles[titles.title == \"North by Northwest\"]\n",
    "num_nbn_titles = len(nbn_titles)\n",
    "print(num_nbn_titles)\n"
   ]
  },
  {
   "cell_type": "markdown",
   "metadata": {},
   "source": [
    "### When was the first movie titled \"Hamlet\" made?"
   ]
  },
  {
   "cell_type": "code",
   "execution_count": 9,
   "metadata": {
    "collapsed": true,
    "jupyter": {
     "outputs_hidden": true
    }
   },
   "outputs": [
    {
     "name": "stdout",
     "output_type": "stream",
     "text": [
      "        title  year\n",
      "46721  Hamlet  1910\n"
     ]
    }
   ],
   "source": [
    "#When was the first movie titled \"Hamlet\" made?\n",
    "earliest_hamlet = ham_titles.sort_values('year').head(1)\n",
    "print(earliest_hamlet)\n"
   ]
  },
  {
   "cell_type": "markdown",
   "metadata": {},
   "source": [
    "### List all of the \"Treasure Island\" movies from earliest to most recent."
   ]
  },
  {
   "cell_type": "code",
   "execution_count": 10,
   "metadata": {
    "collapsed": true,
    "jupyter": {
     "outputs_hidden": true
    }
   },
   "outputs": [
    {
     "name": "stdout",
     "output_type": "stream",
     "text": [
      "                  title  year\n",
      "206027  Treasure Island  1918\n",
      "51287   Treasure Island  1920\n",
      "191050  Treasure Island  1934\n",
      "96934   Treasure Island  1950\n",
      "89534   Treasure Island  1972\n",
      "111343  Treasure Island  1973\n",
      "205397  Treasure Island  1985\n",
      "179354  Treasure Island  1999\n"
     ]
    }
   ],
   "source": [
    "#List all of the \"Treasure Island\" movies from earliest to most recent.\n",
    "ti_titles = titles[titles.title == \"Treasure Island\"]\n",
    "ti_titles = ti_titles.sort_values('year')\n",
    "print(ti_titles)\n"
   ]
  },
  {
   "cell_type": "markdown",
   "metadata": {},
   "source": [
    "### How many movies were made in the year 1950?"
   ]
  },
  {
   "cell_type": "code",
   "execution_count": 13,
   "metadata": {
    "collapsed": true,
    "jupyter": {
     "outputs_hidden": true
    }
   },
   "outputs": [
    {
     "name": "stdout",
     "output_type": "stream",
     "text": [
      "1099\n"
     ]
    }
   ],
   "source": [
    "#How many movies were made in the year 1950?\n",
    "nineteen_fifty_movies = titles[titles.year == 1950]\n",
    "num_nineteen_fifty_movies = len(nineteen_fifty_movies)\n",
    "print(num_nineteen_fifty_movies)\n"
   ]
  },
  {
   "cell_type": "markdown",
   "metadata": {},
   "source": [
    "### How many movies were made in the year 1960?"
   ]
  },
  {
   "cell_type": "code",
   "execution_count": 12,
   "metadata": {
    "collapsed": true,
    "jupyter": {
     "outputs_hidden": true
    }
   },
   "outputs": [
    {
     "name": "stdout",
     "output_type": "stream",
     "text": [
      "1501\n"
     ]
    }
   ],
   "source": [
    "sixties_movies = titles[titles.year == 1960]\n",
    "num_sixties_movies = len(sixties_movies)\n",
    "print(num_sixties_movies)\n"
   ]
  },
  {
   "cell_type": "markdown",
   "metadata": {},
   "source": [
    "### How many movies were made from 1950 through 1959?"
   ]
  },
  {
   "cell_type": "code",
   "execution_count": 14,
   "metadata": {
    "collapsed": true,
    "jupyter": {
     "outputs_hidden": true
    }
   },
   "outputs": [
    {
     "name": "stdout",
     "output_type": "stream",
     "text": [
      "12711\n"
     ]
    }
   ],
   "source": [
    "#How many movies were made from 1950 through 1959?\n",
    "fifties_movies = titles[(titles.year >= 1950) & (titles.year <= 1959)]\n",
    "num_fifties_movies = len(fifties_movies)\n",
    "print(num_fifties_movies)\n"
   ]
  },
  {
   "cell_type": "markdown",
   "metadata": {},
   "source": [
    "### In what years has a movie titled \"Batman\" been released?"
   ]
  },
  {
   "cell_type": "code",
   "execution_count": 15,
   "metadata": {
    "collapsed": true,
    "jupyter": {
     "outputs_hidden": true
    }
   },
   "outputs": [
    {
     "name": "stdout",
     "output_type": "stream",
     "text": [
      "        title  year\n",
      "56000  Batman  1989\n",
      "74608  Batman  1943\n"
     ]
    }
   ],
   "source": [
    "#In what years has a movie titled \"Batman\" been released?\n",
    "batman_movies = titles[titles.title == \"Batman\"]\n",
    "print(batman_movies)"
   ]
  },
  {
   "cell_type": "markdown",
   "metadata": {},
   "source": [
    "### How many roles were there in the movie \"Inception\"?"
   ]
  },
  {
   "cell_type": "code",
   "execution_count": 16,
   "metadata": {},
   "outputs": [
    {
     "name": "stdout",
     "output_type": "stream",
     "text": [
      "77\n"
     ]
    }
   ],
   "source": [
    "#How many roles were there in the movie \"Inception\"?\n",
    "incep_roles = cast[cast.title == \"Inception\"]\n",
    "num_incep_roles = len(incep_roles)\n",
    "print(num_incep_roles)\n"
   ]
  },
  {
   "cell_type": "markdown",
   "metadata": {},
   "source": [
    "### How many roles in the movie \"Inception\" are NOT ranked by an \"n\" value?"
   ]
  },
  {
   "cell_type": "code",
   "execution_count": 17,
   "metadata": {
    "collapsed": true,
    "jupyter": {
     "outputs_hidden": true
    }
   },
   "outputs": [
    {
     "name": "stdout",
     "output_type": "stream",
     "text": [
      "26\n"
     ]
    }
   ],
   "source": [
    "#How many roles in the movie \"Inception\" are NOT ranked by an \"n\" value?\n",
    "incep_roles_no_n = incep_roles[incep_roles.n.isnull()]\n",
    "num_incep_roles_no_n = len(incep_roles_no_n)\n",
    "print(num_incep_roles_no_n)\n"
   ]
  },
  {
   "cell_type": "markdown",
   "metadata": {},
   "source": [
    "### But how many roles in the movie \"Inception\" did receive an \"n\" value?"
   ]
  },
  {
   "cell_type": "code",
   "execution_count": 18,
   "metadata": {
    "collapsed": true,
    "jupyter": {
     "outputs_hidden": true
    }
   },
   "outputs": [
    {
     "name": "stdout",
     "output_type": "stream",
     "text": [
      "51\n"
     ]
    }
   ],
   "source": [
    "#But how many roles in the movie \"Inception\" did receive an \"n\" value?\n",
    "incep_roles_n = incep_roles[incep_roles.n.notnull()]\n",
    "num_incep_roles_n = len(incep_roles_n)\n",
    "print(num_incep_roles_n)\n"
   ]
  },
  {
   "cell_type": "markdown",
   "metadata": {},
   "source": [
    "### Display the cast of \"North by Northwest\" in their correct \"n\"-value order, ignoring roles that did not earn a numeric \"n\" value."
   ]
  },
  {
   "cell_type": "code",
   "execution_count": 19,
   "metadata": {
    "collapsed": true,
    "jupyter": {
     "outputs_hidden": true
    }
   },
   "outputs": [
    {
     "name": "stdout",
     "output_type": "stream",
     "text": [
      "                      title  year                  name     type  \\\n",
      "845516   North by Northwest  1959            Cary Grant    actor   \n",
      "3382934  North by Northwest  1959       Eva Marie Saint  actress   \n",
      "1413409  North by Northwest  1959           James Mason    actor   \n",
      "3043261  North by Northwest  1959   Jessie Royce Landis  actress   \n",
      "345822   North by Northwest  1959        Leo G. Carroll    actor   \n",
      "2941468  North by Northwest  1959  Josephine Hutchinson  actress   \n",
      "1644542  North by Northwest  1959           Philip Ober    actor   \n",
      "1236791  North by Northwest  1959         Martin Landau    actor   \n",
      "2372617  North by Northwest  1959         Adam Williams    actor   \n",
      "1757154  North by Northwest  1959          Edward Platt    actor   \n",
      "646039   North by Northwest  1959     Robert Ellenstein    actor   \n",
      "2225858  North by Northwest  1959          Les Tremayne    actor   \n",
      "450691   North by Northwest  1959       Philip Coolidge    actor   \n",
      "1463316  North by Northwest  1959         Patrick McVey    actor   \n",
      "199768   North by Northwest  1959          Edward Binns    actor   \n",
      "1343025  North by Northwest  1959             Ken Lynch    actor   \n",
      "\n",
      "                           character     n  \n",
      "845516            Roger O. Thornhill   1.0  \n",
      "3382934                  Eve Kendall   2.0  \n",
      "1413409              Phillip Vandamm   3.0  \n",
      "3043261              Clara Thornhill   4.0  \n",
      "345822                 The Professor   5.0  \n",
      "2941468                Mrs. Townsend   6.0  \n",
      "1644542              Lester Townsend   7.0  \n",
      "1236791                      Leonard   8.0  \n",
      "2372617                     Valerian   9.0  \n",
      "1757154              Victor Larrabee  10.0  \n",
      "646039                         Licht  11.0  \n",
      "2225858                   Auctioneer  12.0  \n",
      "450691                     Dr. Cross  13.0  \n",
      "1463316               Sergeant Flamm  14.0  \n",
      "199768                Captain Junket  15.0  \n",
      "1343025  Charley - Chicago Policeman  16.0  \n"
     ]
    }
   ],
   "source": [
    "#Display the cast of \"North by Northwest\" in their correct \"n\"-value order, ignoring roles that did not earn a numeric \"n\" value.\n",
    "nbn_cast = cast[cast.title == \"North by Northwest\"]\n",
    "nbn_cast = nbn_cast[nbn_cast.n.notnull()]\n",
    "nbn_cast = nbn_cast.sort_values('n')\n",
    "print(nbn_cast)\n"
   ]
  },
  {
   "cell_type": "code",
   "execution_count": null,
   "metadata": {
    "collapsed": true,
    "jupyter": {
     "outputs_hidden": true
    }
   },
   "outputs": [],
   "source": []
  },
  {
   "cell_type": "markdown",
   "metadata": {},
   "source": [
    "### Display the entire cast, in \"n\"-order, of the 1972 film \"Sleuth\"."
   ]
  },
  {
   "cell_type": "code",
   "execution_count": 20,
   "metadata": {
    "collapsed": true,
    "jupyter": {
     "outputs_hidden": true
    }
   },
   "outputs": [
    {
     "name": "stdout",
     "output_type": "stream",
     "text": [
      "          title  year                name     type  \\\n",
      "1654402  Sleuth  1972    Laurence Olivier    actor   \n",
      "316652   Sleuth  1972       Michael Caine    actor   \n",
      "362592   Sleuth  1972      Alec Cawthorne    actor   \n",
      "1421434  Sleuth  1972  John (II) Matthews    actor   \n",
      "2635708  Sleuth  1972  Eve (III) Channing  actress   \n",
      "1405219  Sleuth  1972        Teddy Martin    actor   \n",
      "\n",
      "                          character    n  \n",
      "1654402                 Andrew Wyke  1.0  \n",
      "316652                  Milo Tindle  2.0  \n",
      "362592            Inspector Doppler  3.0  \n",
      "1421434  Detective Sergeant Tarrant  4.0  \n",
      "2635708             Marguerite Wyke  5.0  \n",
      "1405219      Police Constable Higgs  6.0  \n"
     ]
    }
   ],
   "source": [
    "#Display the entire cast, in \"n\"-order, of the 1972 film \"Sleuth\".\n",
    "sleuth_cast = cast[cast.title == \"Sleuth\"]\n",
    "sleuth_cast = sleuth_cast[sleuth_cast.year == 1972]\n",
    "sleuth_cast = sleuth_cast.sort_values('n')\n",
    "print(sleuth_cast)\n"
   ]
  },
  {
   "cell_type": "code",
   "execution_count": null,
   "metadata": {
    "collapsed": true,
    "jupyter": {
     "outputs_hidden": true
    }
   },
   "outputs": [],
   "source": []
  },
  {
   "cell_type": "markdown",
   "metadata": {},
   "source": [
    "### Now display the entire cast, in \"n\"-order, of the 2007 version of \"Sleuth\"."
   ]
  },
  {
   "cell_type": "code",
   "execution_count": 21,
   "metadata": {
    "collapsed": true,
    "jupyter": {
     "outputs_hidden": true
    }
   },
   "outputs": [
    {
     "name": "stdout",
     "output_type": "stream",
     "text": [
      "          title  year                 name     type          character    n\n",
      "316653   Sleuth  2007        Michael Caine    actor             Andrew  1.0\n",
      "1254632  Sleuth  2007             Jude Law    actor               Milo  2.0\n",
      "1751872  Sleuth  2007        Harold Pinter    actor        Man on T.V.  3.0\n",
      "251883   Sleuth  2007      Kenneth Branagh    actor  Other Man on T.V.  NaN\n",
      "362593   Sleuth  2007  Alec (II) Cawthorne    actor  Inspector Doppler  NaN\n",
      "2635707  Sleuth  2007    Eve (II) Channing  actress    Marguerite Wyke  NaN\n",
      "3244050  Sleuth  2007    Carmel O'Sullivan  actress             Maggie  NaN\n"
     ]
    }
   ],
   "source": [
    "#Now display the entire cast, in \"n\"-order, of the 2007 version of \"Sleuth\".\n",
    "sleuth_cast = cast[cast.title == \"Sleuth\"]\n",
    "sleuth_cast = sleuth_cast[sleuth_cast.year == 2007]\n",
    "sleuth_cast = sleuth_cast.sort_values('n')\n",
    "print(sleuth_cast)\n"
   ]
  },
  {
   "cell_type": "code",
   "execution_count": null,
   "metadata": {
    "collapsed": true,
    "jupyter": {
     "outputs_hidden": true
    }
   },
   "outputs": [],
   "source": []
  },
  {
   "cell_type": "markdown",
   "metadata": {},
   "source": [
    "### How many roles were credited in the silent 1921 version of Hamlet?"
   ]
  },
  {
   "cell_type": "code",
   "execution_count": 22,
   "metadata": {
    "collapsed": true,
    "jupyter": {
     "outputs_hidden": true
    }
   },
   "outputs": [
    {
     "name": "stdout",
     "output_type": "stream",
     "text": [
      "9\n"
     ]
    }
   ],
   "source": [
    "#How many roles were credited in the silent 1921 version of Hamlet?\n",
    "hamlet_roles = cast[cast.title == \"Hamlet\"]\n",
    "hamlet_roles = hamlet_roles[hamlet_roles.year == 1921]\n",
    "num_hamlet_roles = len(hamlet_roles)\n",
    "print(num_hamlet_roles)\n"
   ]
  },
  {
   "cell_type": "code",
   "execution_count": null,
   "metadata": {
    "collapsed": true,
    "jupyter": {
     "outputs_hidden": true
    }
   },
   "outputs": [],
   "source": []
  },
  {
   "cell_type": "markdown",
   "metadata": {},
   "source": [
    "### How many roles were credited in Branagh’s 1996 Hamlet?"
   ]
  },
  {
   "cell_type": "code",
   "execution_count": 23,
   "metadata": {
    "collapsed": true,
    "jupyter": {
     "outputs_hidden": true
    }
   },
   "outputs": [
    {
     "name": "stdout",
     "output_type": "stream",
     "text": [
      "54\n"
     ]
    }
   ],
   "source": [
    "#How many roles were credited in Branagh’s 1996 Hamlet?\n",
    "hamlet_roles = cast[cast.title == \"Hamlet\"]\n",
    "hamlet_roles = hamlet_roles[hamlet_roles.year == 1996]\n",
    "num_hamlet_roles = len(hamlet_roles)\n",
    "print(num_hamlet_roles)\n"
   ]
  },
  {
   "cell_type": "code",
   "execution_count": null,
   "metadata": {
    "collapsed": true,
    "jupyter": {
     "outputs_hidden": true
    }
   },
   "outputs": [],
   "source": []
  },
  {
   "cell_type": "markdown",
   "metadata": {},
   "source": [
    "### How many \"Hamlet\" roles have been listed in all film credits through history?"
   ]
  },
  {
   "cell_type": "code",
   "execution_count": 24,
   "metadata": {
    "collapsed": true,
    "jupyter": {
     "outputs_hidden": true
    }
   },
   "outputs": [
    {
     "name": "stdout",
     "output_type": "stream",
     "text": [
      "92\n"
     ]
    }
   ],
   "source": [
    "#How many \"Hamlet\" roles have been listed in all film credits through history?\n",
    "hamlet_roles = cast[cast.character == \"Hamlet\"]\n",
    "num_hamlet_roles = len(hamlet_roles)\n",
    "print(num_hamlet_roles)\n"
   ]
  },
  {
   "cell_type": "code",
   "execution_count": null,
   "metadata": {
    "collapsed": true,
    "jupyter": {
     "outputs_hidden": true
    }
   },
   "outputs": [],
   "source": []
  },
  {
   "cell_type": "markdown",
   "metadata": {},
   "source": [
    "### How many people have played an \"Ophelia\"?"
   ]
  },
  {
   "cell_type": "code",
   "execution_count": 25,
   "metadata": {
    "collapsed": true,
    "jupyter": {
     "outputs_hidden": true
    }
   },
   "outputs": [
    {
     "name": "stdout",
     "output_type": "stream",
     "text": [
      "111\n"
     ]
    }
   ],
   "source": [
    "#How many people have played an \"Ophelia\"?\n",
    "ophelia_roles = cast[cast.character == \"Ophelia\"]\n",
    "num_ophelia_roles = len(ophelia_roles)\n",
    "print(num_ophelia_roles)\n"
   ]
  },
  {
   "cell_type": "code",
   "execution_count": null,
   "metadata": {
    "collapsed": true,
    "jupyter": {
     "outputs_hidden": true
    }
   },
   "outputs": [],
   "source": []
  },
  {
   "cell_type": "markdown",
   "metadata": {},
   "source": [
    "### How many people have played a role called \"The Dude\"?"
   ]
  },
  {
   "cell_type": "code",
   "execution_count": 26,
   "metadata": {
    "collapsed": true,
    "jupyter": {
     "outputs_hidden": true
    }
   },
   "outputs": [
    {
     "name": "stdout",
     "output_type": "stream",
     "text": [
      "18\n"
     ]
    }
   ],
   "source": [
    "#How many people have played a role called \"The Dude\"?\n",
    "the_dude_roles = cast[cast.character == \"The Dude\"]\n",
    "num_the_dude_roles = len(the_dude_roles)\n",
    "print(num_the_dude_roles)\n"
   ]
  },
  {
   "cell_type": "code",
   "execution_count": null,
   "metadata": {
    "collapsed": true,
    "jupyter": {
     "outputs_hidden": true
    }
   },
   "outputs": [],
   "source": []
  },
  {
   "cell_type": "markdown",
   "metadata": {},
   "source": [
    "### How many people have played a role called \"The Stranger\"?"
   ]
  },
  {
   "cell_type": "code",
   "execution_count": 27,
   "metadata": {
    "collapsed": true,
    "jupyter": {
     "outputs_hidden": true
    }
   },
   "outputs": [
    {
     "name": "stdout",
     "output_type": "stream",
     "text": [
      "212\n"
     ]
    }
   ],
   "source": [
    "#How many people have played a role called \"The Stranger\"?\n",
    "the_stranger_roles = cast[cast.character == \"The Stranger\"]\n",
    "num_the_stranger_roles = len(the_stranger_roles)\n",
    "print(num_the_stranger_roles)\n"
   ]
  },
  {
   "cell_type": "code",
   "execution_count": null,
   "metadata": {
    "collapsed": true,
    "jupyter": {
     "outputs_hidden": true
    }
   },
   "outputs": [],
   "source": []
  },
  {
   "cell_type": "markdown",
   "metadata": {},
   "source": [
    "### How many roles has Sidney Poitier played throughout his career?"
   ]
  },
  {
   "cell_type": "code",
   "execution_count": 28,
   "metadata": {
    "collapsed": true,
    "jupyter": {
     "outputs_hidden": true
    }
   },
   "outputs": [
    {
     "name": "stdout",
     "output_type": "stream",
     "text": [
      "43\n"
     ]
    }
   ],
   "source": [
    "#How many roles has Sidney Poitier played throughout his career?\n",
    "sidney_roles = cast[cast.name == \"Sidney Poitier\"]\n",
    "num_sidney_roles = len(sidney_roles)\n",
    "print(num_sidney_roles)\n"
   ]
  },
  {
   "cell_type": "code",
   "execution_count": null,
   "metadata": {
    "collapsed": true,
    "jupyter": {
     "outputs_hidden": true
    }
   },
   "outputs": [],
   "source": []
  },
  {
   "cell_type": "markdown",
   "metadata": {},
   "source": [
    "### How many roles has Judi Dench played?"
   ]
  },
  {
   "cell_type": "code",
   "execution_count": 29,
   "metadata": {
    "collapsed": true,
    "jupyter": {
     "outputs_hidden": true
    }
   },
   "outputs": [
    {
     "name": "stdout",
     "output_type": "stream",
     "text": [
      "54\n"
     ]
    }
   ],
   "source": [
    "#How many roles has Judi Dench played?\n",
    "judi_roles = cast[cast.name == \"Judi Dench\"]\n",
    "num_judi_roles = len(judi_roles)\n",
    "print(num_judi_roles)\n"
   ]
  },
  {
   "cell_type": "code",
   "execution_count": null,
   "metadata": {
    "collapsed": true,
    "jupyter": {
     "outputs_hidden": true
    }
   },
   "outputs": [],
   "source": []
  },
  {
   "cell_type": "markdown",
   "metadata": {},
   "source": [
    "### List the supporting roles (having n=2) played by Cary Grant in the 1940s, in order by year."
   ]
  },
  {
   "cell_type": "code",
   "execution_count": 30,
   "metadata": {
    "collapsed": true,
    "jupyter": {
     "outputs_hidden": true
    }
   },
   "outputs": [
    {
     "name": "stdout",
     "output_type": "stream",
     "text": [
      "                   title  year        name   type    character    n\n",
      "845513  My Favorite Wife  1940  Cary Grant  actor   Nick Arden  2.0\n",
      "845523    Penny Serenade  1941  Cary Grant  actor  Roger Adams  2.0\n"
     ]
    }
   ],
   "source": [
    "#List the supporting roles (having n=2) played by Cary Grant in the 1940s, in order by year.\n",
    "cary_roles = cast[cast.name == \"Cary Grant\"]\n",
    "cary_roles = cary_roles[cary_roles.n == 2]\n",
    "cary_roles = cary_roles[cary_roles.year >= 1940]\n",
    "cary_roles = cary_roles[cary_roles.year < 1950]\n",
    "cary_roles = cary_roles.sort_values('year')\n",
    "print(cary_roles)"
   ]
  },
  {
   "cell_type": "code",
   "execution_count": null,
   "metadata": {
    "collapsed": true,
    "jupyter": {
     "outputs_hidden": true
    }
   },
   "outputs": [],
   "source": []
  },
  {
   "cell_type": "markdown",
   "metadata": {},
   "source": [
    "### List the leading roles that Cary Grant played in the 1940s in order by year."
   ]
  },
  {
   "cell_type": "code",
   "execution_count": 31,
   "metadata": {
    "collapsed": true,
    "jupyter": {
     "outputs_hidden": true
    }
   },
   "outputs": [
    {
     "name": "stdout",
     "output_type": "stream",
     "text": [
      "                                       title  year        name   type  \\\n",
      "845539               The Howards of Virginia  1940  Cary Grant  actor   \n",
      "845495                       His Girl Friday  1940  Cary Grant  actor   \n",
      "845541                The Philadelphia Story  1940  Cary Grant  actor   \n",
      "845528                             Suspicion  1941  Cary Grant  actor   \n",
      "845543                  The Talk of the Town  1942  Cary Grant  actor   \n",
      "845519                 Once Upon a Honeymoon  1942  Cary Grant  actor   \n",
      "845486                     Destination Tokyo  1943  Cary Grant  actor   \n",
      "845511                             Mr. Lucky  1943  Cary Grant  actor   \n",
      "845512                             Mr. Lucky  1943  Cary Grant  actor   \n",
      "845520                      Once Upon a Time  1944  Cary Grant  actor   \n",
      "845478                  Arsenic and Old Lace  1944  Cary Grant  actor   \n",
      "845515             None But the Lonely Heart  1944  Cary Grant  actor   \n",
      "845514                         Night and Day  1946  Cary Grant  actor   \n",
      "845517                             Notorious  1946  Cary Grant  actor   \n",
      "845535      The Bachelor and the Bobby-Soxer  1947  Cary Grant  actor   \n",
      "845536                     The Bishop's Wife  1947  Cary Grant  actor   \n",
      "845510  Mr. Blandings Builds His Dream House  1948  Cary Grant  actor   \n",
      "845490          Every Girl Should Be Married  1948  Cary Grant  actor   \n",
      "845499                I Was a Male War Bride  1949  Cary Grant  actor   \n",
      "\n",
      "                    character    n  \n",
      "845539            Matt Howard  1.0  \n",
      "845495           Walter Burns  1.0  \n",
      "845541     C. K. Dexter Haven  1.0  \n",
      "845528                Johnnie  1.0  \n",
      "845543           Leopold Dilg  1.0  \n",
      "845519  Patrick 'Pat' O'Toole  1.0  \n",
      "845486          Capt. Cassidy  1.0  \n",
      "845511              Joe Adams  1.0  \n",
      "845512        Joe Bascopolous  1.0  \n",
      "845520            Jerry Flynn  1.0  \n",
      "845478      Mortimer Brewster  1.0  \n",
      "845515             Ernie Mott  1.0  \n",
      "845514            Cole Porter  1.0  \n",
      "845517                 Devlin  1.0  \n",
      "845535            Dick Nugent  1.0  \n",
      "845536                 Dudley  1.0  \n",
      "845510          Jim Blandings  1.0  \n",
      "845490      Dr. Madison Brown  1.0  \n",
      "845499  Captain Henri Rochard  1.0  \n"
     ]
    }
   ],
   "source": [
    "#List the leading roles that Cary Grant played in the 1940s in order by year.\n",
    "cary_roles = cast[cast.name == \"Cary Grant\"]\n",
    "cary_roles = cary_roles[cary_roles.n == 1]\n",
    "cary_roles = cary_roles[cary_roles.year >= 1940]\n",
    "cary_roles = cary_roles[cary_roles.year < 1950]\n",
    "cary_roles = cary_roles.sort_values('year')\n",
    "print(cary_roles)\n"
   ]
  },
  {
   "cell_type": "code",
   "execution_count": null,
   "metadata": {
    "collapsed": true,
    "jupyter": {
     "outputs_hidden": true
    }
   },
   "outputs": [],
   "source": []
  },
  {
   "cell_type": "markdown",
   "metadata": {},
   "source": [
    "### How many roles were available for actors in the 1950s?"
   ]
  },
  {
   "cell_type": "code",
   "execution_count": 32,
   "metadata": {
    "collapsed": true,
    "jupyter": {
     "outputs_hidden": true
    }
   },
   "outputs": [
    {
     "name": "stdout",
     "output_type": "stream",
     "text": [
      "211470\n"
     ]
    },
    {
     "name": "stderr",
     "output_type": "stream",
     "text": [
      "C:\\Users\\eddie\\AppData\\Local\\Temp\\ipykernel_6176\\811628070.py:3: UserWarning: Boolean Series key will be reindexed to match DataFrame index.\n",
      "  fifties_roles = fifties_roles[cast.year < 1960]\n"
     ]
    }
   ],
   "source": [
    "#How many roles were available for actors in the 1950s?\n",
    "fifties_roles = cast[cast.year >= 1950]\n",
    "fifties_roles = fifties_roles[cast.year < 1960]\n",
    "num_fifties_roles = len(fifties_roles)\n",
    "print(num_fifties_roles)\n"
   ]
  },
  {
   "cell_type": "code",
   "execution_count": null,
   "metadata": {
    "collapsed": true,
    "jupyter": {
     "outputs_hidden": true
    }
   },
   "outputs": [],
   "source": []
  },
  {
   "cell_type": "markdown",
   "metadata": {},
   "source": [
    "### How many roles were avilable for actresses in the 1950s?"
   ]
  },
  {
   "cell_type": "code",
   "execution_count": 33,
   "metadata": {
    "collapsed": true,
    "jupyter": {
     "outputs_hidden": true
    }
   },
   "outputs": [
    {
     "name": "stdout",
     "output_type": "stream",
     "text": [
      "56412\n"
     ]
    },
    {
     "name": "stderr",
     "output_type": "stream",
     "text": [
      "C:\\Users\\eddie\\AppData\\Local\\Temp\\ipykernel_6176\\2093009166.py:3: UserWarning: Boolean Series key will be reindexed to match DataFrame index.\n",
      "  fifties_roles = fifties_roles[cast.year < 1960]\n"
     ]
    }
   ],
   "source": [
    "#How many roles were available for actresses in the 1950s?\n",
    "fifties_roles = cast[cast.year >= 1950]\n",
    "fifties_roles = fifties_roles[cast.year < 1960]\n",
    "fifties_roles = fifties_roles[fifties_roles.type == \"actress\"]\n",
    "num_fifties_roles = len(fifties_roles)\n",
    "print(num_fifties_roles)\n"
   ]
  },
  {
   "cell_type": "code",
   "execution_count": null,
   "metadata": {
    "collapsed": true,
    "jupyter": {
     "outputs_hidden": true
    }
   },
   "outputs": [],
   "source": []
  },
  {
   "cell_type": "markdown",
   "metadata": {},
   "source": [
    "### How many leading roles (n=1) were available from the beginning of film history through 1980?"
   ]
  },
  {
   "cell_type": "code",
   "execution_count": 34,
   "metadata": {
    "collapsed": true,
    "jupyter": {
     "outputs_hidden": true
    }
   },
   "outputs": [
    {
     "name": "stdout",
     "output_type": "stream",
     "text": [
      "64095\n"
     ]
    }
   ],
   "source": [
    "#How many leading roles (n=1) were available from the beginning of film history through 1980?\n",
    "leading_roles = cast[cast.n == 1]\n",
    "leading_roles = leading_roles[leading_roles.year <= 1980]\n",
    "num_leading_roles = len(leading_roles)\n",
    "print(num_leading_roles)\n"
   ]
  },
  {
   "cell_type": "code",
   "execution_count": null,
   "metadata": {
    "collapsed": true,
    "jupyter": {
     "outputs_hidden": true
    }
   },
   "outputs": [],
   "source": []
  },
  {
   "cell_type": "markdown",
   "metadata": {},
   "source": [
    "### How many non-leading roles were available through from the beginning of film history through 1980?"
   ]
  },
  {
   "cell_type": "code",
   "execution_count": 35,
   "metadata": {
    "collapsed": true,
    "jupyter": {
     "outputs_hidden": true
    }
   },
   "outputs": [
    {
     "name": "stdout",
     "output_type": "stream",
     "text": [
      "1097484\n"
     ]
    }
   ],
   "source": [
    "#How many non-leading roles were available through from the beginning of film history through 1980?\n",
    "non_leading_roles = cast[cast.n != 1]\n",
    "non_leading_roles = non_leading_roles[non_leading_roles.year <= 1980]\n",
    "num_non_leading_roles = len(non_leading_roles)\n",
    "print(num_non_leading_roles)\n"
   ]
  },
  {
   "cell_type": "code",
   "execution_count": null,
   "metadata": {
    "collapsed": true,
    "jupyter": {
     "outputs_hidden": true
    }
   },
   "outputs": [],
   "source": []
  },
  {
   "cell_type": "markdown",
   "metadata": {},
   "source": [
    "### How many roles through 1980 were minor enough that they did not warrant a numeric \"n\" rank?"
   ]
  },
  {
   "cell_type": "code",
   "execution_count": 36,
   "metadata": {
    "collapsed": true,
    "jupyter": {
     "outputs_hidden": true
    }
   },
   "outputs": [
    {
     "name": "stdout",
     "output_type": "stream",
     "text": [
      "439134\n"
     ]
    }
   ],
   "source": [
    "#How many roles through 1980 were minor enough that they did not warrant a numeric \"n\" rank?\n",
    "minor_roles = cast[cast.n.isnull()]\n",
    "minor_roles = minor_roles[minor_roles.year <= 1980]\n",
    "num_minor_roles = len(minor_roles)\n",
    "print(num_minor_roles)\n"
   ]
  },
  {
   "cell_type": "code",
   "execution_count": null,
   "metadata": {
    "collapsed": true,
    "jupyter": {
     "outputs_hidden": true
    }
   },
   "outputs": [],
   "source": []
  }
 ],
 "metadata": {
  "kernelspec": {
   "display_name": "Python 3",
   "language": "python",
   "name": "python3"
  },
  "language_info": {
   "codemirror_mode": {
    "name": "ipython",
    "version": 3
   },
   "file_extension": ".py",
   "mimetype": "text/x-python",
   "name": "python",
   "nbconvert_exporter": "python",
   "pygments_lexer": "ipython3",
   "version": "3.11.5"
  }
 },
 "nbformat": 4,
 "nbformat_minor": 4
}

{
 "cells": [
  {
   "cell_type": "markdown",
   "metadata": {},
   "source": [
    "# API Examples\n",
    "\n",
    "The goal of this activity is to walk through some APIs and explore how they work and what results they return.\n",
    "## GitHub API\n",
    "\n",
    "We will be working with GitHub user's API with your own username.\n",
    "### Web Browser"
   ]
  },
  {
   "cell_type": "markdown",
   "metadata": {},
   "source": [
    "\n",
    "\n",
    "Type the following link into your web browser:\n",
    "\n",
    "https://api.github.com/users/hounder23\n",
    "\n",
    "We sent the string to the GitHub server and information about the user was returned in JSON format.\n"
   ]
  },
  {
   "cell_type": "markdown",
   "metadata": {},
   "source": [
    "We can say that our web browser \"asked\" for the information and GitHub sent the reply."
   ]
  },
  {
   "cell_type": "code",
   "execution_count": null,
   "metadata": {},
   "outputs": [],
   "source": []
  }
 ],
 "metadata": {
  "language_info": {
   "name": "python"
  }
 },
 "nbformat": 4,
 "nbformat_minor": 2
}

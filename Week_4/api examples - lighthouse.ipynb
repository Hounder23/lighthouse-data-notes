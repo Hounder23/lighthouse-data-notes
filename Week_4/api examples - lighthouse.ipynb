{
 "cells": [
  {
   "cell_type": "markdown",
   "metadata": {},
   "source": [
    "APIs in Python\n",
    "\n",
    "We will now practice accessing different APIs using Python. The goal is to see how this particular communication works.\n",
    "\n",
    "The library we use for sending various requests from Python is called requests. First of all, we need to import it to our notebook:"
   ]
  },
  {
   "cell_type": "code",
   "execution_count": 10,
   "metadata": {},
   "outputs": [],
   "source": [
    "import requests\n",
    "import os\n"
   ]
  },
  {
   "cell_type": "markdown",
   "metadata": {},
   "source": [
    "The os package is used to access the values of environment variables.\n",
    "\n",
    "Let's start with our well-known Foursquare Places API.\n",
    "\n",
    "\n",
    "Collect the venues near Toronto, Canada. (Try to do this on your own before you look at the instructions below)."
   ]
  },
  {
   "cell_type": "markdown",
   "metadata": {},
   "source": [
    "Step 1\n",
    "\n",
    "Load the FOURSQUARE API credentials into Python\n",
    "\n",
    "Be careful and don't store your API keys, or any passwords in general, inside your code. \n",
    "We often push it to GitHub to public repositories where anyone could see it. \n",
    "It's a good practice to keep them stored in the environment variables as we saw earlier.\n",
    "\n",
    "Previously, we learned how to create our own environment variables. Now, we are going to see how we can load the values of these variables to Python."
   ]
  },
  {
   "cell_type": "code",
   "execution_count": 11,
   "metadata": {},
   "outputs": [],
   "source": [
    "api_key = os.environ[\"FOURSQUARE_API_KEY\"]\n",
    "# os.environ loads the dictionary with environment variables where os.environ.keys() are all variable names"
   ]
  },
  {
   "cell_type": "markdown",
   "metadata": {},
   "source": [
    "You have to start Jupyter Lab from the environment where environment variables were created. The other option is to create them permanently but, in that case, don't forget to restart Terminal."
   ]
  },
  {
   "cell_type": "markdown",
   "metadata": {},
   "source": [
    "Now, we can assign variables location."
   ]
  },
  {
   "cell_type": "code",
   "execution_count": 12,
   "metadata": {},
   "outputs": [],
   "source": [
    "location = \"Toronto,Canada\""
   ]
  },
  {
   "cell_type": "markdown",
   "metadata": {},
   "source": [
    "Step 2\n",
    "\n",
    "Prepare the url for the API:"
   ]
  },
  {
   "cell_type": "code",
   "execution_count": 13,
   "metadata": {},
   "outputs": [],
   "source": [
    "url = \"https://api.foursquare.com/v3/places/search?near=\" + location"
   ]
  },
  {
   "cell_type": "markdown",
   "metadata": {},
   "source": [
    "Step 3\n",
    "\n",
    "Prepare a dictionary that can be sent as headers of our request. This Accept: application/json header is asking the API to send us data in JSON format if it is able."
   ]
  },
  {
   "cell_type": "code",
   "execution_count": 14,
   "metadata": {},
   "outputs": [],
   "source": [
    "# Create dictionary for headers\n",
    "headers = {\"Accept\": \"application/json\"}\n",
    "# Add key with our API KEY\n",
    "headers['Authorization'] = api_key"
   ]
  },
  {
   "cell_type": "markdown",
   "metadata": {},
   "source": [
    "Step 4\n",
    "\n",
    "Send the request to Foursquare:"
   ]
  },
  {
   "cell_type": "code",
   "execution_count": 15,
   "metadata": {},
   "outputs": [],
   "source": [
    "result = requests.get(url, headers=headers)"
   ]
  },
  {
   "cell_type": "markdown",
   "metadata": {},
   "source": [
    "Step 5\n",
    "\n",
    "The request will return an object with the result inside. When you print the object, you will see the following:\n",
    "\n",
    "200 means success but more about that later on :)"
   ]
  },
  {
   "cell_type": "code",
   "execution_count": 16,
   "metadata": {},
   "outputs": [
    {
     "name": "stdout",
     "output_type": "stream",
     "text": [
      "<Response [200]>\n"
     ]
    }
   ],
   "source": [
    "print(result)"
   ]
  },
  {
   "cell_type": "markdown",
   "metadata": {},
   "source": [
    "Step 6\n",
    "\n",
    "If we want to see the actual data, we need to access it using the method .json() The .json() method attempts to parse data in JSON format in the response object into python lists and dictionaries."
   ]
  },
  {
   "cell_type": "code",
   "execution_count": 17,
   "metadata": {},
   "outputs": [
    {
     "name": "stdout",
     "output_type": "stream",
     "text": [
      "{'results': [{'fsq_id': '4b0afc19f964a520212b23e3', 'categories': [{'id': 16000, 'name': 'Landmarks and Outdoors', 'short_name': 'Landmarks and Outdoors', 'plural_name': 'Landmarks and Outdoors', 'icon': {'prefix': 'https://ss3.4sqi.net/img/categories_v2/parks_outdoors/default_', 'suffix': '.png'}}, {'id': 18000, 'name': 'Sports and Recreation', 'short_name': 'Sports and Recreation', 'plural_name': 'Sports and Recreation', 'icon': {'prefix': 'https://ss3.4sqi.net/img/categories_v2/shops/sports_outdoors_', 'suffix': '.png'}}], 'chains': [], 'closed_bucket': 'VeryLikelyOpen', 'distance': 1304, 'geocodes': {'main': {'latitude': 43.678243, 'longitude': -79.375198}, 'roof': {'latitude': 43.678243, 'longitude': -79.375198}}, 'link': '/v3/places/4b0afc19f964a520212b23e3', 'location': {'address': '100 Glen Rd', 'country': 'CA', 'cross_street': 'Strathearn', 'formatted_address': '100 Glen Rd (Strathearn), Toronto ON', 'locality': 'Toronto', 'region': 'ON'}, 'name': 'Cedarvale Park', 'related_places': {'children': [{'fsq_id': '5050f634e4b092c65b899303', 'categories': [{'id': 16033, 'name': 'Dog Park', 'short_name': 'Dog Park', 'plural_name': 'Dog Parks', 'icon': {'prefix': 'https://ss3.4sqi.net/img/categories_v2/parks_outdoors/dogrun_', 'suffix': '.png'}}], 'name': 'Cedarvale Dog Park'}, {'fsq_id': '61c4f0b4e565fe05c7572a44', 'categories': [{'id': 16000, 'name': 'Landmarks and Outdoors', 'short_name': 'Landmarks and Outdoors', 'plural_name': 'Landmarks and Outdoors', 'icon': {'prefix': 'https://ss3.4sqi.net/img/categories_v2/parks_outdoors/default_', 'suffix': '.png'}}], 'name': 'Toboggan Hill'}, {'fsq_id': '63ed3f67ddccfe65fcbe65de', 'categories': [{'id': 16019, 'name': 'Hiking Trail', 'short_name': 'Trail', 'plural_name': 'Hiking Trails', 'icon': {'prefix': 'https://ss3.4sqi.net/img/categories_v2/parks_outdoors/hikingtrail_', 'suffix': '.png'}}], 'name': 'Cedarvale Trail'}, {'fsq_id': '4c24abfcf7ced13aa425236d', 'categories': [{'id': 16000, 'name': 'Landmarks and Outdoors', 'short_name': 'Landmarks and Outdoors', 'plural_name': 'Landmarks and Outdoors', 'icon': {'prefix': 'https://ss3.4sqi.net/img/categories_v2/parks_outdoors/default_', 'suffix': '.png'}}], 'name': 'Cedarvale Ravine'}]}, 'timezone': 'America/Toronto'}, {'fsq_id': '4aea405ef964a52082ba21e3', 'categories': [{'id': 17058, 'name': 'Beer Store', 'short_name': 'Beer Store', 'plural_name': 'Beer Stores', 'icon': {'prefix': 'https://ss3.4sqi.net/img/categories_v2/nightlife/beergarden_', 'suffix': '.png'}}, {'id': 17069, 'name': 'Grocery Store', 'short_name': 'Grocery Store', 'plural_name': 'Grocery Stores', 'icon': {'prefix': 'https://ss3.4sqi.net/img/categories_v2/shops/food_grocery_', 'suffix': '.png'}}, {'id': 17076, 'name': 'Liquor Store', 'short_name': 'Liquor Store', 'plural_name': 'Liquor Stores', 'icon': {'prefix': 'https://ss3.4sqi.net/img/categories_v2/shops/food_liquor_', 'suffix': '.png'}}], 'chains': [], 'closed_bucket': 'VeryLikelyOpen', 'distance': 2885, 'geocodes': {'main': {'latitude': 43.680997, 'longitude': -79.390653}, 'roof': {'latitude': 43.680997, 'longitude': -79.390653}}, 'link': '/v3/places/4aea405ef964a52082ba21e3', 'location': {'address': '10 Scrivener Sq', 'country': 'CA', 'cross_street': 'at Yonge St.', 'formatted_address': '10 Scrivener Sq (at Yonge St.), Toronto ON M4W 3Y9', 'locality': 'Toronto', 'postcode': 'M4W 3Y9', 'region': 'ON'}, 'name': 'Lcbo', 'related_places': {}, 'timezone': 'America/Toronto'}, {'fsq_id': '4adcfd7cf964a5203e6321e3', 'categories': [{'id': 17069, 'name': 'Grocery Store', 'short_name': 'Grocery Store', 'plural_name': 'Grocery Stores', 'icon': {'prefix': 'https://ss3.4sqi.net/img/categories_v2/shops/food_grocery_', 'suffix': '.png'}}], 'chains': [], 'closed_bucket': 'VeryLikelyOpen', 'distance': 3531, 'geocodes': {'main': {'latitude': 43.668694, 'longitude': -79.420868}, 'roof': {'latitude': 43.668694, 'longitude': -79.420868}}, 'link': '/v3/places/4adcfd7cf964a5203e6321e3', 'location': {'address': '200 Christie St', 'country': 'CA', 'cross_street': 'at Essex St', 'formatted_address': '200 Christie St (at Essex St), Toronto ON M6G 3B6', 'locality': 'Toronto', 'postcode': 'M6G 3B6', 'region': 'ON'}, 'name': 'Fiesta Farms', 'related_places': {}, 'timezone': 'America/Toronto'}, {'fsq_id': '5753753b498eeb535c53aed5', 'categories': [{'id': 13003, 'name': 'Bar', 'short_name': 'Bar', 'plural_name': 'Bars', 'icon': {'prefix': 'https://ss3.4sqi.net/img/categories_v2/nightlife/pub_', 'suffix': '.png'}}, {'id': 13064, 'name': 'Pizzeria', 'short_name': 'Pizza', 'plural_name': 'Pizzerias', 'icon': {'prefix': 'https://ss3.4sqi.net/img/categories_v2/food/pizza_', 'suffix': '.png'}}], 'chains': [], 'closed_bucket': 'VeryLikelyOpen', 'distance': 3878, 'geocodes': {'drop_off': {'latitude': 43.669476, 'longitude': -79.439195}, 'main': {'latitude': 43.669324, 'longitude': -79.439163}, 'roof': {'latitude': 43.669324, 'longitude': -79.439163}}, 'link': '/v3/places/5753753b498eeb535c53aed5', 'location': {'address': '229 Geary Ave', 'country': 'CA', 'cross_street': 'at Dufferin St', 'formatted_address': '229 Geary Ave (at Dufferin St), Toronto ON M6H 2C1', 'locality': 'Toronto', 'postcode': 'M6H 2C1', 'region': 'ON'}, 'name': 'The Greater Good Bar', 'related_places': {'children': [{'fsq_id': '5998aa934940bc4de5bfdaca', 'categories': [{'id': 13064, 'name': 'Pizzeria', 'short_name': 'Pizza', 'plural_name': 'Pizzerias', 'icon': {'prefix': 'https://ss3.4sqi.net/img/categories_v2/food/pizza_', 'suffix': '.png'}}], 'name': 'North of Brooklyn Pizzeria'}]}, 'timezone': 'America/Toronto'}, {'fsq_id': '572e0547498ed619e59df508', 'categories': [{'id': 13035, 'name': 'Coffee Shop', 'short_name': 'Coffee Shop', 'plural_name': 'Coffee Shops', 'icon': {'prefix': 'https://ss3.4sqi.net/img/categories_v2/food/coffeeshop_', 'suffix': '.png'}}], 'chains': [], 'closed_bucket': 'LikelyOpen', 'distance': 4698, 'geocodes': {'drop_off': {'latitude': 43.665639, 'longitude': -79.449889}, 'main': {'latitude': 43.665549, 'longitude': -79.450108}, 'roof': {'latitude': 43.665549, 'longitude': -79.450108}}, 'link': '/v3/places/572e0547498ed619e59df508', 'location': {'address': '300 Campbell St', 'country': 'CA', 'cross_street': 'Dupont St', 'formatted_address': '300 Campbell St (Dupont St), Toronto ON', 'locality': 'Toronto', 'region': 'ON'}, 'name': 'Hale Coffee', 'related_places': {}, 'timezone': 'America/Toronto'}, {'fsq_id': '514a4961e4b004a36b8d9ea0', 'categories': [{'id': 13009, 'name': 'Cocktail Bar', 'short_name': 'Cocktail', 'plural_name': 'Cocktail Bars', 'icon': {'prefix': 'https://ss3.4sqi.net/img/categories_v2/nightlife/cocktails_', 'suffix': '.png'}}, {'id': 13068, 'name': 'American Restaurant', 'short_name': 'American', 'plural_name': 'American Restaurants', 'icon': {'prefix': 'https://ss3.4sqi.net/img/categories_v2/food/default_', 'suffix': '.png'}}, {'id': 13347, 'name': 'Tapas Restaurant', 'short_name': 'Tapas', 'plural_name': 'Tapas Restaurants', 'icon': {'prefix': 'https://ss3.4sqi.net/img/categories_v2/food/tapas_', 'suffix': '.png'}}], 'chains': [], 'closed_bucket': 'VeryLikelyOpen', 'distance': 5049, 'geocodes': {'main': {'latitude': 43.654672, 'longitude': -79.420682}, 'roof': {'latitude': 43.654672, 'longitude': -79.420682}}, 'link': '/v3/places/514a4961e4b004a36b8d9ea0', 'location': {'address': '797 College St', 'country': 'CA', 'cross_street': '', 'formatted_address': '797 College St, Toronto ON M6G 1C7', 'locality': 'Toronto', 'postcode': 'M6G 1C7', 'region': 'ON'}, 'name': 'Bar Isabel', 'related_places': {}, 'timezone': 'America/Toronto'}, {'fsq_id': '4bcb17a7cc8cd13a0ca5becf', 'categories': [{'id': 16032, 'name': 'Park', 'short_name': 'Park', 'plural_name': 'Parks', 'icon': {'prefix': 'https://ss3.4sqi.net/img/categories_v2/parks_outdoors/park_', 'suffix': '.png'}}], 'chains': [], 'closed_bucket': 'VeryLikelyOpen', 'distance': 5321, 'geocodes': {'main': {'latitude': 43.72335083905222, 'longitude': -79.35836791992188}}, 'link': '/v3/places/4bcb17a7cc8cd13a0ca5becf', 'location': {'address': 'Eglinton Ave E', 'country': 'CA', 'cross_street': 'at Leslie St', 'formatted_address': 'Eglinton Ave E (at Leslie St), Toronto ON', 'locality': 'Toronto', 'region': 'ON'}, 'name': 'Sunnybrook Park', 'related_places': {'children': [{'fsq_id': '4b6f2179f964a52020df2ce3', 'categories': [{'id': 16033, 'name': 'Dog Park', 'short_name': 'Dog Park', 'plural_name': 'Dog Parks', 'icon': {'prefix': 'https://ss3.4sqi.net/img/categories_v2/parks_outdoors/dogrun_', 'suffix': '.png'}}], 'name': 'Sunnybrook Dog Park'}]}, 'timezone': 'America/Toronto'}, {'fsq_id': '4ad4c05ef964a520daf620e3', 'categories': [{'id': 10004, 'name': 'Art Gallery', 'short_name': 'Art Gallery', 'plural_name': 'Art Galleries', 'icon': {'prefix': 'https://ss3.4sqi.net/img/categories_v2/arts_entertainment/artgallery_', 'suffix': '.png'}}], 'chains': [], 'closed_bucket': 'VeryLikelyOpen', 'distance': 5457, 'geocodes': {'main': {'latitude': 43.653538, 'longitude': -79.392624}, 'roof': {'latitude': 43.653685, 'longitude': -79.392566}}, 'link': '/v3/places/4ad4c05ef964a520daf620e3', 'location': {'address': '317 Dundas St W', 'country': 'CA', 'cross_street': 'at Beverley St', 'formatted_address': '317 Dundas St W (at Beverley St), Toronto ON M5T 1G4', 'locality': 'Toronto', 'postcode': 'M5T 1G4', 'region': 'ON'}, 'name': 'Art Gallery of Ontario', 'related_places': {'children': [{'fsq_id': '4d13cab06d103704a15d1bbd', 'categories': [{'id': 17089, 'name': 'Gift Store', 'short_name': 'Gift Store', 'plural_name': 'Gift Stores', 'icon': {'prefix': 'https://ss3.4sqi.net/img/categories_v2/shops/giftshop_', 'suffix': '.png'}}], 'name': 'Gift Shop'}, {'fsq_id': '5dab68b1e5f99900080adecf', 'categories': [{'id': 10004, 'name': 'Art Gallery', 'short_name': 'Art Gallery', 'plural_name': 'Art Galleries', 'icon': {'prefix': 'https://ss3.4sqi.net/img/categories_v2/arts_entertainment/artgallery_', 'suffix': '.png'}}], 'name': 'Murray Frum Gallery'}, {'fsq_id': '59ef7882345cbe36e4b44ace', 'categories': [{'id': 10004, 'name': 'Art Gallery', 'short_name': 'Art Gallery', 'plural_name': 'Art Galleries', 'icon': {'prefix': 'https://ss3.4sqi.net/img/categories_v2/arts_entertainment/artgallery_', 'suffix': '.png'}}], 'name': 'Henry Moore Sculpture Centre'}, {'fsq_id': '5abd69b4fe37406f05cdd2c2', 'categories': [{'id': 13027, 'name': 'Bistro', 'short_name': 'Bistro', 'plural_name': 'Bistros', 'icon': {'prefix': 'https://ss3.4sqi.net/img/categories_v2/food/default_', 'suffix': '.png'}}], 'name': 'The Shop AGO'}, {'fsq_id': '4ad4c060f964a52064f720e3', 'categories': [{'id': 13034, 'name': 'Café', 'short_name': 'Café', 'plural_name': 'Cafés', 'icon': {'prefix': 'https://ss3.4sqi.net/img/categories_v2/food/cafe_', 'suffix': '.png'}}], 'name': 'CafeAGO'}, {'fsq_id': '5e0a6342e72ebb0007055268', 'categories': [{'id': 11165, 'name': 'Storage Facility', 'short_name': 'Storage', 'plural_name': 'Storage Facilities', 'icon': {'prefix': 'https://ss3.4sqi.net/img/categories_v2/shops/storage_', 'suffix': '.png'}}], 'name': 'AGO Coat Check'}, {'fsq_id': '4d404a70915a370411f5137f', 'categories': [{'id': 10004, 'name': 'Art Gallery', 'short_name': 'Art Gallery', 'plural_name': 'Art Galleries', 'icon': {'prefix': 'https://ss3.4sqi.net/img/categories_v2/arts_entertainment/artgallery_', 'suffix': '.png'}}, {'id': 11007, 'name': 'Auditorium', 'short_name': 'Auditorium', 'plural_name': 'Auditoriums', 'icon': {'prefix': 'https://ss3.4sqi.net/img/categories_v2/building/auditorium_', 'suffix': '.png'}}, {'id': 11039, 'name': 'Event Space', 'short_name': 'Event Space', 'plural_name': 'Event Spaces', 'icon': {'prefix': 'https://ss3.4sqi.net/img/categories_v2/building/eventspace_', 'suffix': '.png'}}], 'name': 'Baillie Court'}, {'fsq_id': '50049244d86ca6e40253fcf2', 'categories': [{'id': 11039, 'name': 'Event Space', 'short_name': 'Event Space', 'plural_name': 'Event Spaces', 'icon': {'prefix': 'https://ss3.4sqi.net/img/categories_v2/building/eventspace_', 'suffix': '.png'}}], 'name': 'Step Up Revolution to'}, {'fsq_id': '4ae47067f964a520989a21e3', 'categories': [{'id': 17045, 'name': 'Jewelry Store', 'short_name': 'Jewelry', 'plural_name': 'Jewelry Stores', 'icon': {'prefix': 'https://ss3.4sqi.net/img/categories_v2/shops/jewelry_', 'suffix': '.png'}}], 'name': 'Art Square Cafe'}, {'fsq_id': '4ad4c062f964a520bef720e3', 'categories': [{'id': 10024, 'name': 'Movie Theater', 'short_name': 'Movie Theater', 'plural_name': 'Movie Theaters', 'icon': {'prefix': 'https://ss3.4sqi.net/img/categories_v2/arts_entertainment/movietheater_', 'suffix': '.png'}}], 'name': 'Jackman Hall'}, {'fsq_id': '4ae9f5b9f964a52002b821e3', 'categories': [{'id': 13034, 'name': 'Café', 'short_name': 'Café', 'plural_name': 'Cafés', 'icon': {'prefix': 'https://ss3.4sqi.net/img/categories_v2/food/cafe_', 'suffix': '.png'}}], 'name': 'AGO Espresso Bar'}, {'fsq_id': '5d1f232238c7d60024b7b790', 'categories': [{'id': 10016, 'name': 'Exhibit', 'short_name': 'Exhibit', 'plural_name': 'Exhibits', 'icon': {'prefix': 'https://ss3.4sqi.net/img/categories_v2/arts_entertainment/default_', 'suffix': '.png'}}], 'name': \"Yayoi Kusama: Infinity Mirrored Room — Let's Survive Forever\"}, {'fsq_id': '4ba64e69f964a520794439e3', 'categories': [{'id': 10004, 'name': 'Art Gallery', 'short_name': 'Art Gallery', 'plural_name': 'Art Galleries', 'icon': {'prefix': 'https://ss3.4sqi.net/img/categories_v2/arts_entertainment/artgallery_', 'suffix': '.png'}}], 'name': 'Norma Ridley Members’ Lounge'}, {'fsq_id': '4f06065b02d5265073806d8f', 'categories': [{'id': 12080, 'name': 'Library', 'short_name': 'Library', 'plural_name': 'Libraries', 'icon': {'prefix': 'https://ss3.4sqi.net/img/categories_v2/building/library_', 'suffix': '.png'}}], 'name': 'E.P. Taylor Research Library & Archives'}]}, 'timezone': 'America/Toronto'}, {'fsq_id': '4ad4c05ef964a520bdf620e3', 'categories': [{'id': 16032, 'name': 'Park', 'short_name': 'Park', 'plural_name': 'Parks', 'icon': {'prefix': 'https://ss3.4sqi.net/img/categories_v2/parks_outdoors/park_', 'suffix': '.png'}}], 'chains': [], 'closed_bucket': 'VeryLikelyOpen', 'distance': 5897, 'geocodes': {'main': {'latitude': 43.650061, 'longitude': -79.4177}, 'roof': {'latitude': 43.650061, 'longitude': -79.4177}}, 'link': '/v3/places/4ad4c05ef964a520bdf620e3', 'location': {'address': '1053 Dundas St W', 'country': 'CA', 'cross_street': 'at Gore Vale Ave.', 'formatted_address': '1053 Dundas St W (at Gore Vale Ave.), Toronto ON M5H 2N2', 'locality': 'Toronto', 'postcode': 'M5H 2N2', 'region': 'ON'}, 'name': 'Trinity Bellwoods Park', 'related_places': {'children': [{'fsq_id': '4a8b2742f964a520960b20e3', 'categories': [{'id': 16032, 'name': 'Park', 'short_name': 'Park', 'plural_name': 'Parks', 'icon': {'prefix': 'https://ss3.4sqi.net/img/categories_v2/parks_outdoors/park_', 'suffix': '.png'}}, {'id': 17069, 'name': 'Grocery Store', 'short_name': 'Grocery Store', 'plural_name': 'Grocery Stores', 'icon': {'prefix': 'https://ss3.4sqi.net/img/categories_v2/shops/food_grocery_', 'suffix': '.png'}}], 'name': \"Trinity Bellwoods Farmers' Market\"}, {'fsq_id': '4da073f5c41ca143b8d448a3', 'categories': [{'id': 10047, 'name': 'Public Art', 'short_name': 'Public Art', 'plural_name': 'Public Art', 'icon': {'prefix': 'https://ss3.4sqi.net/img/categories_v2/arts_entertainment/default_', 'suffix': '.png'}}], 'name': 'Bust of Simón Bolívar'}]}, 'timezone': 'America/Toronto'}, {'fsq_id': '4f7891c7e4b0b9643b73e08d', 'categories': [{'id': 13003, 'name': 'Bar', 'short_name': 'Bar', 'plural_name': 'Bars', 'icon': {'prefix': 'https://ss3.4sqi.net/img/categories_v2/nightlife/pub_', 'suffix': '.png'}}, {'id': 13029, 'name': 'Brewery', 'short_name': 'Brewery', 'plural_name': 'Breweries', 'icon': {'prefix': 'https://ss3.4sqi.net/img/categories_v2/food/brewery_', 'suffix': '.png'}}, {'id': 13065, 'name': 'Restaurant', 'short_name': 'Restaurant', 'plural_name': 'Restaurants', 'icon': {'prefix': 'https://ss3.4sqi.net/img/categories_v2/food/default_', 'suffix': '.png'}}], 'chains': [], 'closed_bucket': 'VeryLikelyOpen', 'distance': 5898, 'geocodes': {'main': {'latitude': 43.647131, 'longitude': -79.420177}, 'roof': {'latitude': 43.647131, 'longitude': -79.420177}}, 'link': '/v3/places/4f7891c7e4b0b9643b73e08d', 'location': {'address': '124 Ossington Ave', 'address_extended': '# 124', 'country': 'CA', 'cross_street': 'at Argyle St', 'formatted_address': '124 Ossington Ave (at Argyle St), Toronto ON M6J 2Z5', 'locality': 'Toronto', 'postcode': 'M6J 2Z5', 'region': 'ON'}, 'name': 'Bellwoods Brewery', 'related_places': {}, 'timezone': 'America/Toronto'}], 'context': {'geo_bounds': {'circle': {'center': {'latitude': 43.70011, 'longitude': -79.4163}, 'radius': 16290}}}}\n"
     ]
    }
   ],
   "source": [
    "print(result.json())"
   ]
  },
  {
   "cell_type": "markdown",
   "metadata": {},
   "source": [
    "It looks a bit messy, right? The format of the data is JSON and we will learn what to do with that later in the following activities. For now, it's important that we are able to communicate with APIs using Python."
   ]
  },
  {
   "cell_type": "markdown",
   "metadata": {},
   "source": [
    "Conclusion\n",
    "\n",
    "These were the basics of how to send requests to APIs. However, Python is very popular so, for common APIs, there often exist specific Python packages. Real Python has put together a list of Python API Wrappers that is worth bookmarking for future reference."
   ]
  },
  {
   "cell_type": "code",
   "execution_count": null,
   "metadata": {},
   "outputs": [],
   "source": []
  }
 ],
 "metadata": {
  "kernelspec": {
   "display_name": "base",
   "language": "python",
   "name": "python3"
  },
  "language_info": {
   "codemirror_mode": {
    "name": "ipython",
    "version": 3
   },
   "file_extension": ".py",
   "mimetype": "text/x-python",
   "name": "python",
   "nbconvert_exporter": "python",
   "pygments_lexer": "ipython3",
   "version": "3.11.5"
  }
 },
 "nbformat": 4,
 "nbformat_minor": 2
}

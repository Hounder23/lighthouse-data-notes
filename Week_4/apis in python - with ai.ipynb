{
 "cells": [
  {
   "cell_type": "markdown",
   "metadata": {},
   "source": [
    "\n",
    "\n",
    "Use ChatGPT to answer the following questions:\n",
    "\n",
    "    What are the most common methods of the requests library?"
   ]
  },
  {
   "cell_type": "markdown",
   "metadata": {},
   "source": [
    "The most common methods of the `requests` library in Python are:\n",
    "\n",
    "1. `requests.get(url, params, args)`: Sends a GET request to the specified URL. `params` is an optional argument to pass query parameters.\n",
    "\n",
    "2. `requests.post(url, data, json, args)`: Sends a POST request to the specified URL. `data` or `json` is used to send request data.\n",
    "\n",
    "3. `requests.put(url, data, args)`: Sends a PUT request to the specified URL. `data` is used to send request data.\n",
    "\n",
    "4. `requests.delete(url, args)`: Sends a DELETE request to the specified URL.\n",
    "\n",
    "5. `requests.head(url, args)`: Sends a HEAD request to the specified URL.\n",
    "\n",
    "6. `requests.patch(url, data, args)`: Sends a PATCH request to the specified URL. `data` is used to send request data.\n",
    "\n",
    "7. `requests.options(url, args)`: Sends an OPTIONS request to the specified URL.\n",
    "\n",
    "In all these methods, `args` is an optional dictionary of arguments to customize the request, such as headers, cookies, auth, and others."
   ]
  },
  {
   "cell_type": "markdown",
   "metadata": {},
   "source": [
    "\n",
    "    What are the attributes of a response?"
   ]
  },
  {
   "cell_type": "markdown",
   "metadata": {},
   "source": [
    "In the context of the `requests` library in Python, a `Response` object has several attributes. Here are some of the most commonly used ones:\n",
    "\n",
    "1. `Response.status_code`: This attribute gives the HTTP status code that was returned by the server. For example, 200 means 'OK', 404 means 'Not Found', etc.\n",
    "\n",
    "2. `Response.headers`: This attribute returns a dictionary of response headers.\n",
    "\n",
    "3. `Response.text`: This attribute gives the response body as a string.\n",
    "\n",
    "4. `Response.json()`: This method returns the JSON response body, parsed into a Python dictionary or list.\n",
    "\n",
    "5. `Response.content`: This attribute gives the response body as bytes.\n",
    "\n",
    "6. `Response.url`: This attribute gives the URL of the response.\n",
    "\n",
    "7. `Response.encoding`: This attribute gives the encoding used to decode `Response.content` into `Response.text`.\n",
    "\n",
    "8. `Response.cookies`: This attribute gives a `RequestsCookieJar` of cookies used in the response.\n",
    "\n",
    "9. `Response.elapsed`: This attribute gives the time elapsed between sending the request and receiving the response.\n",
    "\n",
    "10. `Response.ok`: This attribute gives a boolean indicating whether `Response.status_code` is less than 400.\n",
    "\n",
    "Remember, these attributes are accessed after making a request like `response = requests.get(url)`."
   ]
  },
  {
   "cell_type": "markdown",
   "metadata": {},
   "source": [
    "\n",
    "    What is the most common form of a response?\n",
    "   \n",
    "\n"
   ]
  },
  {
   "cell_type": "markdown",
   "metadata": {},
   "source": [
    "The most common form of a response when working with APIs in Python, especially when using the `requests` library, is a JSON (JavaScript Object Notation) response. JSON is a lightweight data-interchange format that is easy for humans to read and write and easy for machines to parse and generate. It is often used when data is sent from a server to a web page. \n",
    "\n",
    "In Python, you can use the `json()` method on the response object to parse the JSON response and convert it into a Python dictionary or list. For example:\n",
    "\n"
   ]
  },
  {
   "cell_type": "code",
   "execution_count": 1,
   "metadata": {},
   "outputs": [],
   "source": [
    "import requests\n",
    "\n",
    "response = requests.get('https://api.github.com')\n",
    "\n",
    "# Convert the response to JSON format\n",
    "data = response.json()"
   ]
  },
  {
   "cell_type": "markdown",
   "metadata": {},
   "source": [
    "\n",
    "\n",
    "In this code, `data` will be a Python dictionary containing the parsed JSON response."
   ]
  },
  {
   "cell_type": "markdown",
   "metadata": {},
   "source": []
  },
  {
   "cell_type": "markdown",
   "metadata": {},
   "source": []
  },
  {
   "cell_type": "markdown",
   "metadata": {},
   "source": []
  },
  {
   "cell_type": "markdown",
   "metadata": {},
   "source": [
    " How can I make a request to the following endpoint, without using a parameter dictionary, and check that it worked properly? https://reqres.in/api/users?page=1"
   ]
  },
  {
   "cell_type": "markdown",
   "metadata": {},
   "source": [
    "You can make a request to the endpoint without using a parameter dictionary by including the parameters directly in the URL. You can then check if the request worked properly by checking the status code of the response. A status code of 200 indicates that the request was successful. Here's how you can do it using the `requests` library in Python:\n",
    "\n"
   ]
  },
  {
   "cell_type": "code",
   "execution_count": 2,
   "metadata": {},
   "outputs": [
    {
     "name": "stdout",
     "output_type": "stream",
     "text": [
      "The request was successful.\n"
     ]
    }
   ],
   "source": [
    "import requests\n",
    "\n",
    "# Make a GET request to the endpoint\n",
    "response = requests.get('https://reqres.in/api/users?page=1')\n",
    "\n",
    "# Check if the request was successful\n",
    "if response.status_code == 200:\n",
    "    print(\"The request was successful.\")\n",
    "else:\n",
    "    print(\"The request failed.\")"
   ]
  },
  {
   "cell_type": "markdown",
   "metadata": {},
   "source": [
    "\n",
    "\n",
    "In this code, `requests.get('https://reqres.in/api/users?page=1')` makes a GET request to the endpoint. The `status_code` attribute of the response object is then checked to see if the request was successful."
   ]
  }
 ],
 "metadata": {
  "kernelspec": {
   "display_name": "base",
   "language": "python",
   "name": "python3"
  },
  "language_info": {
   "codemirror_mode": {
    "name": "ipython",
    "version": 3
   },
   "file_extension": ".py",
   "mimetype": "text/x-python",
   "name": "python",
   "nbconvert_exporter": "python",
   "pygments_lexer": "ipython3",
   "version": "3.11.5"
  }
 },
 "nbformat": 4,
 "nbformat_minor": 2
}

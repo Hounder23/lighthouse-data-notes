{
 "cells": [
  {
   "cell_type": "markdown",
   "metadata": {},
   "source": [
    "# HTML\n",
    "\n",
    "In this activity, we will learn how we can load HTML tables directly into Pandas, and learn the basics of web scraping which is a very popular way of data gathering.\n",
    "\n",
    "If a webpage (HTML) has a table inside, we can easily extract it with Pandas and requests."
   ]
  },
  {
   "cell_type": "code",
   "execution_count": 1,
   "metadata": {},
   "outputs": [],
   "source": [
    "import pandas as pd\n",
    "import requests"
   ]
  },
  {
   "cell_type": "markdown",
   "metadata": {},
   "source": [
    "We will work with the following URL https://www.worldcoinindex.com/\n",
    "Instruction\n",
    "\n",
    "Visit the URL in a browser and explore the source code. See if there are any <td> tags.\n",
    "\n",
    "Now, we will download the source code to Python."
   ]
  },
  {
   "cell_type": "code",
   "execution_count": 2,
   "metadata": {},
   "outputs": [
    {
     "data": {
      "text/plain": [
       "<Response [200]>"
      ]
     },
     "execution_count": 2,
     "metadata": {},
     "output_type": "execute_result"
    }
   ],
   "source": [
    "url = 'https://www.worldcoinindex.com/'\n",
    "crypto_url = requests.get(url)\n",
    "crypto_url"
   ]
  },
  {
   "cell_type": "markdown",
   "metadata": {},
   "source": [
    "We already talked about these responses in the APIs section. To take the body we need to take the attribute text."
   ]
  },
  {
   "cell_type": "code",
   "execution_count": 3,
   "metadata": {},
   "outputs": [],
   "source": [
    "body = crypto_url.text"
   ]
  },
  {
   "cell_type": "markdown",
   "metadata": {},
   "source": [
    "Body now consists of full HTML source code of our webpage. Now if the HTML source has a table which is marked by the HTML tag <table></table> (this tag is used for defining a table in HTML) Pandas uses read_html() to extract the table from the HTML document.\n",
    "\n",
    "Warning\n",
    "\n",
    "So, whenever you pass an HTML to pandas and expect it to output a nice looking data-frame, make sure the HTML page has a table in it!\n"
   ]
  },
  {
   "cell_type": "code",
   "execution_count": 4,
   "metadata": {},
   "outputs": [
    {
     "name": "stdout",
     "output_type": "stream",
     "text": [
      "<class 'list'>\n",
      "1\n"
     ]
    },
    {
     "name": "stderr",
     "output_type": "stream",
     "text": [
      "C:\\Users\\eddie\\AppData\\Local\\Temp\\ipykernel_9676\\4140079060.py:1: FutureWarning: Passing literal html to 'read_html' is deprecated and will be removed in a future version. To read from a literal string, wrap it in a 'StringIO' object.\n",
      "  crypto_data = pd.read_html(body)\n"
     ]
    }
   ],
   "source": [
    "crypto_data = pd.read_html(body)\n",
    "print(type(crypto_data))\n",
    "print(len(crypto_data))"
   ]
  },
  {
   "cell_type": "markdown",
   "metadata": {},
   "source": [
    "From the above output, it is clear that there is a list with one element which is our table. Therefore"
   ]
  },
  {
   "cell_type": "code",
   "execution_count": 5,
   "metadata": {},
   "outputs": [
    {
     "data": {
      "text/html": [
       "<div>\n",
       "<style scoped>\n",
       "    .dataframe tbody tr th:only-of-type {\n",
       "        vertical-align: middle;\n",
       "    }\n",
       "\n",
       "    .dataframe tbody tr th {\n",
       "        vertical-align: top;\n",
       "    }\n",
       "\n",
       "    .dataframe thead th {\n",
       "        text-align: right;\n",
       "    }\n",
       "</style>\n",
       "<table border=\"1\" class=\"dataframe\">\n",
       "  <thead>\n",
       "    <tr style=\"text-align: right;\">\n",
       "      <th></th>\n",
       "      <th>#</th>\n",
       "      <th>Unnamed: 1</th>\n",
       "      <th>Name</th>\n",
       "      <th>Ticker</th>\n",
       "      <th>Last price</th>\n",
       "      <th>%</th>\n",
       "      <th>24 high</th>\n",
       "      <th>24 low</th>\n",
       "      <th>Price Charts 7d</th>\n",
       "      <th>24 volume</th>\n",
       "      <th># Coins</th>\n",
       "      <th>Market cap</th>\n",
       "    </tr>\n",
       "  </thead>\n",
       "  <tbody>\n",
       "    <tr>\n",
       "      <th>0</th>\n",
       "      <td>1</td>\n",
       "      <td>NaN</td>\n",
       "      <td>Bitcoin</td>\n",
       "      <td>BTC</td>\n",
       "      <td>$ 60,617</td>\n",
       "      <td>+6.21%</td>\n",
       "      <td>$ 60,670</td>\n",
       "      <td>$ 56,725</td>\n",
       "      <td>NaN</td>\n",
       "      <td>$ 21.52B</td>\n",
       "      <td>19.64M</td>\n",
       "      <td>$ 1.19T</td>\n",
       "    </tr>\n",
       "    <tr>\n",
       "      <th>1</th>\n",
       "      <td>2</td>\n",
       "      <td>NaN</td>\n",
       "      <td>Ethereum</td>\n",
       "      <td>ETH</td>\n",
       "      <td>$ 3,347.25</td>\n",
       "      <td>+3.17%</td>\n",
       "      <td>$ 3,369.74</td>\n",
       "      <td>$ 3,232.46</td>\n",
       "      <td>NaN</td>\n",
       "      <td>$ 9.19B</td>\n",
       "      <td>122.37M</td>\n",
       "      <td>$ 409.61B</td>\n",
       "    </tr>\n",
       "    <tr>\n",
       "      <th>2</th>\n",
       "      <td>3</td>\n",
       "      <td>NaN</td>\n",
       "      <td>Solana</td>\n",
       "      <td>SOL</td>\n",
       "      <td>$ 111.41</td>\n",
       "      <td>+2.75%</td>\n",
       "      <td>$ 114.93</td>\n",
       "      <td>$ 107.39</td>\n",
       "      <td>NaN</td>\n",
       "      <td>$ 2.03B</td>\n",
       "      <td>424.35M</td>\n",
       "      <td>$ 47.27B</td>\n",
       "    </tr>\n",
       "    <tr>\n",
       "      <th>3</th>\n",
       "      <td>4</td>\n",
       "      <td>NaN</td>\n",
       "      <td>Ripple</td>\n",
       "      <td>XRP</td>\n",
       "      <td>$ 0.587722</td>\n",
       "      <td>+0.26%</td>\n",
       "      <td>$ 0.591746</td>\n",
       "      <td>$ 0.576145</td>\n",
       "      <td>NaN</td>\n",
       "      <td>$ 2.01B</td>\n",
       "      <td>54.59B</td>\n",
       "      <td>$ 32.08B</td>\n",
       "    </tr>\n",
       "    <tr>\n",
       "      <th>4</th>\n",
       "      <td>5</td>\n",
       "      <td>NaN</td>\n",
       "      <td>Pepe</td>\n",
       "      <td>PEPE</td>\n",
       "      <td>$ 0.000003</td>\n",
       "      <td>+15.94%</td>\n",
       "      <td>$ 0.000004</td>\n",
       "      <td>$ 0.000003</td>\n",
       "      <td>NaN</td>\n",
       "      <td>$ 1.75B</td>\n",
       "      <td>420.69T</td>\n",
       "      <td>$ 1.29B</td>\n",
       "    </tr>\n",
       "  </tbody>\n",
       "</table>\n",
       "</div>"
      ],
      "text/plain": [
       "   # Unnamed: 1      Name Ticker  Last price        %     24 high      24 low  \\\n",
       "0  1        NaN   Bitcoin    BTC    $ 60,617   +6.21%    $ 60,670    $ 56,725   \n",
       "1  2        NaN  Ethereum    ETH  $ 3,347.25   +3.17%  $ 3,369.74  $ 3,232.46   \n",
       "2  3        NaN    Solana    SOL    $ 111.41   +2.75%    $ 114.93    $ 107.39   \n",
       "3  4        NaN    Ripple    XRP  $ 0.587722   +0.26%  $ 0.591746  $ 0.576145   \n",
       "4  5        NaN      Pepe   PEPE  $ 0.000003  +15.94%  $ 0.000004  $ 0.000003   \n",
       "\n",
       "  Price Charts 7d 24 volume  # Coins Market cap  \n",
       "0             NaN  $ 21.52B   19.64M    $ 1.19T  \n",
       "1             NaN   $ 9.19B  122.37M  $ 409.61B  \n",
       "2             NaN   $ 2.03B  424.35M   $ 47.27B  \n",
       "3             NaN   $ 2.01B   54.59B   $ 32.08B  \n",
       "4             NaN   $ 1.75B  420.69T    $ 1.29B  "
      ]
     },
     "execution_count": 5,
     "metadata": {},
     "output_type": "execute_result"
    }
   ],
   "source": [
    "crypto_data = crypto_data[0]\n",
    "crypto_data.head()"
   ]
  },
  {
   "cell_type": "markdown",
   "metadata": {},
   "source": [
    "## What if there is no table in HTML?\n",
    "\n",
    "If we want to extract information from HTML, which doesn't have a table, we need to use a different approach: Scraping. Fortunately, Python has a great package for this called Beautiful Soup.\n",
    "Instruction\n",
    "\n",
    "For a simple scraping tutorial, follow the instructions in this resource from DataQuest.\n"
   ]
  }
 ],
 "metadata": {
  "kernelspec": {
   "display_name": "base",
   "language": "python",
   "name": "python3"
  },
  "language_info": {
   "codemirror_mode": {
    "name": "ipython",
    "version": 3
   },
   "file_extension": ".py",
   "mimetype": "text/x-python",
   "name": "python",
   "nbconvert_exporter": "python",
   "pygments_lexer": "ipython3",
   "version": "3.11.5"
  }
 },
 "nbformat": 4,
 "nbformat_minor": 2
}
